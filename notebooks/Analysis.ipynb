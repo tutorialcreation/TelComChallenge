{
 "cells": [
  {
   "cell_type": "markdown",
   "id": "18a5ed5b",
   "metadata": {},
   "source": [
    "## Telecom User Data Analysis"
   ]
  },
  {
   "cell_type": "markdown",
   "id": "ba2aeb8c",
   "metadata": {},
   "source": [
    "### Libraries"
   ]
  },
  {
   "cell_type": "code",
   "execution_count": null,
   "id": "9715a0c5",
   "metadata": {},
   "outputs": [],
   "source": [
    "import warnings\n",
    "warnings.filterwarnings('ignore')\n",
    "import matplotlib.pyplot as plt\n",
    "import pandas as pd\n",
    "from functools import reduce\n",
    "from sklearn.impute import SimpleImputer\n",
    "from sklearn.decomposition import PCA\n",
    "from sklearn.preprocessing import OneHotEncoder, MinMaxScaler\n",
    "from sklearn.pipeline import Pipeline\n",
    "from sklearn.model_selection import train_test_split\n",
    "from sklearn.compose import ColumnTransformer\n",
    "from statistics import mean\n",
    "from pandas_profiling import ProfileReport\n",
    "import numpy as np\n",
    "import json\n",
    "import datetime\n",
    "import math\n",
    "import statsmodels.api as sm\n",
    "\n",
    "from datetime import timedelta, datetime\n",
    "\n",
    "import matplotlib.mlab as mlab\n",
    "import matplotlib\n",
    "plt.style.use('ggplot')\n",
    "from matplotlib.pyplot import figure\n",
    "\n",
    "%matplotlib inline\n",
    "matplotlib.rcParams['figure.figsize'] = (12,8)\n",
    "\n",
    "pd.options.mode.chained_assignment = None\n",
    "\n",
    "import seaborn as sns\n"
   ]
  },
  {
   "cell_type": "markdown",
   "id": "d2d68c7d",
   "metadata": {},
   "source": [
    "### Data Preprocessing"
   ]
  },
  {
   "cell_type": "code",
   "execution_count": null,
   "id": "a9c692f3",
   "metadata": {},
   "outputs": [],
   "source": [
    "df = pd.read_csv(\"../data/telcom.csv\")"
   ]
  },
  {
   "cell_type": "code",
   "execution_count": null,
   "id": "31034e04",
   "metadata": {},
   "outputs": [],
   "source": [
    "df.head()"
   ]
  },
  {
   "cell_type": "code",
   "execution_count": null,
   "id": "b7bf356f",
   "metadata": {},
   "outputs": [],
   "source": []
  },
  {
   "cell_type": "code",
   "execution_count": null,
   "id": "08890c73",
   "metadata": {},
   "outputs": [],
   "source": []
  },
  {
   "cell_type": "code",
   "execution_count": null,
   "id": "1414aa0e",
   "metadata": {},
   "outputs": [],
   "source": [
    "### Check for sufficiency of data to answer objectives by reviewing the objective and \n",
    "### available data. And check the number of observations and required sample size."
   ]
  },
  {
   "cell_type": "code",
   "execution_count": null,
   "id": "71bb9785",
   "metadata": {},
   "outputs": [],
   "source": [
    "# generate pipelines\n",
    "def generate_pipeline(type_=\"numeric\",x=1):\n",
    "    pipeline = None\n",
    "    if type_ == \"numeric\":\n",
    "        pipeline = Pipeline(steps=[\n",
    "            ('impute', SimpleImputer(strategy='mean')),\n",
    "            ('scale', MinMaxScaler())\n",
    "        ])\n",
    "    elif type_ == \"categorical\":\n",
    "        pipeline = Pipeline(steps=[\n",
    "        ('impute', SimpleImputer(strategy='most_frequent')),\n",
    "        ('one-hot', OneHotEncoder(handle_unknown='ignore', sparse=False))\n",
    "        ])\n",
    "    else:\n",
    "        pipeline = np.zeros(x)\n",
    "    return pipeline\n",
    "\n"
   ]
  },
  {
   "cell_type": "code",
   "execution_count": null,
   "id": "5768bb17",
   "metadata": {},
   "outputs": [],
   "source": [
    "# test pipeline\n",
    "numeric_pipeline = generate_pipeline(\"numeric\")\n",
    "assert isinstance(numeric_pipeline,Pipeline)"
   ]
  },
  {
   "cell_type": "code",
   "execution_count": null,
   "id": "28fe8b26",
   "metadata": {},
   "outputs": [],
   "source": [
    "categorical_pipeline = generate_pipeline(\"categorical\")\n",
    "assert isinstance(numeric_pipeline,Pipeline)"
   ]
  },
  {
   "cell_type": "code",
   "execution_count": null,
   "id": "96f6cdc4",
   "metadata": {},
   "outputs": [],
   "source": [
    "def store_features(df,type_,value):\n",
    "    features = [None]\n",
    "    if type_ == \"numeric\":\n",
    "        features = df.select_dtypes(include=value).columns.tolist()\n",
    "    elif type_ == \"categorical\":\n",
    "        features = df.select_dtypes(exclude=value).columns.tolist()\n",
    "    return features\n"
   ]
  },
  {
   "cell_type": "code",
   "execution_count": null,
   "id": "fdef9323",
   "metadata": {},
   "outputs": [],
   "source": [
    "categorical_features = store_features(df,\"categorical\",\"number\")"
   ]
  },
  {
   "cell_type": "code",
   "execution_count": null,
   "id": "39b98127",
   "metadata": {},
   "outputs": [],
   "source": [
    "# testing function\n",
    "numerical_features = store_features(df,\"numeric\",\"number\")"
   ]
  },
  {
   "cell_type": "code",
   "execution_count": null,
   "id": "b9145a29",
   "metadata": {},
   "outputs": [],
   "source": [
    "len(numerical_features)"
   ]
  },
  {
   "cell_type": "code",
   "execution_count": null,
   "id": "5dbbb149",
   "metadata": {},
   "outputs": [],
   "source": [
    "assert len(numerical_features)>0"
   ]
  },
  {
   "cell_type": "code",
   "execution_count": null,
   "id": "d0eae847",
   "metadata": {},
   "outputs": [],
   "source": [
    "### checking for duplicates"
   ]
  },
  {
   "cell_type": "code",
   "execution_count": null,
   "id": "163289f1",
   "metadata": {},
   "outputs": [],
   "source": [
    "def generate_transformation(pipeline,df,type_,value):\n",
    "    transformation = None\n",
    "    if type_==\"numeric\":\n",
    "        transformation=pipeline.fit_transform(df.select_dtypes(include=value))\n",
    "    elif type_ == \"categorical\":\n",
    "        transformation=pipeline.fit_transform(df.select_dtypes(exclude=value))\n",
    "    return transformation"
   ]
  },
  {
   "cell_type": "code",
   "execution_count": null,
   "id": "cbb0ddc9",
   "metadata": {},
   "outputs": [],
   "source": [
    "def frame_transforms(transform,features):\n",
    "    return pd.DataFrame(transform,columns=features)"
   ]
  },
  {
   "cell_type": "code",
   "execution_count": null,
   "id": "5331ee40",
   "metadata": {},
   "outputs": [],
   "source": [
    "def handle_missing_values_numeric(df,features):\n",
    "    \"\"\"\n",
    "    this algorithm does the following\n",
    "    - remove columns with x percentage of missing values\n",
    "    - fill the missing values with the mean\n",
    "    returns:\n",
    "        - df\n",
    "        - percentage of missing values\n",
    "    \"\"\"\n",
    "    missing_percentage = round((df.isnull().sum().sum()/\\\n",
    "            reduce(lambda x, y: x*y, df.shape))*100,2)\n",
    "    for key in features:\n",
    "        df[key] = df[key].fillna(df[key].mean())\n",
    "    return missing_percentage, df"
   ]
  },
  {
   "cell_type": "code",
   "execution_count": null,
   "id": "d46c8ad4",
   "metadata": {},
   "outputs": [],
   "source": [
    "handle_missing_values_numeric(df,numerical_features)"
   ]
  },
  {
   "cell_type": "code",
   "execution_count": null,
   "id": "f06f6bd3",
   "metadata": {},
   "outputs": [],
   "source": [
    "def handle_missing_values_categorical(df,features):\n",
    "    \"\"\"\n",
    "    this algorithm does the following\n",
    "    - remove columns with x percentage of missing values\n",
    "    - fill the missing values with the mode\n",
    "    returns:\n",
    "        - df\n",
    "        - percentage of missing values\n",
    "    \"\"\"\n",
    "    missing_percentage = round((df.isnull().sum().sum()/\\\n",
    "            reduce(lambda x, y: x*y, df.shape))*100,2)\n",
    "    for key in features:\n",
    "        df[key] = df[key].fillna(df[key].mode()[0])\n",
    "    return missing_percentage, df"
   ]
  },
  {
   "cell_type": "code",
   "execution_count": null,
   "id": "497fe2b2",
   "metadata": {},
   "outputs": [],
   "source": [
    "handle_missing_values_categorical(df,categorical_features)"
   ]
  },
  {
   "cell_type": "code",
   "execution_count": null,
   "id": "5991118e",
   "metadata": {},
   "outputs": [],
   "source": [
    "# test transformations\n",
    "numeric_transformation = generate_transformation(numeric_pipeline,df,\"numeric\",\"number\")"
   ]
  },
  {
   "cell_type": "code",
   "execution_count": null,
   "id": "80ce7087",
   "metadata": {},
   "outputs": [],
   "source": [
    "numeric_df = frame_transforms(numeric_transformation,numerical_features)"
   ]
  },
  {
   "cell_type": "code",
   "execution_count": null,
   "id": "9ee536fa",
   "metadata": {},
   "outputs": [],
   "source": [
    "def split_data(df,response_variable,split_ratio,get):\n",
    "    X = df.drop(response_variable, axis=1)\n",
    "    y = df[response_variable]\n",
    "    X_train, X_test, y_train, y_test = train_test_split(X, y, test_size=split_ratio, \n",
    "                                                    random_state=1121218)\n",
    "    if get == \"X_train\":\n",
    "        return X_train\n",
    "    elif get == \"X_test\":\n",
    "        return X_test\n",
    "    elif get == \"y_train\":\n",
    "        return y_train\n",
    "    else:\n",
    "        return y_test\n",
    "    \n",
    "    "
   ]
  },
  {
   "cell_type": "code",
   "execution_count": null,
   "id": "904fdc10",
   "metadata": {},
   "outputs": [],
   "source": [
    "numeric_transformation_ = generate_transformation(numeric_pipeline,\n",
    "                                                 pd.DataFrame(split_data(df,\"Total DL (Bytes)\",0.3,\"X_train\")),\n",
    "                                                 \"numeric\",\"number\")"
   ]
  },
  {
   "cell_type": "code",
   "execution_count": null,
   "id": "bb3c470e",
   "metadata": {},
   "outputs": [],
   "source": [
    "### Check for column organization and naming and correct them."
   ]
  },
  {
   "cell_type": "code",
   "execution_count": null,
   "id": "87b4e7da",
   "metadata": {},
   "outputs": [],
   "source": []
  },
  {
   "cell_type": "code",
   "execution_count": null,
   "id": "084a0d6d",
   "metadata": {},
   "outputs": [],
   "source": [
    "### Check for missing values and either fill them with a value that will, in no way, \n",
    "### affect the analysis or remove the record."
   ]
  },
  {
   "cell_type": "code",
   "execution_count": null,
   "id": "13db3d3f",
   "metadata": {},
   "outputs": [],
   "source": [
    "def top_x_column(df, x, column,color,online=False):\n",
    "    handsets_df = pd.DataFrame(columns = [column])\n",
    "    handsets_df['type'] = df[column].to_list()\n",
    "    handsets = handsets_df['type'].value_counts()\n",
    "    fig,ax = plt.subplots()\n",
    "    ax.tick_params(axis='x',labelsize=10)\n",
    "    ax.tick_params(axis='y',labelsize=10)\n",
    "    ax.set_xlabel(column)\n",
    "    ax.set_ylabel(\"Frequency\")\n",
    "    ax.set_title(f\"The {x} Most Frequent {column}\")\n",
    "    handsets[:x].plot(ax=ax,kind='bar',color=color)\n",
    "    handset_counts = handsets.to_dict()\n",
    "    top_x = list(handset_counts.keys())\n",
    "    if online:\n",
    "        return fig,top_x[:x]\n",
    "    else:\n",
    "        return top_x[:x]\n",
    "    "
   ]
  },
  {
   "cell_type": "code",
   "execution_count": null,
   "id": "5edabd74",
   "metadata": {},
   "outputs": [],
   "source": [
    "# identifying the top 10 handsets used by the customers.\n",
    "values = top_x_column(df,10,\"Handset Manufacturer\",\"purple\")"
   ]
  },
  {
   "cell_type": "code",
   "execution_count": null,
   "id": "28ce8976",
   "metadata": {},
   "outputs": [],
   "source": [
    "values = top_x_column(df,3,\"Handset Type\",\"green\")"
   ]
  },
  {
   "cell_type": "code",
   "execution_count": null,
   "id": "0a0fb782",
   "metadata": {},
   "outputs": [],
   "source": [
    "values"
   ]
  },
  {
   "cell_type": "code",
   "execution_count": null,
   "id": "e9274fb6",
   "metadata": {},
   "outputs": [],
   "source": [
    "# Identify the top 5 handsets per top 3 handset manufacturer\n",
    "def top_x_by_y_cols(df,col_1,col_2,x,y):\n",
    "    result_df = []\n",
    "    by_manufacture = df.groupby(col_1,sort=True)\n",
    "    values = top_x_column(df,x,col_1,\"purple\")\n",
    "\n",
    "\n",
    "    for manufacturer, frame in by_manufacture:\n",
    "        if manufacturer in values:\n",
    "            result_df.append(frame.sort_values(by=[col_2], ascending=True)[col_2].head(5))\n",
    "    return result_df\n",
    "    "
   ]
  },
  {
   "cell_type": "code",
   "execution_count": null,
   "id": "cb542d3e",
   "metadata": {},
   "outputs": [],
   "source": [
    "top_x_by_y_cols(df,'Handset Manufacturer','Handset Type',3,5)"
   ]
  },
  {
   "cell_type": "code",
   "execution_count": null,
   "id": "f7ab3e65",
   "metadata": {},
   "outputs": [],
   "source": [
    "# Aggregation per user the following information in the column  \n",
    "# number of xDR sessions\n",
    "# Session duration\n",
    "# the total download (DL) and upload (UL) data\n",
    "# the total data volume (in Bytes) during this session for each application\n",
    "\n",
    "\n",
    "def aggregation_cols(df,col_1,col_2,trim=False):\n",
    "    \n",
    "    grouped = df.groupby(col_1).agg({col_2: [min, max, mean]}) \n",
    "    grouped.columns = [\"_\".join(x) for x in grouped.columns.ravel()]\n",
    "    if trim:\n",
    "        return grouped.describe()\n",
    "    return grouped"
   ]
  },
  {
   "cell_type": "code",
   "execution_count": null,
   "id": "d2a3b580",
   "metadata": {},
   "outputs": [],
   "source": [
    "aggregation_cols(df,'MSISDN/Number','Bearer Id',True)"
   ]
  },
  {
   "cell_type": "code",
   "execution_count": null,
   "id": "e944dbfc",
   "metadata": {},
   "outputs": [],
   "source": [
    "aggregation_cols(df,'MSISDN/Number',\"Dur. (ms)\",True)"
   ]
  },
  {
   "cell_type": "code",
   "execution_count": null,
   "id": "3af9ea9c",
   "metadata": {},
   "outputs": [],
   "source": [
    "aggregation_cols(df,'MSISDN/Number','Total UL (Bytes)',True)"
   ]
  },
  {
   "cell_type": "code",
   "execution_count": null,
   "id": "ddea9dde",
   "metadata": {},
   "outputs": [],
   "source": [
    "aggregation_cols(df,'MSISDN/Number','Total DL (Bytes)',True)"
   ]
  },
  {
   "cell_type": "markdown",
   "id": "d00fdd68",
   "metadata": {},
   "source": [
    "## EDA Analysis"
   ]
  },
  {
   "cell_type": "code",
   "execution_count": null,
   "id": "b93bb9d5",
   "metadata": {},
   "outputs": [],
   "source": [
    "#Describe all  relevant variables and associated data types\n",
    "# Analyze the basic metrics (mean, median, etc) in the Dataset (explain) & \n",
    "# their importance for the global objective.\n",
    "# Conduct a Non-Graphical Univariate Analysis by computing dispersion parameters \n",
    "# for each quantitative variable and provide useful interpretation.\n",
    "\n",
    "def non_graphical_analysis(df,features,type_,opt,x_=1,y_=1):\n",
    "    result = None\n",
    "    if type_ == \"univariate\":\n",
    "        for i,key in enumerate(features):\n",
    "            if i == x_:\n",
    "                result = pd.DataFrame(df[key].describe())\n",
    "    elif type_ == \"bivariate\":\n",
    "        for i,key in enumerate(features):\n",
    "            if i == x_:\n",
    "                if opt==\"regression\":\n",
    "                    y = df[features[y_]]\n",
    "                    x = df[[key]]\n",
    "                    x = sm.add_constant(x)\n",
    "                    model = sm.OLS(y, x).fit()\n",
    "                    result =  model.summary()\n",
    "                elif opt==\"corr\":\n",
    "                    result = pd.DataFrame(df[[key,features[y_]]].corr())\n",
    "    elif type_ == \"multivariate\":\n",
    "        result = pd.DataFrame(df[features].corr())\n",
    "    return result\n",
    "        "
   ]
  },
  {
   "cell_type": "code",
   "execution_count": null,
   "id": "3ed53385",
   "metadata": {},
   "outputs": [],
   "source": [
    "non_graphical_analysis(numeric_df,numerical_features,\"univariate\",1)"
   ]
  },
  {
   "cell_type": "code",
   "execution_count": null,
   "id": "ea756c73",
   "metadata": {},
   "outputs": [],
   "source": [
    "non_graphical_analysis(numeric_df,numerical_features,\"univariate\",2)"
   ]
  },
  {
   "cell_type": "code",
   "execution_count": null,
   "id": "94a0339e",
   "metadata": {},
   "outputs": [],
   "source": [
    "non_graphical_analysis(numeric_df,numerical_features,\"univariate\",3)"
   ]
  },
  {
   "cell_type": "code",
   "execution_count": null,
   "id": "5bb09cb7",
   "metadata": {},
   "outputs": [],
   "source": [
    "non_graphical_analysis(numeric_df,numerical_features,\"bivariate\",\"regression\",36,49)"
   ]
  },
  {
   "cell_type": "code",
   "execution_count": null,
   "id": "b7412149",
   "metadata": {},
   "outputs": [],
   "source": [
    "non_graphical_analysis(numeric_df,numerical_features,\"bivariate\",\"corr\",1,4)"
   ]
  },
  {
   "cell_type": "code",
   "execution_count": null,
   "id": "e1cbe3ba",
   "metadata": {},
   "outputs": [],
   "source": [
    "# Conduct a Graphical Univariate Analysis by identifying the most suitable plotting options \n",
    "# for each variable and interpret your findings.\n",
    "\n",
    "def graphical_analysis(df,features,type_,opt,x=1,y=1):\n",
    "    result = None\n",
    "    if type_ == \"univariate\":\n",
    "        for i,key in enumerate(features):\n",
    "            if i == x:\n",
    "                if opt == 'box':\n",
    "                    return df.boxplot(column=[key], grid=False, color='black')\n",
    "                elif opt == 'hist':\n",
    "                    return df.hist(column=[key], grid=False, edgecolor='black')\n",
    "                elif opt == 'curve':\n",
    "                    return sns.kdeplot(df[key])\n",
    "    if type_ == \"bivariate\":\n",
    "        for i,key in enumerate(features):\n",
    "            if i == x:\n",
    "                if opt == \"scatter\":\n",
    "                    plt.scatter(df[features[x]], df[features[y]])\n",
    "                    plt.title(f'{features[x]} vs {features[y]}')\n",
    "                    plt.xlabel(f'{features[x]}')\n",
    "                    plt.ylabel(f'{features[y]}')\n",
    "                \n",
    "    "
   ]
  },
  {
   "cell_type": "code",
   "execution_count": null,
   "id": "83598e41",
   "metadata": {},
   "outputs": [],
   "source": []
  },
  {
   "cell_type": "code",
   "execution_count": null,
   "id": "3b247d3d",
   "metadata": {},
   "outputs": [],
   "source": [
    "graphical_analysis(numeric_df,numerical_features,\"univariate\",\"hist\",x=1)"
   ]
  },
  {
   "cell_type": "code",
   "execution_count": null,
   "id": "85ec3807",
   "metadata": {},
   "outputs": [],
   "source": [
    "graphical_analysis(numeric_df,numerical_features,\"univariate\",\"hist\",x=2)"
   ]
  },
  {
   "cell_type": "code",
   "execution_count": null,
   "id": "cd0be24c",
   "metadata": {},
   "outputs": [],
   "source": [
    "graphical_analysis(numeric_df,numerical_features,\"univariate\",\"hist\",x=3)"
   ]
  },
  {
   "cell_type": "code",
   "execution_count": null,
   "id": "903ee987",
   "metadata": {},
   "outputs": [],
   "source": [
    "graphical_analysis(numeric_df,numerical_features,\"univariate\",\"box\",1)"
   ]
  },
  {
   "cell_type": "code",
   "execution_count": null,
   "id": "0897600b",
   "metadata": {},
   "outputs": [],
   "source": [
    "graphical_analysis(numeric_df,numerical_features,\"univariate\",\"box\",x=2)"
   ]
  },
  {
   "cell_type": "code",
   "execution_count": null,
   "id": "d7f7e3ca",
   "metadata": {},
   "outputs": [],
   "source": [
    "graphical_analysis(numeric_df,numerical_features,\"univariate\",\"box\",x=3)"
   ]
  },
  {
   "cell_type": "code",
   "execution_count": null,
   "id": "e33e8200",
   "metadata": {},
   "outputs": [],
   "source": [
    "graphical_analysis(numeric_df,numerical_features,\"univariate\",\"box\",x=4)"
   ]
  },
  {
   "cell_type": "code",
   "execution_count": null,
   "id": "a9ab0cc5",
   "metadata": {},
   "outputs": [],
   "source": [
    "graphical_analysis(numeric_df,numerical_features,\"univariate\",\"curve\",x=1)"
   ]
  },
  {
   "cell_type": "code",
   "execution_count": null,
   "id": "043bd44d",
   "metadata": {},
   "outputs": [],
   "source": [
    "graphical_analysis(numeric_df,numerical_features,\"univariate\",\"curve\",x=2)"
   ]
  },
  {
   "cell_type": "code",
   "execution_count": null,
   "id": "0d973564",
   "metadata": {},
   "outputs": [],
   "source": [
    "graphical_analysis(numeric_df,numerical_features,\"univariate\",\"curve\",x=3)"
   ]
  },
  {
   "cell_type": "code",
   "execution_count": null,
   "id": "783f7265",
   "metadata": {},
   "outputs": [],
   "source": [
    "graphical_analysis(numeric_df,numerical_features,\"univariate\",\"curve\",x=4)"
   ]
  },
  {
   "cell_type": "code",
   "execution_count": null,
   "id": "a232edcc",
   "metadata": {},
   "outputs": [],
   "source": [
    "# Bivariate Analysis – explore the relationship between each application & \n",
    "# the total DL+UL data using appropriate methods and interpret your findings. \n",
    "graphical_analysis(numeric_df,numerical_features,\"bivariate\",\"scatter\",x=34,y=49)"
   ]
  },
  {
   "cell_type": "code",
   "execution_count": null,
   "id": "c01fad2a",
   "metadata": {},
   "outputs": [],
   "source": [
    "graphical_analysis(numeric_df,numerical_features,\"bivariate\",\"scatter\",x=36,y=49)"
   ]
  },
  {
   "cell_type": "code",
   "execution_count": null,
   "id": "d9134868",
   "metadata": {},
   "outputs": [],
   "source": [
    "graphical_analysis(numeric_df,numerical_features,\"bivariate\",\"scatter\",x=37,y=49)"
   ]
  },
  {
   "cell_type": "code",
   "execution_count": null,
   "id": "4316790d",
   "metadata": {},
   "outputs": [],
   "source": [
    "# Correlation Analysis – compute a correlation matrix for the following variables and interpret your \n",
    "# findings: Social Media data, Google data, Email data, Youtube data, Netflix data, Gaming data, Other data \n",
    "non_graphical_analysis(numeric_df,numerical_features,\"multivariate\",1,4)"
   ]
  },
  {
   "cell_type": "code",
   "execution_count": null,
   "id": "f64611be",
   "metadata": {},
   "outputs": [],
   "source": [
    "# pca analysis\n",
    "def setup_pca(data,n):\n",
    "    pca = PCA(n)\n",
    "    x_ = pca.fit_transform(data)\n",
    "    return x_, pca"
   ]
  },
  {
   "cell_type": "code",
   "execution_count": null,
   "id": "ed7af313",
   "metadata": {},
   "outputs": [],
   "source": [
    "def pca_analysis(df,features,no,x_,component):\n",
    "    for i,key in enumerate(features):\n",
    "        if i==x_:\n",
    "            train = generate_transformation(numeric_pipeline,\n",
    "                                         pd.DataFrame(split_data(df,key,0.3,\"X_train\")),\n",
    "                                         \"numeric\",\"number\")\n",
    "            test = generate_transformation(numeric_pipeline,\n",
    "                                             pd.DataFrame(split_data(df,key,0.3,\"X_test\")),\n",
    "                                             \"numeric\",\"number\")\n",
    "            pca_train_results, pca_train = setup_pca(train, no)\n",
    "            pca_test_results, pca_test = setup_pca(test, no)\n",
    "            names_pcas = [f\"PCA Component {i}\" for i in range(1, 11, 1)]\n",
    "            scree = pd.DataFrame(list(zip(names_pcas, pca_train.explained_variance_ratio_)), columns=[\"Component\", \"Explained Variance Ratio\"])\n",
    "            d = {'PCA':pca_train.components_[component], 'Variable Names':numerical_features[:x_]}\n",
    "            df = pd.DataFrame(dict([ (k,pd.Series(v)) for k,v in d.items() ]))            \n",
    "            df = df.sort_values('PCA', ascending=False)\n",
    "            df2 = pd.DataFrame(df)\n",
    "            df2['PCA']=df2['PCA'].apply(np.absolute)\n",
    "            df2 = df2.sort_values('PCA', ascending=False)\n",
    "            return df2\n",
    "    return"
   ]
  },
  {
   "cell_type": "code",
   "execution_count": null,
   "id": "d746d1af",
   "metadata": {},
   "outputs": [],
   "source": [
    "pca_analysis(numeric_df,numerical_features,10,49,1)"
   ]
  },
  {
   "cell_type": "code",
   "execution_count": null,
   "id": "fc1530f1",
   "metadata": {},
   "outputs": [],
   "source": [
    "pca_analysis(numeric_df,numerical_features,10,48,1)"
   ]
  },
  {
   "cell_type": "code",
   "execution_count": null,
   "id": "75a7620f",
   "metadata": {},
   "outputs": [],
   "source": [
    "pca_analysis(numeric_df,numerical_features,10,47,1)"
   ]
  },
  {
   "cell_type": "code",
   "execution_count": null,
   "id": "ac800507",
   "metadata": {},
   "outputs": [],
   "source": [
    "pca_analysis(numeric_df,numerical_features,10,34,1)"
   ]
  },
  {
   "cell_type": "code",
   "execution_count": null,
   "id": "789e4075",
   "metadata": {},
   "outputs": [],
   "source": [
    "def categorize_based_on_deciles(df,features,x_):\n",
    "    for i,key in enumerate(features):\n",
    "        if i==x_:\n",
    "            df['decile_rank'] = pd.qcut(df[key], 10,labels = False)\n",
    "            return df.groupby(['decile_rank']).sum()\n",
    "    return"
   ]
  },
  {
   "cell_type": "code",
   "execution_count": null,
   "id": "53e79412",
   "metadata": {},
   "outputs": [],
   "source": [
    "categorize_based_on_deciles(numeric_df,numerical_features,39)"
   ]
  },
  {
   "cell_type": "code",
   "execution_count": null,
   "id": "79da90e1",
   "metadata": {},
   "outputs": [],
   "source": [
    "categorize_based_on_deciles(numeric_df,numerical_features,49)"
   ]
  },
  {
   "cell_type": "code",
   "execution_count": null,
   "id": "3ec327ae",
   "metadata": {},
   "outputs": [],
   "source": [
    "categorize_based_on_deciles(numeric_df,numerical_features,34)"
   ]
  },
  {
   "cell_type": "code",
   "execution_count": null,
   "id": "5b284d37",
   "metadata": {},
   "outputs": [],
   "source": [
    "def fixing_outliers(df, column):\n",
    "    df[column] = np.where(df[column] > df[column].quantile(0.95), \n",
    "                          df[column].median(),df[column])\n",
    "    \n",
    "    return df[column]\n"
   ]
  },
  {
   "cell_type": "code",
   "execution_count": null,
   "id": "950963ae",
   "metadata": {},
   "outputs": [],
   "source": [
    "numeric_df[\"Start ms\"] = fixing_outliers(numeric_df, \"Start ms\")"
   ]
  },
  {
   "cell_type": "code",
   "execution_count": null,
   "id": "e2740d73",
   "metadata": {},
   "outputs": [],
   "source": []
  }
 ],
 "metadata": {
  "kernelspec": {
   "display_name": "Python 3 (ipykernel)",
   "language": "python",
   "name": "python3"
  },
  "language_info": {
   "codemirror_mode": {
    "name": "ipython",
    "version": 3
   },
   "file_extension": ".py",
   "mimetype": "text/x-python",
   "name": "python",
   "nbconvert_exporter": "python",
   "pygments_lexer": "ipython3",
   "version": "3.7.9"
  }
 },
 "nbformat": 4,
 "nbformat_minor": 5
}
