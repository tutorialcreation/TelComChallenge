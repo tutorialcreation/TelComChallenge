{
 "cells": [
  {
   "cell_type": "markdown",
   "id": "18a5ed5b",
   "metadata": {},
   "source": [
    "## Telecom User Data Analysis"
   ]
  },
  {
   "cell_type": "markdown",
   "id": "ba2aeb8c",
   "metadata": {},
   "source": [
    "### Libraries"
   ]
  },
  {
   "cell_type": "code",
   "execution_count": 28,
   "id": "9715a0c5",
   "metadata": {},
   "outputs": [],
   "source": [
    "import warnings\n",
    "warnings.filterwarnings('ignore')\n",
    "import matplotlib.pyplot as plt\n",
    "import pandas as pd\n",
    "from functools import reduce\n",
    "from sklearn.impute import SimpleImputer\n",
    "from sklearn.preprocessing import OneHotEncoder, MinMaxScaler\n",
    "from sklearn.pipeline import Pipeline\n",
    "from sklearn.model_selection import train_test_split\n",
    "from sklearn.compose import ColumnTransformer\n",
    "from statistics import mean\n",
    "from pandas_profiling import ProfileReport\n",
    "import numpy as np"
   ]
  },
  {
   "cell_type": "markdown",
   "id": "d2d68c7d",
   "metadata": {},
   "source": [
    "### Data Preprocessing"
   ]
  },
  {
   "cell_type": "code",
   "execution_count": 2,
   "id": "10b85937",
   "metadata": {},
   "outputs": [],
   "source": [
    "df = pd.read_excel(\"../data/telcom.xlsx\",engine='openpyxl')"
   ]
  },
  {
   "cell_type": "code",
   "execution_count": null,
   "id": "b6072dce",
   "metadata": {},
   "outputs": [],
   "source": []
  },
  {
   "cell_type": "code",
   "execution_count": 118,
   "id": "31034e04",
   "metadata": {},
   "outputs": [
    {
     "data": {
      "text/html": [
       "<div>\n",
       "<style scoped>\n",
       "    .dataframe tbody tr th:only-of-type {\n",
       "        vertical-align: middle;\n",
       "    }\n",
       "\n",
       "    .dataframe tbody tr th {\n",
       "        vertical-align: top;\n",
       "    }\n",
       "\n",
       "    .dataframe thead th {\n",
       "        text-align: right;\n",
       "    }\n",
       "</style>\n",
       "<table border=\"1\" class=\"dataframe\">\n",
       "  <thead>\n",
       "    <tr style=\"text-align: right;\">\n",
       "      <th></th>\n",
       "      <th>Bearer Id</th>\n",
       "      <th>Start</th>\n",
       "      <th>Start ms</th>\n",
       "      <th>End</th>\n",
       "      <th>End ms</th>\n",
       "      <th>Dur. (ms)</th>\n",
       "      <th>IMSI</th>\n",
       "      <th>MSISDN/Number</th>\n",
       "      <th>IMEI</th>\n",
       "      <th>Last Location Name</th>\n",
       "      <th>...</th>\n",
       "      <th>Youtube DL (Bytes)</th>\n",
       "      <th>Youtube UL (Bytes)</th>\n",
       "      <th>Netflix DL (Bytes)</th>\n",
       "      <th>Netflix UL (Bytes)</th>\n",
       "      <th>Gaming DL (Bytes)</th>\n",
       "      <th>Gaming UL (Bytes)</th>\n",
       "      <th>Other DL (Bytes)</th>\n",
       "      <th>Other UL (Bytes)</th>\n",
       "      <th>Total UL (Bytes)</th>\n",
       "      <th>Total DL (Bytes)</th>\n",
       "    </tr>\n",
       "  </thead>\n",
       "  <tbody>\n",
       "    <tr>\n",
       "      <th>0</th>\n",
       "      <td>13114483460844900352</td>\n",
       "      <td>2019-04-04 12:01:18</td>\n",
       "      <td>770.0</td>\n",
       "      <td>2019-04-25 14:35:31</td>\n",
       "      <td>662.0</td>\n",
       "      <td>1823652.0</td>\n",
       "      <td>2.082014e+14</td>\n",
       "      <td>3.366496e+10</td>\n",
       "      <td>3.552121e+13</td>\n",
       "      <td>9164566995485190</td>\n",
       "      <td>...</td>\n",
       "      <td>15854611.0</td>\n",
       "      <td>2501332.0</td>\n",
       "      <td>8198936.0</td>\n",
       "      <td>9656251.0</td>\n",
       "      <td>278082303.0</td>\n",
       "      <td>14344150.0</td>\n",
       "      <td>171744450.0</td>\n",
       "      <td>8814393.0</td>\n",
       "      <td>36749741.0</td>\n",
       "      <td>308879636.0</td>\n",
       "    </tr>\n",
       "    <tr>\n",
       "      <th>1</th>\n",
       "      <td>13114483482878900224</td>\n",
       "      <td>2019-04-09 13:04:04</td>\n",
       "      <td>235.0</td>\n",
       "      <td>2019-04-25 08:15:48</td>\n",
       "      <td>606.0</td>\n",
       "      <td>1365104.0</td>\n",
       "      <td>2.082019e+14</td>\n",
       "      <td>3.368185e+10</td>\n",
       "      <td>3.579401e+13</td>\n",
       "      <td>L77566A</td>\n",
       "      <td>...</td>\n",
       "      <td>20247395.0</td>\n",
       "      <td>19111729.0</td>\n",
       "      <td>18338413.0</td>\n",
       "      <td>17227132.0</td>\n",
       "      <td>608750074.0</td>\n",
       "      <td>1170709.0</td>\n",
       "      <td>526904238.0</td>\n",
       "      <td>15055145.0</td>\n",
       "      <td>53800391.0</td>\n",
       "      <td>653384965.0</td>\n",
       "    </tr>\n",
       "    <tr>\n",
       "      <th>2</th>\n",
       "      <td>13114483484080500736</td>\n",
       "      <td>2019-04-09 17:42:11</td>\n",
       "      <td>1.0</td>\n",
       "      <td>2019-04-25 11:58:13</td>\n",
       "      <td>652.0</td>\n",
       "      <td>1361762.0</td>\n",
       "      <td>2.082003e+14</td>\n",
       "      <td>3.376063e+10</td>\n",
       "      <td>3.528151e+13</td>\n",
       "      <td>D42335A</td>\n",
       "      <td>...</td>\n",
       "      <td>19725661.0</td>\n",
       "      <td>14699576.0</td>\n",
       "      <td>17587794.0</td>\n",
       "      <td>6163408.0</td>\n",
       "      <td>229584621.0</td>\n",
       "      <td>395630.0</td>\n",
       "      <td>410692588.0</td>\n",
       "      <td>4215763.0</td>\n",
       "      <td>27883638.0</td>\n",
       "      <td>279807335.0</td>\n",
       "    </tr>\n",
       "    <tr>\n",
       "      <th>3</th>\n",
       "      <td>13114483485442799616</td>\n",
       "      <td>2019-04-10 00:31:25</td>\n",
       "      <td>486.0</td>\n",
       "      <td>2019-04-25 07:36:35</td>\n",
       "      <td>171.0</td>\n",
       "      <td>1321509.0</td>\n",
       "      <td>2.082014e+14</td>\n",
       "      <td>3.375034e+10</td>\n",
       "      <td>3.535661e+13</td>\n",
       "      <td>T21824A</td>\n",
       "      <td>...</td>\n",
       "      <td>21388122.0</td>\n",
       "      <td>15146643.0</td>\n",
       "      <td>13994646.0</td>\n",
       "      <td>1097942.0</td>\n",
       "      <td>799538153.0</td>\n",
       "      <td>10849722.0</td>\n",
       "      <td>749039933.0</td>\n",
       "      <td>12797283.0</td>\n",
       "      <td>43324218.0</td>\n",
       "      <td>846028530.0</td>\n",
       "    </tr>\n",
       "    <tr>\n",
       "      <th>4</th>\n",
       "      <td>13114483499480700928</td>\n",
       "      <td>2019-04-12 20:10:23</td>\n",
       "      <td>565.0</td>\n",
       "      <td>2019-04-25 10:40:32</td>\n",
       "      <td>954.0</td>\n",
       "      <td>1089009.0</td>\n",
       "      <td>2.082014e+14</td>\n",
       "      <td>3.369980e+10</td>\n",
       "      <td>3.540701e+13</td>\n",
       "      <td>D88865A</td>\n",
       "      <td>...</td>\n",
       "      <td>15259380.0</td>\n",
       "      <td>18962873.0</td>\n",
       "      <td>17124581.0</td>\n",
       "      <td>415218.0</td>\n",
       "      <td>527707248.0</td>\n",
       "      <td>3529801.0</td>\n",
       "      <td>550709500.0</td>\n",
       "      <td>13910322.0</td>\n",
       "      <td>38542814.0</td>\n",
       "      <td>569138589.0</td>\n",
       "    </tr>\n",
       "  </tbody>\n",
       "</table>\n",
       "<p>5 rows × 55 columns</p>\n",
       "</div>"
      ],
      "text/plain": [
       "              Bearer Id               Start  Start ms                 End  \\\n",
       "0  13114483460844900352 2019-04-04 12:01:18     770.0 2019-04-25 14:35:31   \n",
       "1  13114483482878900224 2019-04-09 13:04:04     235.0 2019-04-25 08:15:48   \n",
       "2  13114483484080500736 2019-04-09 17:42:11       1.0 2019-04-25 11:58:13   \n",
       "3  13114483485442799616 2019-04-10 00:31:25     486.0 2019-04-25 07:36:35   \n",
       "4  13114483499480700928 2019-04-12 20:10:23     565.0 2019-04-25 10:40:32   \n",
       "\n",
       "   End ms  Dur. (ms)          IMSI  MSISDN/Number          IMEI  \\\n",
       "0   662.0  1823652.0  2.082014e+14   3.366496e+10  3.552121e+13   \n",
       "1   606.0  1365104.0  2.082019e+14   3.368185e+10  3.579401e+13   \n",
       "2   652.0  1361762.0  2.082003e+14   3.376063e+10  3.528151e+13   \n",
       "3   171.0  1321509.0  2.082014e+14   3.375034e+10  3.535661e+13   \n",
       "4   954.0  1089009.0  2.082014e+14   3.369980e+10  3.540701e+13   \n",
       "\n",
       "  Last Location Name  ...  Youtube DL (Bytes)  Youtube UL (Bytes)  \\\n",
       "0   9164566995485190  ...          15854611.0           2501332.0   \n",
       "1            L77566A  ...          20247395.0          19111729.0   \n",
       "2            D42335A  ...          19725661.0          14699576.0   \n",
       "3            T21824A  ...          21388122.0          15146643.0   \n",
       "4            D88865A  ...          15259380.0          18962873.0   \n",
       "\n",
       "   Netflix DL (Bytes)  Netflix UL (Bytes)  Gaming DL (Bytes)  \\\n",
       "0           8198936.0           9656251.0        278082303.0   \n",
       "1          18338413.0          17227132.0        608750074.0   \n",
       "2          17587794.0           6163408.0        229584621.0   \n",
       "3          13994646.0           1097942.0        799538153.0   \n",
       "4          17124581.0            415218.0        527707248.0   \n",
       "\n",
       "   Gaming UL (Bytes)  Other DL (Bytes)  Other UL (Bytes)  Total UL (Bytes)  \\\n",
       "0         14344150.0       171744450.0         8814393.0        36749741.0   \n",
       "1          1170709.0       526904238.0        15055145.0        53800391.0   \n",
       "2           395630.0       410692588.0         4215763.0        27883638.0   \n",
       "3         10849722.0       749039933.0        12797283.0        43324218.0   \n",
       "4          3529801.0       550709500.0        13910322.0        38542814.0   \n",
       "\n",
       "   Total DL (Bytes)  \n",
       "0       308879636.0  \n",
       "1       653384965.0  \n",
       "2       279807335.0  \n",
       "3       846028530.0  \n",
       "4       569138589.0  \n",
       "\n",
       "[5 rows x 55 columns]"
      ]
     },
     "execution_count": 118,
     "metadata": {},
     "output_type": "execute_result"
    }
   ],
   "source": [
    "df.head()"
   ]
  },
  {
   "cell_type": "code",
   "execution_count": 6,
   "id": "1414aa0e",
   "metadata": {},
   "outputs": [],
   "source": [
    "### Check for sufficiency of data to answer objectives by reviewing the objective and \n",
    "### available data. And check the number of observations and required sample size."
   ]
  },
  {
   "cell_type": "code",
   "execution_count": 119,
   "id": "7b474de8",
   "metadata": {},
   "outputs": [
    {
     "data": {
      "text/plain": [
       "['Bearer Id',\n",
       " 'Start',\n",
       " 'Start ms',\n",
       " 'End',\n",
       " 'End ms',\n",
       " 'Dur. (ms)',\n",
       " 'IMSI',\n",
       " 'MSISDN/Number',\n",
       " 'IMEI',\n",
       " 'Last Location Name',\n",
       " 'Avg RTT DL (ms)',\n",
       " 'Avg RTT UL (ms)',\n",
       " 'Avg Bearer TP DL (kbps)',\n",
       " 'Avg Bearer TP UL (kbps)',\n",
       " 'TCP DL Retrans. Vol (Bytes)',\n",
       " 'TCP UL Retrans. Vol (Bytes)',\n",
       " 'DL TP < 50 Kbps (%)',\n",
       " '50 Kbps < DL TP < 250 Kbps (%)',\n",
       " '250 Kbps < DL TP < 1 Mbps (%)',\n",
       " 'DL TP > 1 Mbps (%)',\n",
       " 'UL TP < 10 Kbps (%)',\n",
       " '10 Kbps < UL TP < 50 Kbps (%)',\n",
       " '50 Kbps < UL TP < 300 Kbps (%)',\n",
       " 'UL TP > 300 Kbps (%)',\n",
       " 'HTTP DL (Bytes)',\n",
       " 'HTTP UL (Bytes)',\n",
       " 'Activity Duration DL (ms)',\n",
       " 'Activity Duration UL (ms)',\n",
       " 'Dur. (ms).1',\n",
       " 'Handset Manufacturer',\n",
       " 'Handset Type',\n",
       " 'Nb of sec with 125000B < Vol DL',\n",
       " 'Nb of sec with 1250B < Vol UL < 6250B',\n",
       " 'Nb of sec with 31250B < Vol DL < 125000B',\n",
       " 'Nb of sec with 37500B < Vol UL',\n",
       " 'Nb of sec with 6250B < Vol DL < 31250B',\n",
       " 'Nb of sec with 6250B < Vol UL < 37500B',\n",
       " 'Nb of sec with Vol DL < 6250B',\n",
       " 'Nb of sec with Vol UL < 1250B',\n",
       " 'Social Media DL (Bytes)',\n",
       " 'Social Media UL (Bytes)',\n",
       " 'Google DL (Bytes)',\n",
       " 'Google UL (Bytes)',\n",
       " 'Email DL (Bytes)',\n",
       " 'Email UL (Bytes)',\n",
       " 'Youtube DL (Bytes)',\n",
       " 'Youtube UL (Bytes)',\n",
       " 'Netflix DL (Bytes)',\n",
       " 'Netflix UL (Bytes)',\n",
       " 'Gaming DL (Bytes)',\n",
       " 'Gaming UL (Bytes)',\n",
       " 'Other DL (Bytes)',\n",
       " 'Other UL (Bytes)',\n",
       " 'Total UL (Bytes)',\n",
       " 'Total DL (Bytes)']"
      ]
     },
     "execution_count": 119,
     "metadata": {},
     "output_type": "execute_result"
    }
   ],
   "source": [
    "df.columns.to_list()"
   ]
  },
  {
   "cell_type": "code",
   "execution_count": 120,
   "id": "81a09408",
   "metadata": {},
   "outputs": [
    {
     "data": {
      "text/plain": [
       "(150001, 55)"
      ]
     },
     "execution_count": 120,
     "metadata": {},
     "output_type": "execute_result"
    }
   ],
   "source": [
    "df.shape"
   ]
  },
  {
   "cell_type": "code",
   "execution_count": 12,
   "id": "2a202ca3",
   "metadata": {},
   "outputs": [],
   "source": [
    "### Check for timeliness of the data"
   ]
  },
  {
   "cell_type": "code",
   "execution_count": null,
   "id": "71bb9785",
   "metadata": {},
   "outputs": [],
   "source": []
  },
  {
   "cell_type": "code",
   "execution_count": 10,
   "id": "d0eae847",
   "metadata": {},
   "outputs": [],
   "source": [
    "### checking for duplicates"
   ]
  },
  {
   "cell_type": "code",
   "execution_count": null,
   "id": "163289f1",
   "metadata": {},
   "outputs": [],
   "source": []
  },
  {
   "cell_type": "code",
   "execution_count": 13,
   "id": "bb3c470e",
   "metadata": {},
   "outputs": [],
   "source": [
    "### Check for column organization and naming and correct them."
   ]
  },
  {
   "cell_type": "code",
   "execution_count": null,
   "id": "87b4e7da",
   "metadata": {},
   "outputs": [],
   "source": []
  },
  {
   "cell_type": "code",
   "execution_count": 59,
   "id": "084a0d6d",
   "metadata": {},
   "outputs": [],
   "source": [
    "### Check for missing values and either fill them with a value that will, in no way, \n",
    "### affect the analysis or remove the record."
   ]
  },
  {
   "cell_type": "code",
   "execution_count": 21,
   "id": "cbb5770d",
   "metadata": {},
   "outputs": [],
   "source": [
    "def handle_missing_values(df,x):\n",
    "    \"\"\"\n",
    "    this algorithm does the following\n",
    "    - remove columns with x percentage of missing values\n",
    "    - fill the missing values with the mean\n",
    "    returns:\n",
    "        - df\n",
    "        - percentage of missing values\n",
    "    \"\"\"\n",
    "    missing_percentage = round((df.isnull().sum().sum()/\\\n",
    "            reduce(lambda x, y: x*y, df.shape))*100,2)\n",
    "    null_cols = df.isnull().sum().to_dict()\n",
    "    for key,val in null_cols.items():\n",
    "        if val/df.shape[0] > x:\n",
    "            df.drop([key], axis=1)\n",
    "        elif  val/df.shape[0] < x and val > 0 and df[key].dtype.kind in 'biufc':\n",
    "            df.fillna(df[key].mean().round(1), inplace=True)\n",
    "    return missing_percentage, df"
   ]
  },
  {
   "cell_type": "code",
   "execution_count": 26,
   "id": "ebdaaee5",
   "metadata": {},
   "outputs": [
    {
     "data": {
      "text/plain": [
       "False"
      ]
     },
     "execution_count": 26,
     "metadata": {},
     "output_type": "execute_result"
    }
   ],
   "source": [
    "# test the function\n",
    "missing_percentage,df_ = handle_missing_values(df,x=0.3)\n",
    "True in df.isna().any().to_list()"
   ]
  },
  {
   "cell_type": "code",
   "execution_count": 24,
   "id": "524c13fd",
   "metadata": {},
   "outputs": [
    {
     "data": {
      "text/plain": [
       "Bearer Id                                   0\n",
       "Start                                       0\n",
       "Start ms                                    0\n",
       "End                                         0\n",
       "End ms                                      0\n",
       "Dur. (ms)                                   0\n",
       "IMSI                                        0\n",
       "MSISDN/Number                               0\n",
       "IMEI                                        0\n",
       "Last Location Name                          0\n",
       "Avg RTT DL (ms)                             0\n",
       "Avg RTT UL (ms)                             0\n",
       "Avg Bearer TP DL (kbps)                     0\n",
       "Avg Bearer TP UL (kbps)                     0\n",
       "TCP DL Retrans. Vol (Bytes)                 0\n",
       "TCP UL Retrans. Vol (Bytes)                 0\n",
       "DL TP < 50 Kbps (%)                         0\n",
       "50 Kbps < DL TP < 250 Kbps (%)              0\n",
       "250 Kbps < DL TP < 1 Mbps (%)               0\n",
       "DL TP > 1 Mbps (%)                          0\n",
       "UL TP < 10 Kbps (%)                         0\n",
       "10 Kbps < UL TP < 50 Kbps (%)               0\n",
       "50 Kbps < UL TP < 300 Kbps (%)              0\n",
       "UL TP > 300 Kbps (%)                        0\n",
       "HTTP DL (Bytes)                             0\n",
       "HTTP UL (Bytes)                             0\n",
       "Activity Duration DL (ms)                   0\n",
       "Activity Duration UL (ms)                   0\n",
       "Dur. (ms).1                                 0\n",
       "Handset Manufacturer                        0\n",
       "Handset Type                                0\n",
       "Nb of sec with 125000B < Vol DL             0\n",
       "Nb of sec with 1250B < Vol UL < 6250B       0\n",
       "Nb of sec with 31250B < Vol DL < 125000B    0\n",
       "Nb of sec with 37500B < Vol UL              0\n",
       "Nb of sec with 6250B < Vol DL < 31250B      0\n",
       "Nb of sec with 6250B < Vol UL < 37500B      0\n",
       "Nb of sec with Vol DL < 6250B               0\n",
       "Nb of sec with Vol UL < 1250B               0\n",
       "Social Media DL (Bytes)                     0\n",
       "Social Media UL (Bytes)                     0\n",
       "Google DL (Bytes)                           0\n",
       "Google UL (Bytes)                           0\n",
       "Email DL (Bytes)                            0\n",
       "Email UL (Bytes)                            0\n",
       "Youtube DL (Bytes)                          0\n",
       "Youtube UL (Bytes)                          0\n",
       "Netflix DL (Bytes)                          0\n",
       "Netflix UL (Bytes)                          0\n",
       "Gaming DL (Bytes)                           0\n",
       "Gaming UL (Bytes)                           0\n",
       "Other DL (Bytes)                            0\n",
       "Other UL (Bytes)                            0\n",
       "Total UL (Bytes)                            0\n",
       "Total DL (Bytes)                            0\n",
       "dtype: int64"
      ]
     },
     "execution_count": 24,
     "metadata": {},
     "output_type": "execute_result"
    }
   ],
   "source": [
    "df_.isnull().sum()"
   ]
  },
  {
   "cell_type": "code",
   "execution_count": 25,
   "id": "462f964d",
   "metadata": {},
   "outputs": [
    {
     "data": {
      "text/plain": [
       "(150001, 55)"
      ]
     },
     "execution_count": 25,
     "metadata": {},
     "output_type": "execute_result"
    }
   ],
   "source": [
    "df_.shape"
   ]
  },
  {
   "cell_type": "code",
   "execution_count": 15,
   "id": "5edabd74",
   "metadata": {},
   "outputs": [],
   "source": [
    "### Check for misspellings, Inconsistent capitalization, and Incorrect punctuation and other typos and \n",
    "### make corrections."
   ]
  },
  {
   "cell_type": "code",
   "execution_count": 16,
   "id": "a18fb99e",
   "metadata": {},
   "outputs": [],
   "source": [
    "### Check for correct character patterns like length and type of characters and make corrections."
   ]
  },
  {
   "cell_type": "code",
   "execution_count": null,
   "id": "9f5eb7c4",
   "metadata": {},
   "outputs": [],
   "source": []
  },
  {
   "cell_type": "code",
   "execution_count": 17,
   "id": "cb4ea2b9",
   "metadata": {},
   "outputs": [],
   "source": [
    "### Check for values that don't make sense given knowledge of the field and make corrections."
   ]
  },
  {
   "cell_type": "code",
   "execution_count": null,
   "id": "0301f9c9",
   "metadata": {},
   "outputs": [],
   "source": []
  },
  {
   "cell_type": "code",
   "execution_count": 18,
   "id": "42a1423e",
   "metadata": {},
   "outputs": [],
   "source": [
    "### Check for value ranges and make corrections."
   ]
  },
  {
   "cell_type": "code",
   "execution_count": null,
   "id": "e8c38be5",
   "metadata": {},
   "outputs": [],
   "source": []
  },
  {
   "cell_type": "code",
   "execution_count": 167,
   "id": "25b19110",
   "metadata": {},
   "outputs": [],
   "source": [
    "### Check for repeating or skipping patterns in variables whose values must be in sequence \n",
    "### or whose values must be unique and make corrections"
   ]
  },
  {
   "cell_type": "code",
   "execution_count": null,
   "id": "5bc2eb9f",
   "metadata": {},
   "outputs": [],
   "source": []
  },
  {
   "cell_type": "code",
   "execution_count": 168,
   "id": "b012707d",
   "metadata": {},
   "outputs": [],
   "source": [
    "### Top X Columns"
   ]
  },
  {
   "cell_type": "code",
   "execution_count": 164,
   "id": "2877846e",
   "metadata": {},
   "outputs": [],
   "source": [
    "def top_x_column(df, x, column,color):\n",
    "    handsets_df = pd.DataFrame(columns = [column])\n",
    "    handsets_df['type'] = df[column].to_list()\n",
    "    handests = handsets_df['type'].value_counts()\n",
    "    fig,ax = plt.subplots()\n",
    "    ax.tick_params(axis='x',labelsize=10)\n",
    "    ax.tick_params(axis='y',labelsize=10)\n",
    "    ax.set_xlabel(\"Handset\")\n",
    "    ax.set_ylabel(\"Frequency\")\n",
    "    ax.set_title(f\"The {x} Most Frequent {column}\")\n",
    "    handests[:x].plot(ax=ax,kind='bar',color=color)"
   ]
  },
  {
   "cell_type": "code",
   "execution_count": 165,
   "id": "77ef0539",
   "metadata": {},
   "outputs": [
    {
     "data": {
      "image/png": "[encoded data removed]",
      "text/plain": [
       "<Figure size 432x288 with 1 Axes>"
      ]
     },
     "metadata": {
      "needs_background": "light"
     },
     "output_type": "display_data"
    }
   ],
   "source": [
    "# Identifying the top 10 handsets used by the customers.\n",
    "top_x_column(df,10,'Handset Type','green')"
   ]
  },
  {
   "cell_type": "code",
   "execution_count": 166,
   "id": "39e52886",
   "metadata": {},
   "outputs": [
    {
     "data": {
      "image/png": "[encoded data removed]",
      "text/plain": [
       "<Figure size 432x288 with 1 Axes>"
      ]
     },
     "metadata": {
      "needs_background": "light"
     },
     "output_type": "display_data"
    }
   ],
   "source": [
    "# Identifying the top 3 handset manufacturers\n",
    "top_x_column(df,3,'Handset Manufacturer','purple')"
   ]
  },
  {
   "cell_type": "code",
   "execution_count": 196,
   "id": "e9274fb6",
   "metadata": {},
   "outputs": [
    {
     "name": "stdout",
     "output_type": "stream",
     "text": [
      "First 5 entries for 'Apple'\n",
      "------------------------\n",
      "22    Apple iPhone 6S (A1688)\n",
      "48    Apple iPhone 6S (A1688)\n",
      "51    Apple iPhone Se (A1723)\n",
      "52     Apple iPhone 8 (A1905)\n",
      "54    Apple iPhone 6S (A1688)\n",
      "Name: Handset Type, dtype: object\n",
      "\n",
      "First 5 entries for 'Huawei'\n",
      "------------------------\n",
      "6     Huawei Mate 20 Lite\n",
      "11        Huawei B593S-22\n",
      "20           Huawei E5180\n",
      "25         Huawei P20 Pro\n",
      "30           Huawei E5180\n",
      "Name: Handset Type, dtype: object\n",
      "\n",
      "First 5 entries for 'Samsung'\n",
      "------------------------\n",
      "0     Samsung Galaxy A5 Sm-A520F\n",
      "1    Samsung Galaxy J5 (Sm-J530)\n",
      "2       Samsung Galaxy A8 (2018)\n",
      "4               Samsung Sm-G390F\n",
      "8       Samsung Galaxy A8 (2018)\n",
      "Name: Handset Type, dtype: object\n",
      "\n"
     ]
    }
   ],
   "source": [
    "# Identify the top 5 handsets per top 3 handset manufacturer\n",
    "by_manufacture = df.groupby(\"Handset Manufacturer\",sort=True)\n",
    "\n",
    "for manufacturer, frame in by_manufacture:\n",
    "    if manufacturer in ['Apple','Samsung','Huawei']:\n",
    "        print(f\"First 5 entries for {manufacturer!r}\")\n",
    "        print(\"------------------------\")\n",
    "        print(frame.head(5)['Handset Type'], end=\"\\n\\n\")\n"
   ]
  },
  {
   "cell_type": "code",
   "execution_count": 197,
   "id": "cb542d3e",
   "metadata": {},
   "outputs": [
    {
     "data": {
      "text/plain": [
       "Index(['Bearer Id', 'Start', 'Start ms', 'End', 'End ms', 'Dur. (ms)', 'IMSI',\n",
       "       'MSISDN/Number', 'IMEI', 'Last Location Name', 'Avg RTT DL (ms)',\n",
       "       'Avg RTT UL (ms)', 'Avg Bearer TP DL (kbps)', 'Avg Bearer TP UL (kbps)',\n",
       "       'TCP DL Retrans. Vol (Bytes)', 'TCP UL Retrans. Vol (Bytes)',\n",
       "       'DL TP < 50 Kbps (%)', '50 Kbps < DL TP < 250 Kbps (%)',\n",
       "       '250 Kbps < DL TP < 1 Mbps (%)', 'DL TP > 1 Mbps (%)',\n",
       "       'UL TP < 10 Kbps (%)', '10 Kbps < UL TP < 50 Kbps (%)',\n",
       "       '50 Kbps < UL TP < 300 Kbps (%)', 'UL TP > 300 Kbps (%)',\n",
       "       'HTTP DL (Bytes)', 'HTTP UL (Bytes)', 'Activity Duration DL (ms)',\n",
       "       'Activity Duration UL (ms)', 'Dur. (ms).1', 'Handset Manufacturer',\n",
       "       'Handset Type', 'Nb of sec with 125000B < Vol DL',\n",
       "       'Nb of sec with 1250B < Vol UL < 6250B',\n",
       "       'Nb of sec with 31250B < Vol DL < 125000B',\n",
       "       'Nb of sec with 37500B < Vol UL',\n",
       "       'Nb of sec with 6250B < Vol DL < 31250B',\n",
       "       'Nb of sec with 6250B < Vol UL < 37500B',\n",
       "       'Nb of sec with Vol DL < 6250B', 'Nb of sec with Vol UL < 1250B',\n",
       "       'Social Media DL (Bytes)', 'Social Media UL (Bytes)',\n",
       "       'Google DL (Bytes)', 'Google UL (Bytes)', 'Email DL (Bytes)',\n",
       "       'Email UL (Bytes)', 'Youtube DL (Bytes)', 'Youtube UL (Bytes)',\n",
       "       'Netflix DL (Bytes)', 'Netflix UL (Bytes)', 'Gaming DL (Bytes)',\n",
       "       'Gaming UL (Bytes)', 'Other DL (Bytes)', 'Other UL (Bytes)',\n",
       "       'Total UL (Bytes)', 'Total DL (Bytes)'],\n",
       "      dtype='object')"
      ]
     },
     "execution_count": 197,
     "metadata": {},
     "output_type": "execute_result"
    }
   ],
   "source": [
    "df.columns"
   ]
  },
  {
   "cell_type": "code",
   "execution_count": 20,
   "id": "f7ab3e65",
   "metadata": {},
   "outputs": [],
   "source": [
    "# Aggregation per user the following information in the column  \n",
    "# number of xDR sessions\n",
    "# Session duration\n",
    "# the total download (DL) and upload (UL) data\n",
    "# the total data volume (in Bytes) during this session for each application\n"
   ]
  },
  {
   "cell_type": "code",
   "execution_count": 37,
   "id": "bfb224e0",
   "metadata": {},
   "outputs": [],
   "source": [
    "grouped = df.groupby('MSISDN/Number').agg({'Bearer Id': [min, max, mean]}) \n",
    "grouped.columns = [\"_\".join(x) for x in grouped.columns.ravel()]"
   ]
  },
  {
   "cell_type": "code",
   "execution_count": 38,
   "id": "d2a3b580",
   "metadata": {},
   "outputs": [
    {
     "data": {
      "text/html": [
       "<div>\n",
       "<style scoped>\n",
       "    .dataframe tbody tr th:only-of-type {\n",
       "        vertical-align: middle;\n",
       "    }\n",
       "\n",
       "    .dataframe tbody tr th {\n",
       "        vertical-align: top;\n",
       "    }\n",
       "\n",
       "    .dataframe thead th {\n",
       "        text-align: right;\n",
       "    }\n",
       "</style>\n",
       "<table border=\"1\" class=\"dataframe\">\n",
       "  <thead>\n",
       "    <tr style=\"text-align: right;\">\n",
       "      <th></th>\n",
       "      <th>Bearer Id_min</th>\n",
       "      <th>Bearer Id_max</th>\n",
       "      <th>Bearer Id_mean</th>\n",
       "    </tr>\n",
       "    <tr>\n",
       "      <th>MSISDN/Number</th>\n",
       "      <th></th>\n",
       "      <th></th>\n",
       "      <th></th>\n",
       "    </tr>\n",
       "  </thead>\n",
       "  <tbody>\n",
       "    <tr>\n",
       "      <th>3.360100e+10</th>\n",
       "      <td>1.311448e+19</td>\n",
       "      <td>1.311448e+19</td>\n",
       "      <td>1.311448e+19</td>\n",
       "    </tr>\n",
       "    <tr>\n",
       "      <th>3.360100e+10</th>\n",
       "      <td>7.349883e+18</td>\n",
       "      <td>7.349883e+18</td>\n",
       "      <td>7.349883e+18</td>\n",
       "    </tr>\n",
       "    <tr>\n",
       "      <th>3.360100e+10</th>\n",
       "      <td>7.349883e+18</td>\n",
       "      <td>7.349883e+18</td>\n",
       "      <td>7.349883e+18</td>\n",
       "    </tr>\n",
       "    <tr>\n",
       "      <th>3.360101e+10</th>\n",
       "      <td>1.304243e+19</td>\n",
       "      <td>1.304243e+19</td>\n",
       "      <td>1.304243e+19</td>\n",
       "    </tr>\n",
       "    <tr>\n",
       "      <th>3.360101e+10</th>\n",
       "      <td>7.277826e+18</td>\n",
       "      <td>7.349883e+18</td>\n",
       "      <td>7.313854e+18</td>\n",
       "    </tr>\n",
       "    <tr>\n",
       "      <th>...</th>\n",
       "      <td>...</td>\n",
       "      <td>...</td>\n",
       "      <td>...</td>\n",
       "    </tr>\n",
       "    <tr>\n",
       "      <th>3.379000e+10</th>\n",
       "      <td>1.311448e+19</td>\n",
       "      <td>1.311448e+19</td>\n",
       "      <td>1.311448e+19</td>\n",
       "    </tr>\n",
       "    <tr>\n",
       "      <th>3.197021e+12</th>\n",
       "      <td>7.277826e+18</td>\n",
       "      <td>7.277826e+18</td>\n",
       "      <td>7.277826e+18</td>\n",
       "    </tr>\n",
       "    <tr>\n",
       "      <th>3.370000e+14</th>\n",
       "      <td>7.349883e+18</td>\n",
       "      <td>7.349883e+18</td>\n",
       "      <td>7.349883e+18</td>\n",
       "    </tr>\n",
       "    <tr>\n",
       "      <th>8.823971e+14</th>\n",
       "      <td>7.277826e+18</td>\n",
       "      <td>7.277826e+18</td>\n",
       "      <td>7.277826e+18</td>\n",
       "    </tr>\n",
       "    <tr>\n",
       "      <th>1.013887e+19</th>\n",
       "      <td>6.917538e+18</td>\n",
       "      <td>1.311448e+19</td>\n",
       "      <td>9.040683e+18</td>\n",
       "    </tr>\n",
       "  </tbody>\n",
       "</table>\n",
       "<p>106857 rows × 3 columns</p>\n",
       "</div>"
      ],
      "text/plain": [
       "               Bearer Id_min  Bearer Id_max  Bearer Id_mean\n",
       "MSISDN/Number                                              \n",
       "3.360100e+10    1.311448e+19   1.311448e+19    1.311448e+19\n",
       "3.360100e+10    7.349883e+18   7.349883e+18    7.349883e+18\n",
       "3.360100e+10    7.349883e+18   7.349883e+18    7.349883e+18\n",
       "3.360101e+10    1.304243e+19   1.304243e+19    1.304243e+19\n",
       "3.360101e+10    7.277826e+18   7.349883e+18    7.313854e+18\n",
       "...                      ...            ...             ...\n",
       "3.379000e+10    1.311448e+19   1.311448e+19    1.311448e+19\n",
       "3.197021e+12    7.277826e+18   7.277826e+18    7.277826e+18\n",
       "3.370000e+14    7.349883e+18   7.349883e+18    7.349883e+18\n",
       "8.823971e+14    7.277826e+18   7.277826e+18    7.277826e+18\n",
       "1.013887e+19    6.917538e+18   1.311448e+19    9.040683e+18\n",
       "\n",
       "[106857 rows x 3 columns]"
      ]
     },
     "execution_count": 38,
     "metadata": {},
     "output_type": "execute_result"
    }
   ],
   "source": [
    "grouped"
   ]
  },
  {
   "cell_type": "code",
   "execution_count": 35,
   "id": "e944dbfc",
   "metadata": {},
   "outputs": [],
   "source": [
    "grouped = df.groupby('MSISDN/Number').agg({\"Dur. (ms)\": [min, max, mean]}) \n",
    "grouped.columns = [\"_\".join(x) for x in grouped.columns.ravel()]"
   ]
  },
  {
   "cell_type": "code",
   "execution_count": 36,
   "id": "3af9ea9c",
   "metadata": {},
   "outputs": [
    {
     "data": {
      "text/html": [
       "<div>\n",
       "<style scoped>\n",
       "    .dataframe tbody tr th:only-of-type {\n",
       "        vertical-align: middle;\n",
       "    }\n",
       "\n",
       "    .dataframe tbody tr th {\n",
       "        vertical-align: top;\n",
       "    }\n",
       "\n",
       "    .dataframe thead th {\n",
       "        text-align: right;\n",
       "    }\n",
       "</style>\n",
       "<table border=\"1\" class=\"dataframe\">\n",
       "  <thead>\n",
       "    <tr style=\"text-align: right;\">\n",
       "      <th></th>\n",
       "      <th>Dur. (ms)_min</th>\n",
       "      <th>Dur. (ms)_max</th>\n",
       "      <th>Dur. (ms)_mean</th>\n",
       "    </tr>\n",
       "    <tr>\n",
       "      <th>MSISDN/Number</th>\n",
       "      <th></th>\n",
       "      <th></th>\n",
       "      <th></th>\n",
       "    </tr>\n",
       "  </thead>\n",
       "  <tbody>\n",
       "    <tr>\n",
       "      <th>3.360100e+10</th>\n",
       "      <td>116720.0</td>\n",
       "      <td>1.167200e+05</td>\n",
       "      <td>1.167200e+05</td>\n",
       "    </tr>\n",
       "    <tr>\n",
       "      <th>3.360100e+10</th>\n",
       "      <td>181230.0</td>\n",
       "      <td>1.812300e+05</td>\n",
       "      <td>1.812300e+05</td>\n",
       "    </tr>\n",
       "    <tr>\n",
       "      <th>3.360100e+10</th>\n",
       "      <td>134969.0</td>\n",
       "      <td>1.349690e+05</td>\n",
       "      <td>1.349690e+05</td>\n",
       "    </tr>\n",
       "    <tr>\n",
       "      <th>3.360101e+10</th>\n",
       "      <td>49878.0</td>\n",
       "      <td>4.987800e+04</td>\n",
       "      <td>4.987800e+04</td>\n",
       "    </tr>\n",
       "    <tr>\n",
       "      <th>3.360101e+10</th>\n",
       "      <td>18549.0</td>\n",
       "      <td>1.855500e+04</td>\n",
       "      <td>1.855200e+04</td>\n",
       "    </tr>\n",
       "    <tr>\n",
       "      <th>...</th>\n",
       "      <td>...</td>\n",
       "      <td>...</td>\n",
       "      <td>...</td>\n",
       "    </tr>\n",
       "    <tr>\n",
       "      <th>3.379000e+10</th>\n",
       "      <td>140988.0</td>\n",
       "      <td>1.409880e+05</td>\n",
       "      <td>1.409880e+05</td>\n",
       "    </tr>\n",
       "    <tr>\n",
       "      <th>3.197021e+12</th>\n",
       "      <td>877385.0</td>\n",
       "      <td>8.773850e+05</td>\n",
       "      <td>8.773850e+05</td>\n",
       "    </tr>\n",
       "    <tr>\n",
       "      <th>3.370000e+14</th>\n",
       "      <td>253030.0</td>\n",
       "      <td>2.530300e+05</td>\n",
       "      <td>2.530300e+05</td>\n",
       "    </tr>\n",
       "    <tr>\n",
       "      <th>8.823971e+14</th>\n",
       "      <td>869844.0</td>\n",
       "      <td>8.698440e+05</td>\n",
       "      <td>8.698440e+05</td>\n",
       "    </tr>\n",
       "    <tr>\n",
       "      <th>1.013887e+19</th>\n",
       "      <td>7212.0</td>\n",
       "      <td>1.013887e+19</td>\n",
       "      <td>9.511139e+15</td>\n",
       "    </tr>\n",
       "  </tbody>\n",
       "</table>\n",
       "<p>106857 rows × 3 columns</p>\n",
       "</div>"
      ],
      "text/plain": [
       "               Dur. (ms)_min  Dur. (ms)_max  Dur. (ms)_mean\n",
       "MSISDN/Number                                              \n",
       "3.360100e+10        116720.0   1.167200e+05    1.167200e+05\n",
       "3.360100e+10        181230.0   1.812300e+05    1.812300e+05\n",
       "3.360100e+10        134969.0   1.349690e+05    1.349690e+05\n",
       "3.360101e+10         49878.0   4.987800e+04    4.987800e+04\n",
       "3.360101e+10         18549.0   1.855500e+04    1.855200e+04\n",
       "...                      ...            ...             ...\n",
       "3.379000e+10        140988.0   1.409880e+05    1.409880e+05\n",
       "3.197021e+12        877385.0   8.773850e+05    8.773850e+05\n",
       "3.370000e+14        253030.0   2.530300e+05    2.530300e+05\n",
       "8.823971e+14        869844.0   8.698440e+05    8.698440e+05\n",
       "1.013887e+19          7212.0   1.013887e+19    9.511139e+15\n",
       "\n",
       "[106857 rows x 3 columns]"
      ]
     },
     "execution_count": 36,
     "metadata": {},
     "output_type": "execute_result"
    }
   ],
   "source": [
    "grouped"
   ]
  },
  {
   "cell_type": "code",
   "execution_count": 39,
   "id": "ddea9dde",
   "metadata": {},
   "outputs": [],
   "source": [
    "grouped = df.groupby('MSISDN/Number').agg({'Total DL (Bytes)': [min, max, mean]}) \n",
    "grouped.columns = [\"_\".join(x) for x in grouped.columns.ravel()]"
   ]
  },
  {
   "cell_type": "code",
   "execution_count": 44,
   "id": "4cd07ebc",
   "metadata": {},
   "outputs": [
    {
     "data": {
      "text/html": [
       "<div>\n",
       "<style scoped>\n",
       "    .dataframe tbody tr th:only-of-type {\n",
       "        vertical-align: middle;\n",
       "    }\n",
       "\n",
       "    .dataframe tbody tr th {\n",
       "        vertical-align: top;\n",
       "    }\n",
       "\n",
       "    .dataframe thead th {\n",
       "        text-align: right;\n",
       "    }\n",
       "</style>\n",
       "<table border=\"1\" class=\"dataframe\">\n",
       "  <thead>\n",
       "    <tr style=\"text-align: right;\">\n",
       "      <th></th>\n",
       "      <th>Total DL (Bytes)_min</th>\n",
       "      <th>Total DL (Bytes)_max</th>\n",
       "      <th>Total DL (Bytes)_mean</th>\n",
       "    </tr>\n",
       "    <tr>\n",
       "      <th>MSISDN/Number</th>\n",
       "      <th></th>\n",
       "      <th></th>\n",
       "      <th></th>\n",
       "    </tr>\n",
       "  </thead>\n",
       "  <tbody>\n",
       "    <tr>\n",
       "      <th>3.360100e+10</th>\n",
       "      <td>842637466.0</td>\n",
       "      <td>8.426375e+08</td>\n",
       "      <td>8.426375e+08</td>\n",
       "    </tr>\n",
       "    <tr>\n",
       "      <th>3.360100e+10</th>\n",
       "      <td>120755184.0</td>\n",
       "      <td>1.207552e+08</td>\n",
       "      <td>1.207552e+08</td>\n",
       "    </tr>\n",
       "    <tr>\n",
       "      <th>3.360100e+10</th>\n",
       "      <td>556659663.0</td>\n",
       "      <td>5.566597e+08</td>\n",
       "      <td>5.566597e+08</td>\n",
       "    </tr>\n",
       "    <tr>\n",
       "      <th>3.360101e+10</th>\n",
       "      <td>401993172.0</td>\n",
       "      <td>4.019932e+08</td>\n",
       "      <td>4.019932e+08</td>\n",
       "    </tr>\n",
       "    <tr>\n",
       "      <th>3.360101e+10</th>\n",
       "      <td>547096937.0</td>\n",
       "      <td>8.160335e+08</td>\n",
       "      <td>6.815652e+08</td>\n",
       "    </tr>\n",
       "    <tr>\n",
       "      <th>...</th>\n",
       "      <td>...</td>\n",
       "      <td>...</td>\n",
       "      <td>...</td>\n",
       "    </tr>\n",
       "    <tr>\n",
       "      <th>3.379000e+10</th>\n",
       "      <td>444575092.0</td>\n",
       "      <td>4.445751e+08</td>\n",
       "      <td>4.445751e+08</td>\n",
       "    </tr>\n",
       "    <tr>\n",
       "      <th>3.197021e+12</th>\n",
       "      <td>194828056.0</td>\n",
       "      <td>1.948281e+08</td>\n",
       "      <td>1.948281e+08</td>\n",
       "    </tr>\n",
       "    <tr>\n",
       "      <th>3.370000e+14</th>\n",
       "      <td>539634985.0</td>\n",
       "      <td>5.396350e+08</td>\n",
       "      <td>5.396350e+08</td>\n",
       "    </tr>\n",
       "    <tr>\n",
       "      <th>8.823971e+14</th>\n",
       "      <td>78697597.0</td>\n",
       "      <td>7.869760e+07</td>\n",
       "      <td>7.869760e+07</td>\n",
       "    </tr>\n",
       "    <tr>\n",
       "      <th>1.013887e+19</th>\n",
       "      <td>28107766.0</td>\n",
       "      <td>1.013887e+19</td>\n",
       "      <td>9.511140e+15</td>\n",
       "    </tr>\n",
       "  </tbody>\n",
       "</table>\n",
       "<p>106857 rows × 3 columns</p>\n",
       "</div>"
      ],
      "text/plain": [
       "               Total DL (Bytes)_min  Total DL (Bytes)_max  \\\n",
       "MSISDN/Number                                               \n",
       "3.360100e+10            842637466.0          8.426375e+08   \n",
       "3.360100e+10            120755184.0          1.207552e+08   \n",
       "3.360100e+10            556659663.0          5.566597e+08   \n",
       "3.360101e+10            401993172.0          4.019932e+08   \n",
       "3.360101e+10            547096937.0          8.160335e+08   \n",
       "...                             ...                   ...   \n",
       "3.379000e+10            444575092.0          4.445751e+08   \n",
       "3.197021e+12            194828056.0          1.948281e+08   \n",
       "3.370000e+14            539634985.0          5.396350e+08   \n",
       "8.823971e+14             78697597.0          7.869760e+07   \n",
       "1.013887e+19             28107766.0          1.013887e+19   \n",
       "\n",
       "               Total DL (Bytes)_mean  \n",
       "MSISDN/Number                         \n",
       "3.360100e+10            8.426375e+08  \n",
       "3.360100e+10            1.207552e+08  \n",
       "3.360100e+10            5.566597e+08  \n",
       "3.360101e+10            4.019932e+08  \n",
       "3.360101e+10            6.815652e+08  \n",
       "...                              ...  \n",
       "3.379000e+10            4.445751e+08  \n",
       "3.197021e+12            1.948281e+08  \n",
       "3.370000e+14            5.396350e+08  \n",
       "8.823971e+14            7.869760e+07  \n",
       "1.013887e+19            9.511140e+15  \n",
       "\n",
       "[106857 rows x 3 columns]"
      ]
     },
     "execution_count": 44,
     "metadata": {},
     "output_type": "execute_result"
    }
   ],
   "source": [
    "grouped"
   ]
  },
  {
   "cell_type": "markdown",
   "id": "d00fdd68",
   "metadata": {},
   "source": [
    "## EDA Analysis"
   ]
  },
  {
   "cell_type": "code",
   "execution_count": 50,
   "id": "b93bb9d5",
   "metadata": {},
   "outputs": [],
   "source": [
    "X = df.drop('Total DL (Bytes)', axis=1)\n",
    "y = df['Total DL (Bytes)']\n",
    "X_train, X_valid, y_train, y_valid = train_test_split(X, y, test_size=.5, \n",
    "                                                random_state=1121218)"
   ]
  },
  {
   "cell_type": "code",
   "execution_count": 51,
   "id": "b1949422",
   "metadata": {},
   "outputs": [],
   "source": [
    "pca_1 = pd.concat([X_valid,y_valid])"
   ]
  },
  {
   "cell_type": "code",
   "execution_count": 38,
   "id": "bc375735",
   "metadata": {},
   "outputs": [
    {
     "data": {
      "text/plain": [
       "(90002, 55)"
      ]
     },
     "execution_count": 38,
     "metadata": {},
     "output_type": "execute_result"
    }
   ],
   "source": [
    "pca_1.shape"
   ]
  },
  {
   "cell_type": "code",
   "execution_count": 39,
   "id": "f8c23928",
   "metadata": {},
   "outputs": [],
   "source": [
    "#### pca analysis\n",
    "pca_2 = pd.concat([X_train,y_train])"
   ]
  },
  {
   "cell_type": "code",
   "execution_count": 48,
   "id": "0cd2973e",
   "metadata": {},
   "outputs": [
    {
     "data": {
      "text/plain": [
       "(210000, 55)"
      ]
     },
     "execution_count": 48,
     "metadata": {},
     "output_type": "execute_result"
    }
   ],
   "source": [
    "pca_2.shape"
   ]
  },
  {
   "cell_type": "code",
   "execution_count": null,
   "id": "eeafa804",
   "metadata": {},
   "outputs": [],
   "source": []
  },
  {
   "cell_type": "code",
   "execution_count": null,
   "id": "771a0a2e",
   "metadata": {},
   "outputs": [],
   "source": []
  },
  {
   "cell_type": "code",
   "execution_count": 47,
   "id": "144f2b28",
   "metadata": {},
   "outputs": [
    {
     "ename": "ValueError",
     "evalue": "all the input array dimensions for the concatenation axis must match exactly, but along dimension 0, the array at index 0 has size 90002 and the array at index 1 has size 210000",
     "output_type": "error",
     "traceback": [
      "\u001b[0;31m---------------------------------------------------------------------------\u001b[0m",
      "\u001b[0;31mValueError\u001b[0m                                Traceback (most recent call last)",
      "Input \u001b[0;32mIn [47]\u001b[0m, in \u001b[0;36m<cell line: 1>\u001b[0;34m()\u001b[0m\n\u001b[0;32m----> 1\u001b[0m all_samples \u001b[38;5;241m=\u001b[39m \u001b[43mnp\u001b[49m\u001b[38;5;241;43m.\u001b[39;49m\u001b[43mconcatenate\u001b[49m\u001b[43m(\u001b[49m\u001b[43m(\u001b[49m\u001b[43mpca_1\u001b[49m\u001b[43m,\u001b[49m\u001b[43m \u001b[49m\u001b[43mpca_2\u001b[49m\u001b[43m)\u001b[49m\u001b[43m,\u001b[49m\u001b[43m \u001b[49m\u001b[43maxis\u001b[49m\u001b[38;5;241;43m=\u001b[39;49m\u001b[38;5;241;43m1\u001b[39;49m\u001b[43m)\u001b[49m\n",
      "File \u001b[0;32m<__array_function__ internals>:5\u001b[0m, in \u001b[0;36mconcatenate\u001b[0;34m(*args, **kwargs)\u001b[0m\n",
      "\u001b[0;31mValueError\u001b[0m: all the input array dimensions for the concatenation axis must match exactly, but along dimension 0, the array at index 0 has size 90002 and the array at index 1 has size 210000"
     ]
    }
   ],
   "source": [
    "all_samples = np.concatenate((pca_1, pca_2), axis=1)"
   ]
  },
  {
   "cell_type": "code",
   "execution_count": null,
   "id": "df954045",
   "metadata": {},
   "outputs": [],
   "source": [
    "all"
   ]
  },
  {
   "cell_type": "code",
   "execution_count": 41,
   "id": "849fbf67",
   "metadata": {},
   "outputs": [],
   "source": [
    "mean_pca_1 = np.mean(pca_1)"
   ]
  },
  {
   "cell_type": "code",
   "execution_count": 42,
   "id": "306fadd4",
   "metadata": {},
   "outputs": [],
   "source": [
    "mean_pca_2 = np.mean(pca_2)"
   ]
  },
  {
   "cell_type": "code",
   "execution_count": 43,
   "id": "afb6719b",
   "metadata": {},
   "outputs": [],
   "source": [
    "mean_vector = np.array([[mean_pca_1],[mean_pca_2]])"
   ]
  },
  {
   "cell_type": "code",
   "execution_count": 45,
   "id": "9b513ab9",
   "metadata": {},
   "outputs": [
    {
     "data": {
      "text/plain": [
       "array([[[4.54314093e+08, 7.80386463e-01, 1.70925711e+00, 3.03658591e+00,\n",
       "         1.43862392e-01, 1.86436777e+06, 1.44717723e+06, 1.31906262e+04,\n",
       "         1.75881945e+03, 1.12682785e+02, 1.75982522e+01, 9.28906222e+01,\n",
       "         1.60066154e+00, 1.04060418e+05, 1.04060963e+08, 1.79172149e+06,\n",
       "         4.66493195e+05, 4.98082509e+02, 4.21784472e+08, 8.26008113e+06,\n",
       "         5.74381744e+06, 2.05149270e+06, 1.16111750e+08, 3.20531457e+06,\n",
       "         4.86603941e+13, 2.08201568e+14, 3.37452295e+10, 1.00592438e+03,\n",
       "         3.47955878e+02, 8.19413338e+02, 1.42617543e+02, 9.63856982e+02,\n",
       "         1.38227559e+02, 3.80115548e+03, 4.10780943e+03, 1.16064894e+07,\n",
       "         1.10083306e+07, 4.21318000e+08, 8.28134796e+06, 1.79744357e+06,\n",
       "         3.29894349e+04, 4.98263416e+02, 2.18444300e+07, 9.62036725e+05,\n",
       "         4.11357423e+07, 9.85290964e+01, 8.08220708e-02, 1.15901488e+07,\n",
       "         1.10350072e+07]],\n",
       "\n",
       "       [[4.54784579e+08, 7.75190533e-01, 1.72080227e+00, 3.08338517e+00,\n",
       "         1.49754893e-01, 1.81409458e+06, 1.39246634e+06, 1.33469416e+04,\n",
       "         1.77540418e+03, 1.08554650e+02, 1.76906631e+01, 9.28251151e+01,\n",
       "         1.61350392e+00, 1.04843486e+05, 1.04844031e+08, 1.79173203e+06,\n",
       "         4.67750699e+05, 4.99108763e+02, 4.22156232e+08, 8.30053423e+06,\n",
       "         5.75372490e+06, 2.05870593e+06, 1.13757110e+08, 3.25839273e+06,\n",
       "         4.83949496e+13, 2.08201670e+14, 4.53674039e+10, 9.82756723e+02,\n",
       "         3.37204205e+02, 8.07146624e+02, 1.52097686e+02, 9.66158802e+02,\n",
       "         1.42624392e+02, 3.68494873e+03, 3.98534070e+03, 1.16355786e+07,\n",
       "         1.09989366e+07, 4.21007347e+08, 8.25770704e+06, 1.79441241e+06,\n",
       "         3.29022907e+04, 4.99584548e+02, 2.03613268e+07, 6.72728446e+05,\n",
       "         4.11149764e+07, 9.85305906e+01, 7.81088430e-02, 1.16528974e+07,\n",
       "         1.09984397e+07]]])"
      ]
     },
     "execution_count": 45,
     "metadata": {},
     "output_type": "execute_result"
    }
   ],
   "source": [
    "mean_vector"
   ]
  },
  {
   "cell_type": "code",
   "execution_count": 46,
   "id": "835e338f",
   "metadata": {},
   "outputs": [],
   "source": [
    "scatter_matrix = np.zeros((2,2))"
   ]
  },
  {
   "cell_type": "code",
   "execution_count": null,
   "id": "c7c47302",
   "metadata": {},
   "outputs": [],
   "source": [
    "for i in range(all_samples.shape[1]):\n",
    "    scatter_matrix += (all_samples[:,i].reshape(2,1) - mean_vector).dot((all_samples[:,i].reshape(2,1) - mean_vector).T)\n",
    "print('Scatter Matrix:\\n', scatter_matrix)"
   ]
  },
  {
   "cell_type": "code",
   "execution_count": null,
   "id": "ac42aab1",
   "metadata": {},
   "outputs": [
    {
     "data": {
      "application/vnd.jupyter.widget-view+json": {
       "model_id": "b91ba860cf0c4c0ba47fad15e7c0fdc0",
       "version_major": 2,
       "version_minor": 0
      },
      "text/plain": [
       "Summarize dataset:   0%|          | 0/5 [00:00<?, ?it/s]"
      ]
     },
     "metadata": {},
     "output_type": "display_data"
    }
   ],
   "source": [
    "report = ProfileReport(report_df)\n",
    "report"
   ]
  },
  {
   "cell_type": "code",
   "execution_count": null,
   "id": "f3f70d01",
   "metadata": {},
   "outputs": [],
   "source": [
    "report.to_file(\"report.html\")"
   ]
  },
  {
   "cell_type": "code",
   "execution_count": 8,
   "id": "cb6b798d",
   "metadata": {},
   "outputs": [],
   "source": [
    "## scaling and normalizing of the dataset"
   ]
  },
  {
   "cell_type": "code",
   "execution_count": 11,
   "id": "669b2a24",
   "metadata": {},
   "outputs": [],
   "source": [
    "numerical_features = df.select_dtypes(include='number').columns.tolist()"
   ]
  },
  {
   "cell_type": "code",
   "execution_count": 10,
   "id": "b867c80f",
   "metadata": {},
   "outputs": [],
   "source": [
    "categorical_features = df.select_dtypes(exclude='number').columns.to_list()"
   ]
  },
  {
   "cell_type": "code",
   "execution_count": 14,
   "id": "c3f671d0",
   "metadata": {},
   "outputs": [],
   "source": [
    "numeric_pipeline = Pipeline(steps=[\n",
    "    ('impute', SimpleImputer(strategy='mean')),\n",
    "    ('scale', MinMaxScaler())\n",
    "])\n",
    "\n",
    "categorical_pipeline = Pipeline(steps=[\n",
    "    ('impute', SimpleImputer(strategy='most_frequent')),\n",
    "    ('one-hot', OneHotEncoder(handle_unknown='ignore', sparse=False))\n",
    "])"
   ]
  },
  {
   "cell_type": "code",
   "execution_count": 17,
   "id": "1ccf6a7a",
   "metadata": {},
   "outputs": [],
   "source": [
    "preprocessed_data = ColumnTransformer(transformers=[\n",
    "    ('number', numeric_pipeline, numerical_features),\n",
    "    ('category', categorical_pipeline, categorical_features)\n",
    "])"
   ]
  },
  {
   "cell_type": "code",
   "execution_count": 19,
   "id": "e7419b7f",
   "metadata": {},
   "outputs": [],
   "source": [
    "numerical_transforms = numeric_pipeline.fit_transform(df.select_dtypes(include='number'))"
   ]
  },
  {
   "cell_type": "code",
   "execution_count": 20,
   "id": "df1ce23e",
   "metadata": {},
   "outputs": [
    {
     "data": {
      "text/plain": [
       "array([[0.98850572, 0.77077077, 0.66266266, ..., 0.53230399, 0.44899105,\n",
       "        0.33684625],\n",
       "       [0.98850572, 0.23523524, 0.60660661, ..., 0.90919131, 0.67493396,\n",
       "        0.72140079],\n",
       "       [0.98850572, 0.001001  , 0.65265265, ..., 0.2545866 , 0.33150386,\n",
       "        0.30439426],\n",
       "       ...,\n",
       "       [0.98850573, 0.28328328, 0.81081081, ..., 0.68330261, 0.4246416 ,\n",
       "        0.65375757],\n",
       "       [0.98850573, 0.6966967 , 0.32732733, ..., 0.08495744, 0.35459365,\n",
       "        0.40718827],\n",
       "       [0.51385153, 0.49968789, 0.49930018, ..., 0.4991133 , 0.50691856,\n",
       "        0.49955529]])"
      ]
     },
     "execution_count": 20,
     "metadata": {},
     "output_type": "execute_result"
    }
   ],
   "source": [
    "numerical_transforms"
   ]
  },
  {
   "cell_type": "code",
   "execution_count": null,
   "id": "2cbaadb2",
   "metadata": {},
   "outputs": [],
   "source": [
    "preped_data"
   ]
  },
  {
   "cell_type": "code",
   "execution_count": null,
   "id": "16afcec3",
   "metadata": {},
   "outputs": [],
   "source": []
  }
 ],
 "metadata": {
  "kernelspec": {
   "display_name": "Python 3 (ipykernel)",
   "language": "python",
   "name": "python3"
  },
  "language_info": {
   "codemirror_mode": {
    "name": "ipython",
    "version": 3
   },
   "file_extension": ".py",
   "mimetype": "text/x-python",
   "name": "python",
   "nbconvert_exporter": "python",
   "pygments_lexer": "ipython3",
   "version": "3.8.10"
  }
 },
 "nbformat": 4,
 "nbformat_minor": 5
}
