{
 "cells": [
  {
   "cell_type": "markdown",
   "id": "18a5ed5b",
   "metadata": {},
   "source": [
    "## Telecom User Data Analysis"
   ]
  },
  {
   "cell_type": "markdown",
   "id": "ba2aeb8c",
   "metadata": {},
   "source": [
    "### Libraries"
   ]
  },
  {
   "cell_type": "code",
   "execution_count": 1,
   "id": "9715a0c5",
   "metadata": {},
   "outputs": [],
   "source": [
    "import warnings\n",
    "warnings.filterwarnings('ignore')\n",
    "import matplotlib.pyplot as plt\n",
    "import pandas as pd\n",
    "from functools import reduce\n",
    "from sklearn.impute import SimpleImputer\n",
    "from sklearn.preprocessing import OneHotEncoder, MinMaxScaler\n",
    "from sklearn.pipeline import Pipeline\n",
    "from sklearn.model_selection import train_test_split\n",
    "from sklearn.compose import ColumnTransformer\n",
    "from statistics import mean\n",
    "from pandas_profiling import ProfileReport\n",
    "import numpy as np"
   ]
  },
  {
   "cell_type": "markdown",
   "id": "d2d68c7d",
   "metadata": {},
   "source": [
    "### Data Preprocessing"
   ]
  },
  {
   "cell_type": "code",
   "execution_count": 224,
   "id": "10b85937",
   "metadata": {},
   "outputs": [],
   "source": [
    "data = pd.read_excel(\"../data/telcom.xlsx\",engine='openpyxl')"
   ]
  },
  {
   "cell_type": "code",
   "execution_count": 2,
   "id": "a9c692f3",
   "metadata": {},
   "outputs": [],
   "source": [
    "df = pd.read_csv(\"../data/telcom.csv\")"
   ]
  },
  {
   "cell_type": "code",
   "execution_count": 223,
   "id": "b6072dce",
   "metadata": {},
   "outputs": [
    {
     "data": {
      "text/html": [
       "<div>\n",
       "<style scoped>\n",
       "    .dataframe tbody tr th:only-of-type {\n",
       "        vertical-align: middle;\n",
       "    }\n",
       "\n",
       "    .dataframe tbody tr th {\n",
       "        vertical-align: top;\n",
       "    }\n",
       "\n",
       "    .dataframe thead th {\n",
       "        text-align: right;\n",
       "    }\n",
       "</style>\n",
       "<table border=\"1\" class=\"dataframe\">\n",
       "  <thead>\n",
       "    <tr style=\"text-align: right;\">\n",
       "      <th></th>\n",
       "      <th>Bearer Id</th>\n",
       "      <th>Start</th>\n",
       "      <th>Start ms</th>\n",
       "      <th>End</th>\n",
       "      <th>End ms</th>\n",
       "      <th>Dur. (ms)</th>\n",
       "      <th>IMSI</th>\n",
       "      <th>MSISDN/Number</th>\n",
       "      <th>IMEI</th>\n",
       "      <th>Last Location Name</th>\n",
       "      <th>...</th>\n",
       "      <th>Youtube DL (Bytes)</th>\n",
       "      <th>Youtube UL (Bytes)</th>\n",
       "      <th>Netflix DL (Bytes)</th>\n",
       "      <th>Netflix UL (Bytes)</th>\n",
       "      <th>Gaming DL (Bytes)</th>\n",
       "      <th>Gaming UL (Bytes)</th>\n",
       "      <th>Other DL (Bytes)</th>\n",
       "      <th>Other UL (Bytes)</th>\n",
       "      <th>Total UL (Bytes)</th>\n",
       "      <th>Total DL (Bytes)</th>\n",
       "    </tr>\n",
       "  </thead>\n",
       "  <tbody>\n",
       "    <tr>\n",
       "      <th>0</th>\n",
       "      <td>1.311450e+19</td>\n",
       "      <td>4/4/19 12:01</td>\n",
       "      <td>770.0</td>\n",
       "      <td>4/25/19 14:35</td>\n",
       "      <td>662.0</td>\n",
       "      <td>1823652.0</td>\n",
       "      <td>2.082014e+14</td>\n",
       "      <td>3.366496e+10</td>\n",
       "      <td>3.552121e+13</td>\n",
       "      <td>9.16457E+15</td>\n",
       "      <td>...</td>\n",
       "      <td>15854611.0</td>\n",
       "      <td>2501332.0</td>\n",
       "      <td>8198936.0</td>\n",
       "      <td>9656251.0</td>\n",
       "      <td>278082303.0</td>\n",
       "      <td>14344150.0</td>\n",
       "      <td>171744450.0</td>\n",
       "      <td>8814393.0</td>\n",
       "      <td>36749741.0</td>\n",
       "      <td>308879636.0</td>\n",
       "    </tr>\n",
       "    <tr>\n",
       "      <th>1</th>\n",
       "      <td>1.311450e+19</td>\n",
       "      <td>4/9/19 13:04</td>\n",
       "      <td>235.0</td>\n",
       "      <td>4/25/19 8:15</td>\n",
       "      <td>606.0</td>\n",
       "      <td>1365104.0</td>\n",
       "      <td>2.082019e+14</td>\n",
       "      <td>3.368185e+10</td>\n",
       "      <td>3.579401e+13</td>\n",
       "      <td>L77566A</td>\n",
       "      <td>...</td>\n",
       "      <td>20247395.0</td>\n",
       "      <td>19111729.0</td>\n",
       "      <td>18338413.0</td>\n",
       "      <td>17227132.0</td>\n",
       "      <td>608750074.0</td>\n",
       "      <td>1170709.0</td>\n",
       "      <td>526904238.0</td>\n",
       "      <td>15055145.0</td>\n",
       "      <td>53800391.0</td>\n",
       "      <td>653384965.0</td>\n",
       "    </tr>\n",
       "    <tr>\n",
       "      <th>2</th>\n",
       "      <td>1.311450e+19</td>\n",
       "      <td>4/9/19 17:42</td>\n",
       "      <td>1.0</td>\n",
       "      <td>4/25/19 11:58</td>\n",
       "      <td>652.0</td>\n",
       "      <td>1361762.0</td>\n",
       "      <td>2.082003e+14</td>\n",
       "      <td>3.376063e+10</td>\n",
       "      <td>3.528151e+13</td>\n",
       "      <td>D42335A</td>\n",
       "      <td>...</td>\n",
       "      <td>19725661.0</td>\n",
       "      <td>14699576.0</td>\n",
       "      <td>17587794.0</td>\n",
       "      <td>6163408.0</td>\n",
       "      <td>229584621.0</td>\n",
       "      <td>395630.0</td>\n",
       "      <td>410692588.0</td>\n",
       "      <td>4215763.0</td>\n",
       "      <td>27883638.0</td>\n",
       "      <td>279807335.0</td>\n",
       "    </tr>\n",
       "    <tr>\n",
       "      <th>3</th>\n",
       "      <td>1.311450e+19</td>\n",
       "      <td>4/10/19 0:31</td>\n",
       "      <td>486.0</td>\n",
       "      <td>4/25/19 7:36</td>\n",
       "      <td>171.0</td>\n",
       "      <td>1321509.0</td>\n",
       "      <td>2.082014e+14</td>\n",
       "      <td>3.375034e+10</td>\n",
       "      <td>3.535661e+13</td>\n",
       "      <td>T21824A</td>\n",
       "      <td>...</td>\n",
       "      <td>21388122.0</td>\n",
       "      <td>15146643.0</td>\n",
       "      <td>13994646.0</td>\n",
       "      <td>1097942.0</td>\n",
       "      <td>799538153.0</td>\n",
       "      <td>10849722.0</td>\n",
       "      <td>749039933.0</td>\n",
       "      <td>12797283.0</td>\n",
       "      <td>43324218.0</td>\n",
       "      <td>846028530.0</td>\n",
       "    </tr>\n",
       "  </tbody>\n",
       "</table>\n",
       "<p>4 rows × 55 columns</p>\n",
       "</div>"
      ],
      "text/plain": [
       "      Bearer Id         Start  Start ms            End  End ms  Dur. (ms)  \\\n",
       "0  1.311450e+19  4/4/19 12:01     770.0  4/25/19 14:35   662.0  1823652.0   \n",
       "1  1.311450e+19  4/9/19 13:04     235.0   4/25/19 8:15   606.0  1365104.0   \n",
       "2  1.311450e+19  4/9/19 17:42       1.0  4/25/19 11:58   652.0  1361762.0   \n",
       "3  1.311450e+19  4/10/19 0:31     486.0   4/25/19 7:36   171.0  1321509.0   \n",
       "\n",
       "           IMSI  MSISDN/Number          IMEI Last Location Name  ...  \\\n",
       "0  2.082014e+14   3.366496e+10  3.552121e+13        9.16457E+15  ...   \n",
       "1  2.082019e+14   3.368185e+10  3.579401e+13            L77566A  ...   \n",
       "2  2.082003e+14   3.376063e+10  3.528151e+13            D42335A  ...   \n",
       "3  2.082014e+14   3.375034e+10  3.535661e+13            T21824A  ...   \n",
       "\n",
       "   Youtube DL (Bytes)  Youtube UL (Bytes)  Netflix DL (Bytes)  \\\n",
       "0          15854611.0           2501332.0           8198936.0   \n",
       "1          20247395.0          19111729.0          18338413.0   \n",
       "2          19725661.0          14699576.0          17587794.0   \n",
       "3          21388122.0          15146643.0          13994646.0   \n",
       "\n",
       "   Netflix UL (Bytes)  Gaming DL (Bytes)  Gaming UL (Bytes)  Other DL (Bytes)  \\\n",
       "0           9656251.0        278082303.0         14344150.0       171744450.0   \n",
       "1          17227132.0        608750074.0          1170709.0       526904238.0   \n",
       "2           6163408.0        229584621.0           395630.0       410692588.0   \n",
       "3           1097942.0        799538153.0         10849722.0       749039933.0   \n",
       "\n",
       "   Other UL (Bytes)  Total UL (Bytes)  Total DL (Bytes)  \n",
       "0         8814393.0        36749741.0       308879636.0  \n",
       "1        15055145.0        53800391.0       653384965.0  \n",
       "2         4215763.0        27883638.0       279807335.0  \n",
       "3        12797283.0        43324218.0       846028530.0  \n",
       "\n",
       "[4 rows x 55 columns]"
      ]
     },
     "execution_count": 223,
     "metadata": {},
     "output_type": "execute_result"
    }
   ],
   "source": [
    "data.head(4)"
   ]
  },
  {
   "cell_type": "code",
   "execution_count": 118,
   "id": "31034e04",
   "metadata": {},
   "outputs": [
    {
     "data": {
      "text/html": [
       "<div>\n",
       "<style scoped>\n",
       "    .dataframe tbody tr th:only-of-type {\n",
       "        vertical-align: middle;\n",
       "    }\n",
       "\n",
       "    .dataframe tbody tr th {\n",
       "        vertical-align: top;\n",
       "    }\n",
       "\n",
       "    .dataframe thead th {\n",
       "        text-align: right;\n",
       "    }\n",
       "</style>\n",
       "<table border=\"1\" class=\"dataframe\">\n",
       "  <thead>\n",
       "    <tr style=\"text-align: right;\">\n",
       "      <th></th>\n",
       "      <th>Bearer Id</th>\n",
       "      <th>Start</th>\n",
       "      <th>Start ms</th>\n",
       "      <th>End</th>\n",
       "      <th>End ms</th>\n",
       "      <th>Dur. (ms)</th>\n",
       "      <th>IMSI</th>\n",
       "      <th>MSISDN/Number</th>\n",
       "      <th>IMEI</th>\n",
       "      <th>Last Location Name</th>\n",
       "      <th>...</th>\n",
       "      <th>Youtube DL (Bytes)</th>\n",
       "      <th>Youtube UL (Bytes)</th>\n",
       "      <th>Netflix DL (Bytes)</th>\n",
       "      <th>Netflix UL (Bytes)</th>\n",
       "      <th>Gaming DL (Bytes)</th>\n",
       "      <th>Gaming UL (Bytes)</th>\n",
       "      <th>Other DL (Bytes)</th>\n",
       "      <th>Other UL (Bytes)</th>\n",
       "      <th>Total UL (Bytes)</th>\n",
       "      <th>Total DL (Bytes)</th>\n",
       "    </tr>\n",
       "  </thead>\n",
       "  <tbody>\n",
       "    <tr>\n",
       "      <th>0</th>\n",
       "      <td>13114483460844900352</td>\n",
       "      <td>2019-04-04 12:01:18</td>\n",
       "      <td>770.0</td>\n",
       "      <td>2019-04-25 14:35:31</td>\n",
       "      <td>662.0</td>\n",
       "      <td>1823652.0</td>\n",
       "      <td>2.082014e+14</td>\n",
       "      <td>3.366496e+10</td>\n",
       "      <td>3.552121e+13</td>\n",
       "      <td>9164566995485190</td>\n",
       "      <td>...</td>\n",
       "      <td>15854611.0</td>\n",
       "      <td>2501332.0</td>\n",
       "      <td>8198936.0</td>\n",
       "      <td>9656251.0</td>\n",
       "      <td>278082303.0</td>\n",
       "      <td>14344150.0</td>\n",
       "      <td>171744450.0</td>\n",
       "      <td>8814393.0</td>\n",
       "      <td>36749741.0</td>\n",
       "      <td>308879636.0</td>\n",
       "    </tr>\n",
       "    <tr>\n",
       "      <th>1</th>\n",
       "      <td>13114483482878900224</td>\n",
       "      <td>2019-04-09 13:04:04</td>\n",
       "      <td>235.0</td>\n",
       "      <td>2019-04-25 08:15:48</td>\n",
       "      <td>606.0</td>\n",
       "      <td>1365104.0</td>\n",
       "      <td>2.082019e+14</td>\n",
       "      <td>3.368185e+10</td>\n",
       "      <td>3.579401e+13</td>\n",
       "      <td>L77566A</td>\n",
       "      <td>...</td>\n",
       "      <td>20247395.0</td>\n",
       "      <td>19111729.0</td>\n",
       "      <td>18338413.0</td>\n",
       "      <td>17227132.0</td>\n",
       "      <td>608750074.0</td>\n",
       "      <td>1170709.0</td>\n",
       "      <td>526904238.0</td>\n",
       "      <td>15055145.0</td>\n",
       "      <td>53800391.0</td>\n",
       "      <td>653384965.0</td>\n",
       "    </tr>\n",
       "    <tr>\n",
       "      <th>2</th>\n",
       "      <td>13114483484080500736</td>\n",
       "      <td>2019-04-09 17:42:11</td>\n",
       "      <td>1.0</td>\n",
       "      <td>2019-04-25 11:58:13</td>\n",
       "      <td>652.0</td>\n",
       "      <td>1361762.0</td>\n",
       "      <td>2.082003e+14</td>\n",
       "      <td>3.376063e+10</td>\n",
       "      <td>3.528151e+13</td>\n",
       "      <td>D42335A</td>\n",
       "      <td>...</td>\n",
       "      <td>19725661.0</td>\n",
       "      <td>14699576.0</td>\n",
       "      <td>17587794.0</td>\n",
       "      <td>6163408.0</td>\n",
       "      <td>229584621.0</td>\n",
       "      <td>395630.0</td>\n",
       "      <td>410692588.0</td>\n",
       "      <td>4215763.0</td>\n",
       "      <td>27883638.0</td>\n",
       "      <td>279807335.0</td>\n",
       "    </tr>\n",
       "    <tr>\n",
       "      <th>3</th>\n",
       "      <td>13114483485442799616</td>\n",
       "      <td>2019-04-10 00:31:25</td>\n",
       "      <td>486.0</td>\n",
       "      <td>2019-04-25 07:36:35</td>\n",
       "      <td>171.0</td>\n",
       "      <td>1321509.0</td>\n",
       "      <td>2.082014e+14</td>\n",
       "      <td>3.375034e+10</td>\n",
       "      <td>3.535661e+13</td>\n",
       "      <td>T21824A</td>\n",
       "      <td>...</td>\n",
       "      <td>21388122.0</td>\n",
       "      <td>15146643.0</td>\n",
       "      <td>13994646.0</td>\n",
       "      <td>1097942.0</td>\n",
       "      <td>799538153.0</td>\n",
       "      <td>10849722.0</td>\n",
       "      <td>749039933.0</td>\n",
       "      <td>12797283.0</td>\n",
       "      <td>43324218.0</td>\n",
       "      <td>846028530.0</td>\n",
       "    </tr>\n",
       "    <tr>\n",
       "      <th>4</th>\n",
       "      <td>13114483499480700928</td>\n",
       "      <td>2019-04-12 20:10:23</td>\n",
       "      <td>565.0</td>\n",
       "      <td>2019-04-25 10:40:32</td>\n",
       "      <td>954.0</td>\n",
       "      <td>1089009.0</td>\n",
       "      <td>2.082014e+14</td>\n",
       "      <td>3.369980e+10</td>\n",
       "      <td>3.540701e+13</td>\n",
       "      <td>D88865A</td>\n",
       "      <td>...</td>\n",
       "      <td>15259380.0</td>\n",
       "      <td>18962873.0</td>\n",
       "      <td>17124581.0</td>\n",
       "      <td>415218.0</td>\n",
       "      <td>527707248.0</td>\n",
       "      <td>3529801.0</td>\n",
       "      <td>550709500.0</td>\n",
       "      <td>13910322.0</td>\n",
       "      <td>38542814.0</td>\n",
       "      <td>569138589.0</td>\n",
       "    </tr>\n",
       "  </tbody>\n",
       "</table>\n",
       "<p>5 rows × 55 columns</p>\n",
       "</div>"
      ],
      "text/plain": [
       "              Bearer Id               Start  Start ms                 End  \\\n",
       "0  13114483460844900352 2019-04-04 12:01:18     770.0 2019-04-25 14:35:31   \n",
       "1  13114483482878900224 2019-04-09 13:04:04     235.0 2019-04-25 08:15:48   \n",
       "2  13114483484080500736 2019-04-09 17:42:11       1.0 2019-04-25 11:58:13   \n",
       "3  13114483485442799616 2019-04-10 00:31:25     486.0 2019-04-25 07:36:35   \n",
       "4  13114483499480700928 2019-04-12 20:10:23     565.0 2019-04-25 10:40:32   \n",
       "\n",
       "   End ms  Dur. (ms)          IMSI  MSISDN/Number          IMEI  \\\n",
       "0   662.0  1823652.0  2.082014e+14   3.366496e+10  3.552121e+13   \n",
       "1   606.0  1365104.0  2.082019e+14   3.368185e+10  3.579401e+13   \n",
       "2   652.0  1361762.0  2.082003e+14   3.376063e+10  3.528151e+13   \n",
       "3   171.0  1321509.0  2.082014e+14   3.375034e+10  3.535661e+13   \n",
       "4   954.0  1089009.0  2.082014e+14   3.369980e+10  3.540701e+13   \n",
       "\n",
       "  Last Location Name  ...  Youtube DL (Bytes)  Youtube UL (Bytes)  \\\n",
       "0   9164566995485190  ...          15854611.0           2501332.0   \n",
       "1            L77566A  ...          20247395.0          19111729.0   \n",
       "2            D42335A  ...          19725661.0          14699576.0   \n",
       "3            T21824A  ...          21388122.0          15146643.0   \n",
       "4            D88865A  ...          15259380.0          18962873.0   \n",
       "\n",
       "   Netflix DL (Bytes)  Netflix UL (Bytes)  Gaming DL (Bytes)  \\\n",
       "0           8198936.0           9656251.0        278082303.0   \n",
       "1          18338413.0          17227132.0        608750074.0   \n",
       "2          17587794.0           6163408.0        229584621.0   \n",
       "3          13994646.0           1097942.0        799538153.0   \n",
       "4          17124581.0            415218.0        527707248.0   \n",
       "\n",
       "   Gaming UL (Bytes)  Other DL (Bytes)  Other UL (Bytes)  Total UL (Bytes)  \\\n",
       "0         14344150.0       171744450.0         8814393.0        36749741.0   \n",
       "1          1170709.0       526904238.0        15055145.0        53800391.0   \n",
       "2           395630.0       410692588.0         4215763.0        27883638.0   \n",
       "3         10849722.0       749039933.0        12797283.0        43324218.0   \n",
       "4          3529801.0       550709500.0        13910322.0        38542814.0   \n",
       "\n",
       "   Total DL (Bytes)  \n",
       "0       308879636.0  \n",
       "1       653384965.0  \n",
       "2       279807335.0  \n",
       "3       846028530.0  \n",
       "4       569138589.0  \n",
       "\n",
       "[5 rows x 55 columns]"
      ]
     },
     "execution_count": 118,
     "metadata": {},
     "output_type": "execute_result"
    }
   ],
   "source": [
    "df.head()"
   ]
  },
  {
   "cell_type": "code",
   "execution_count": 6,
   "id": "1414aa0e",
   "metadata": {},
   "outputs": [],
   "source": [
    "### Check for sufficiency of data to answer objectives by reviewing the objective and \n",
    "### available data. And check the number of observations and required sample size."
   ]
  },
  {
   "cell_type": "code",
   "execution_count": 119,
   "id": "7b474de8",
   "metadata": {},
   "outputs": [
    {
     "data": {
      "text/plain": [
       "['Bearer Id',\n",
       " 'Start',\n",
       " 'Start ms',\n",
       " 'End',\n",
       " 'End ms',\n",
       " 'Dur. (ms)',\n",
       " 'IMSI',\n",
       " 'MSISDN/Number',\n",
       " 'IMEI',\n",
       " 'Last Location Name',\n",
       " 'Avg RTT DL (ms)',\n",
       " 'Avg RTT UL (ms)',\n",
       " 'Avg Bearer TP DL (kbps)',\n",
       " 'Avg Bearer TP UL (kbps)',\n",
       " 'TCP DL Retrans. Vol (Bytes)',\n",
       " 'TCP UL Retrans. Vol (Bytes)',\n",
       " 'DL TP < 50 Kbps (%)',\n",
       " '50 Kbps < DL TP < 250 Kbps (%)',\n",
       " '250 Kbps < DL TP < 1 Mbps (%)',\n",
       " 'DL TP > 1 Mbps (%)',\n",
       " 'UL TP < 10 Kbps (%)',\n",
       " '10 Kbps < UL TP < 50 Kbps (%)',\n",
       " '50 Kbps < UL TP < 300 Kbps (%)',\n",
       " 'UL TP > 300 Kbps (%)',\n",
       " 'HTTP DL (Bytes)',\n",
       " 'HTTP UL (Bytes)',\n",
       " 'Activity Duration DL (ms)',\n",
       " 'Activity Duration UL (ms)',\n",
       " 'Dur. (ms).1',\n",
       " 'Handset Manufacturer',\n",
       " 'Handset Type',\n",
       " 'Nb of sec with 125000B < Vol DL',\n",
       " 'Nb of sec with 1250B < Vol UL < 6250B',\n",
       " 'Nb of sec with 31250B < Vol DL < 125000B',\n",
       " 'Nb of sec with 37500B < Vol UL',\n",
       " 'Nb of sec with 6250B < Vol DL < 31250B',\n",
       " 'Nb of sec with 6250B < Vol UL < 37500B',\n",
       " 'Nb of sec with Vol DL < 6250B',\n",
       " 'Nb of sec with Vol UL < 1250B',\n",
       " 'Social Media DL (Bytes)',\n",
       " 'Social Media UL (Bytes)',\n",
       " 'Google DL (Bytes)',\n",
       " 'Google UL (Bytes)',\n",
       " 'Email DL (Bytes)',\n",
       " 'Email UL (Bytes)',\n",
       " 'Youtube DL (Bytes)',\n",
       " 'Youtube UL (Bytes)',\n",
       " 'Netflix DL (Bytes)',\n",
       " 'Netflix UL (Bytes)',\n",
       " 'Gaming DL (Bytes)',\n",
       " 'Gaming UL (Bytes)',\n",
       " 'Other DL (Bytes)',\n",
       " 'Other UL (Bytes)',\n",
       " 'Total UL (Bytes)',\n",
       " 'Total DL (Bytes)']"
      ]
     },
     "execution_count": 119,
     "metadata": {},
     "output_type": "execute_result"
    }
   ],
   "source": [
    "df.columns.to_list()"
   ]
  },
  {
   "cell_type": "code",
   "execution_count": 120,
   "id": "81a09408",
   "metadata": {},
   "outputs": [
    {
     "data": {
      "text/plain": [
       "(150001, 55)"
      ]
     },
     "execution_count": 120,
     "metadata": {},
     "output_type": "execute_result"
    }
   ],
   "source": [
    "df.shape"
   ]
  },
  {
   "cell_type": "code",
   "execution_count": 12,
   "id": "2a202ca3",
   "metadata": {},
   "outputs": [],
   "source": [
    "### Check for timeliness of the data"
   ]
  },
  {
   "cell_type": "code",
   "execution_count": null,
   "id": "71bb9785",
   "metadata": {},
   "outputs": [],
   "source": []
  },
  {
   "cell_type": "code",
   "execution_count": 10,
   "id": "d0eae847",
   "metadata": {},
   "outputs": [],
   "source": [
    "### checking for duplicates"
   ]
  },
  {
   "cell_type": "code",
   "execution_count": null,
   "id": "163289f1",
   "metadata": {},
   "outputs": [],
   "source": []
  },
  {
   "cell_type": "code",
   "execution_count": 13,
   "id": "bb3c470e",
   "metadata": {},
   "outputs": [],
   "source": [
    "### Check for column organization and naming and correct them."
   ]
  },
  {
   "cell_type": "code",
   "execution_count": null,
   "id": "87b4e7da",
   "metadata": {},
   "outputs": [],
   "source": []
  },
  {
   "cell_type": "code",
   "execution_count": 59,
   "id": "084a0d6d",
   "metadata": {},
   "outputs": [],
   "source": [
    "### Check for missing values and either fill them with a value that will, in no way, \n",
    "### affect the analysis or remove the record."
   ]
  },
  {
   "cell_type": "code",
   "execution_count": 21,
   "id": "cbb5770d",
   "metadata": {},
   "outputs": [],
   "source": [
    "def handle_missing_values(df,x):\n",
    "    \"\"\"\n",
    "    this algorithm does the following\n",
    "    - remove columns with x percentage of missing values\n",
    "    - fill the missing values with the mean\n",
    "    returns:\n",
    "        - df\n",
    "        - percentage of missing values\n",
    "    \"\"\"\n",
    "    missing_percentage = round((df.isnull().sum().sum()/\\\n",
    "            reduce(lambda x, y: x*y, df.shape))*100,2)\n",
    "    null_cols = df.isnull().sum().to_dict()\n",
    "    for key,val in null_cols.items():\n",
    "        if val/df.shape[0] > x:\n",
    "            df.drop([key], axis=1)\n",
    "        elif  val/df.shape[0] < x and val > 0 and df[key].dtype.kind in 'biufc':\n",
    "            df.fillna(df[key].mean().round(1), inplace=True)\n",
    "    return missing_percentage, df"
   ]
  },
  {
   "cell_type": "code",
   "execution_count": 26,
   "id": "ebdaaee5",
   "metadata": {},
   "outputs": [
    {
     "data": {
      "text/plain": [
       "False"
      ]
     },
     "execution_count": 26,
     "metadata": {},
     "output_type": "execute_result"
    }
   ],
   "source": [
    "# test the function\n",
    "missing_percentage,df_ = handle_missing_values(df,x=0.3)\n",
    "True in df.isna().any().to_list()"
   ]
  },
  {
   "cell_type": "code",
   "execution_count": 24,
   "id": "524c13fd",
   "metadata": {},
   "outputs": [
    {
     "data": {
      "text/plain": [
       "Bearer Id                                   0\n",
       "Start                                       0\n",
       "Start ms                                    0\n",
       "End                                         0\n",
       "End ms                                      0\n",
       "Dur. (ms)                                   0\n",
       "IMSI                                        0\n",
       "MSISDN/Number                               0\n",
       "IMEI                                        0\n",
       "Last Location Name                          0\n",
       "Avg RTT DL (ms)                             0\n",
       "Avg RTT UL (ms)                             0\n",
       "Avg Bearer TP DL (kbps)                     0\n",
       "Avg Bearer TP UL (kbps)                     0\n",
       "TCP DL Retrans. Vol (Bytes)                 0\n",
       "TCP UL Retrans. Vol (Bytes)                 0\n",
       "DL TP < 50 Kbps (%)                         0\n",
       "50 Kbps < DL TP < 250 Kbps (%)              0\n",
       "250 Kbps < DL TP < 1 Mbps (%)               0\n",
       "DL TP > 1 Mbps (%)                          0\n",
       "UL TP < 10 Kbps (%)                         0\n",
       "10 Kbps < UL TP < 50 Kbps (%)               0\n",
       "50 Kbps < UL TP < 300 Kbps (%)              0\n",
       "UL TP > 300 Kbps (%)                        0\n",
       "HTTP DL (Bytes)                             0\n",
       "HTTP UL (Bytes)                             0\n",
       "Activity Duration DL (ms)                   0\n",
       "Activity Duration UL (ms)                   0\n",
       "Dur. (ms).1                                 0\n",
       "Handset Manufacturer                        0\n",
       "Handset Type                                0\n",
       "Nb of sec with 125000B < Vol DL             0\n",
       "Nb of sec with 1250B < Vol UL < 6250B       0\n",
       "Nb of sec with 31250B < Vol DL < 125000B    0\n",
       "Nb of sec with 37500B < Vol UL              0\n",
       "Nb of sec with 6250B < Vol DL < 31250B      0\n",
       "Nb of sec with 6250B < Vol UL < 37500B      0\n",
       "Nb of sec with Vol DL < 6250B               0\n",
       "Nb of sec with Vol UL < 1250B               0\n",
       "Social Media DL (Bytes)                     0\n",
       "Social Media UL (Bytes)                     0\n",
       "Google DL (Bytes)                           0\n",
       "Google UL (Bytes)                           0\n",
       "Email DL (Bytes)                            0\n",
       "Email UL (Bytes)                            0\n",
       "Youtube DL (Bytes)                          0\n",
       "Youtube UL (Bytes)                          0\n",
       "Netflix DL (Bytes)                          0\n",
       "Netflix UL (Bytes)                          0\n",
       "Gaming DL (Bytes)                           0\n",
       "Gaming UL (Bytes)                           0\n",
       "Other DL (Bytes)                            0\n",
       "Other UL (Bytes)                            0\n",
       "Total UL (Bytes)                            0\n",
       "Total DL (Bytes)                            0\n",
       "dtype: int64"
      ]
     },
     "execution_count": 24,
     "metadata": {},
     "output_type": "execute_result"
    }
   ],
   "source": [
    "df_.isnull().sum()"
   ]
  },
  {
   "cell_type": "code",
   "execution_count": 25,
   "id": "462f964d",
   "metadata": {},
   "outputs": [
    {
     "data": {
      "text/plain": [
       "(150001, 55)"
      ]
     },
     "execution_count": 25,
     "metadata": {},
     "output_type": "execute_result"
    }
   ],
   "source": [
    "df_.shape"
   ]
  },
  {
   "cell_type": "code",
   "execution_count": 15,
   "id": "5edabd74",
   "metadata": {},
   "outputs": [],
   "source": [
    "### Check for misspellings, Inconsistent capitalization, and Incorrect punctuation and other typos and \n",
    "### make corrections."
   ]
  },
  {
   "cell_type": "code",
   "execution_count": 16,
   "id": "a18fb99e",
   "metadata": {},
   "outputs": [],
   "source": [
    "### Check for correct character patterns like length and type of characters and make corrections."
   ]
  },
  {
   "cell_type": "code",
   "execution_count": null,
   "id": "9f5eb7c4",
   "metadata": {},
   "outputs": [],
   "source": []
  },
  {
   "cell_type": "code",
   "execution_count": 17,
   "id": "cb4ea2b9",
   "metadata": {},
   "outputs": [],
   "source": [
    "### Check for values that don't make sense given knowledge of the field and make corrections."
   ]
  },
  {
   "cell_type": "code",
   "execution_count": null,
   "id": "0301f9c9",
   "metadata": {},
   "outputs": [],
   "source": []
  },
  {
   "cell_type": "code",
   "execution_count": 18,
   "id": "42a1423e",
   "metadata": {},
   "outputs": [],
   "source": [
    "### Check for value ranges and make corrections."
   ]
  },
  {
   "cell_type": "code",
   "execution_count": null,
   "id": "e8c38be5",
   "metadata": {},
   "outputs": [],
   "source": []
  },
  {
   "cell_type": "code",
   "execution_count": 167,
   "id": "25b19110",
   "metadata": {},
   "outputs": [],
   "source": [
    "### Check for repeating or skipping patterns in variables whose values must be in sequence \n",
    "### or whose values must be unique and make corrections"
   ]
  },
  {
   "cell_type": "code",
   "execution_count": null,
   "id": "5bc2eb9f",
   "metadata": {},
   "outputs": [],
   "source": []
  },
  {
   "cell_type": "code",
   "execution_count": 168,
   "id": "b012707d",
   "metadata": {},
   "outputs": [],
   "source": [
    "### Top X Columns"
   ]
  },
  {
   "cell_type": "code",
   "execution_count": 164,
   "id": "2877846e",
   "metadata": {},
   "outputs": [],
   "source": [
    "def top_x_column(df, x, column,color):\n",
    "    handsets_df = pd.DataFrame(columns = [column])\n",
    "    handsets_df['type'] = df[column].to_list()\n",
    "    handests = handsets_df['type'].value_counts()\n",
    "    fig,ax = plt.subplots()\n",
    "    ax.tick_params(axis='x',labelsize=10)\n",
    "    ax.tick_params(axis='y',labelsize=10)\n",
    "    ax.set_xlabel(\"Handset\")\n",
    "    ax.set_ylabel(\"Frequency\")\n",
    "    ax.set_title(f\"The {x} Most Frequent {column}\")\n",
    "    handests[:x].plot(ax=ax,kind='bar',color=color)"
   ]
  },
  {
   "cell_type": "code",
   "execution_count": 165,
   "id": "77ef0539",
   "metadata": {},
   "outputs": [
    {
     "data": {
      "image/png": "[encoded data removed]",
      "text/plain": [
       "<Figure size 432x288 with 1 Axes>"
      ]
     },
     "metadata": {
      "needs_background": "light"
     },
     "output_type": "display_data"
    }
   ],
   "source": [
    "# Identifying the top 10 handsets used by the customers.\n",
    "top_x_column(df,10,'Handset Type','green')"
   ]
  },
  {
   "cell_type": "code",
   "execution_count": 166,
   "id": "39e52886",
   "metadata": {},
   "outputs": [
    {
     "data": {
      "image/png": "[encoded data removed]",
      "text/plain": [
       "<Figure size 432x288 with 1 Axes>"
      ]
     },
     "metadata": {
      "needs_background": "light"
     },
     "output_type": "display_data"
    }
   ],
   "source": [
    "# Identifying the top 3 handset manufacturers\n",
    "top_x_column(df,3,'Handset Manufacturer','purple')"
   ]
  },
  {
   "cell_type": "code",
   "execution_count": 196,
   "id": "e9274fb6",
   "metadata": {},
   "outputs": [
    {
     "name": "stdout",
     "output_type": "stream",
     "text": [
      "First 5 entries for 'Apple'\n",
      "------------------------\n",
      "22    Apple iPhone 6S (A1688)\n",
      "48    Apple iPhone 6S (A1688)\n",
      "51    Apple iPhone Se (A1723)\n",
      "52     Apple iPhone 8 (A1905)\n",
      "54    Apple iPhone 6S (A1688)\n",
      "Name: Handset Type, dtype: object\n",
      "\n",
      "First 5 entries for 'Huawei'\n",
      "------------------------\n",
      "6     Huawei Mate 20 Lite\n",
      "11        Huawei B593S-22\n",
      "20           Huawei E5180\n",
      "25         Huawei P20 Pro\n",
      "30           Huawei E5180\n",
      "Name: Handset Type, dtype: object\n",
      "\n",
      "First 5 entries for 'Samsung'\n",
      "------------------------\n",
      "0     Samsung Galaxy A5 Sm-A520F\n",
      "1    Samsung Galaxy J5 (Sm-J530)\n",
      "2       Samsung Galaxy A8 (2018)\n",
      "4               Samsung Sm-G390F\n",
      "8       Samsung Galaxy A8 (2018)\n",
      "Name: Handset Type, dtype: object\n",
      "\n"
     ]
    }
   ],
   "source": [
    "# Identify the top 5 handsets per top 3 handset manufacturer\n",
    "by_manufacture = df.groupby(\"Handset Manufacturer\",sort=True)\n",
    "\n",
    "for manufacturer, frame in by_manufacture:\n",
    "    if manufacturer in ['Apple','Samsung','Huawei']:\n",
    "        print(f\"First 5 entries for {manufacturer!r}\")\n",
    "        print(\"------------------------\")\n",
    "        print(frame.head(5)['Handset Type'], end=\"\\n\\n\")\n"
   ]
  },
  {
   "cell_type": "code",
   "execution_count": 197,
   "id": "cb542d3e",
   "metadata": {},
   "outputs": [
    {
     "data": {
      "text/plain": [
       "Index(['Bearer Id', 'Start', 'Start ms', 'End', 'End ms', 'Dur. (ms)', 'IMSI',\n",
       "       'MSISDN/Number', 'IMEI', 'Last Location Name', 'Avg RTT DL (ms)',\n",
       "       'Avg RTT UL (ms)', 'Avg Bearer TP DL (kbps)', 'Avg Bearer TP UL (kbps)',\n",
       "       'TCP DL Retrans. Vol (Bytes)', 'TCP UL Retrans. Vol (Bytes)',\n",
       "       'DL TP < 50 Kbps (%)', '50 Kbps < DL TP < 250 Kbps (%)',\n",
       "       '250 Kbps < DL TP < 1 Mbps (%)', 'DL TP > 1 Mbps (%)',\n",
       "       'UL TP < 10 Kbps (%)', '10 Kbps < UL TP < 50 Kbps (%)',\n",
       "       '50 Kbps < UL TP < 300 Kbps (%)', 'UL TP > 300 Kbps (%)',\n",
       "       'HTTP DL (Bytes)', 'HTTP UL (Bytes)', 'Activity Duration DL (ms)',\n",
       "       'Activity Duration UL (ms)', 'Dur. (ms).1', 'Handset Manufacturer',\n",
       "       'Handset Type', 'Nb of sec with 125000B < Vol DL',\n",
       "       'Nb of sec with 1250B < Vol UL < 6250B',\n",
       "       'Nb of sec with 31250B < Vol DL < 125000B',\n",
       "       'Nb of sec with 37500B < Vol UL',\n",
       "       'Nb of sec with 6250B < Vol DL < 31250B',\n",
       "       'Nb of sec with 6250B < Vol UL < 37500B',\n",
       "       'Nb of sec with Vol DL < 6250B', 'Nb of sec with Vol UL < 1250B',\n",
       "       'Social Media DL (Bytes)', 'Social Media UL (Bytes)',\n",
       "       'Google DL (Bytes)', 'Google UL (Bytes)', 'Email DL (Bytes)',\n",
       "       'Email UL (Bytes)', 'Youtube DL (Bytes)', 'Youtube UL (Bytes)',\n",
       "       'Netflix DL (Bytes)', 'Netflix UL (Bytes)', 'Gaming DL (Bytes)',\n",
       "       'Gaming UL (Bytes)', 'Other DL (Bytes)', 'Other UL (Bytes)',\n",
       "       'Total UL (Bytes)', 'Total DL (Bytes)'],\n",
       "      dtype='object')"
      ]
     },
     "execution_count": 197,
     "metadata": {},
     "output_type": "execute_result"
    }
   ],
   "source": [
    "df.columns"
   ]
  },
  {
   "cell_type": "code",
   "execution_count": 20,
   "id": "f7ab3e65",
   "metadata": {},
   "outputs": [],
   "source": [
    "# Aggregation per user the following information in the column  \n",
    "# number of xDR sessions\n",
    "# Session duration\n",
    "# the total download (DL) and upload (UL) data\n",
    "# the total data volume (in Bytes) during this session for each application\n"
   ]
  },
  {
   "cell_type": "code",
   "execution_count": 37,
   "id": "bfb224e0",
   "metadata": {},
   "outputs": [],
   "source": [
    "grouped = df.groupby('MSISDN/Number').agg({'Bearer Id': [min, max, mean]}) \n",
    "grouped.columns = [\"_\".join(x) for x in grouped.columns.ravel()]"
   ]
  },
  {
   "cell_type": "code",
   "execution_count": 38,
   "id": "d2a3b580",
   "metadata": {},
   "outputs": [
    {
     "data": {
      "text/html": [
       "<div>\n",
       "<style scoped>\n",
       "    .dataframe tbody tr th:only-of-type {\n",
       "        vertical-align: middle;\n",
       "    }\n",
       "\n",
       "    .dataframe tbody tr th {\n",
       "        vertical-align: top;\n",
       "    }\n",
       "\n",
       "    .dataframe thead th {\n",
       "        text-align: right;\n",
       "    }\n",
       "</style>\n",
       "<table border=\"1\" class=\"dataframe\">\n",
       "  <thead>\n",
       "    <tr style=\"text-align: right;\">\n",
       "      <th></th>\n",
       "      <th>Bearer Id_min</th>\n",
       "      <th>Bearer Id_max</th>\n",
       "      <th>Bearer Id_mean</th>\n",
       "    </tr>\n",
       "    <tr>\n",
       "      <th>MSISDN/Number</th>\n",
       "      <th></th>\n",
       "      <th></th>\n",
       "      <th></th>\n",
       "    </tr>\n",
       "  </thead>\n",
       "  <tbody>\n",
       "    <tr>\n",
       "      <th>3.360100e+10</th>\n",
       "      <td>1.311448e+19</td>\n",
       "      <td>1.311448e+19</td>\n",
       "      <td>1.311448e+19</td>\n",
       "    </tr>\n",
       "    <tr>\n",
       "      <th>3.360100e+10</th>\n",
       "      <td>7.349883e+18</td>\n",
       "      <td>7.349883e+18</td>\n",
       "      <td>7.349883e+18</td>\n",
       "    </tr>\n",
       "    <tr>\n",
       "      <th>3.360100e+10</th>\n",
       "      <td>7.349883e+18</td>\n",
       "      <td>7.349883e+18</td>\n",
       "      <td>7.349883e+18</td>\n",
       "    </tr>\n",
       "    <tr>\n",
       "      <th>3.360101e+10</th>\n",
       "      <td>1.304243e+19</td>\n",
       "      <td>1.304243e+19</td>\n",
       "      <td>1.304243e+19</td>\n",
       "    </tr>\n",
       "    <tr>\n",
       "      <th>3.360101e+10</th>\n",
       "      <td>7.277826e+18</td>\n",
       "      <td>7.349883e+18</td>\n",
       "      <td>7.313854e+18</td>\n",
       "    </tr>\n",
       "    <tr>\n",
       "      <th>...</th>\n",
       "      <td>...</td>\n",
       "      <td>...</td>\n",
       "      <td>...</td>\n",
       "    </tr>\n",
       "    <tr>\n",
       "      <th>3.379000e+10</th>\n",
       "      <td>1.311448e+19</td>\n",
       "      <td>1.311448e+19</td>\n",
       "      <td>1.311448e+19</td>\n",
       "    </tr>\n",
       "    <tr>\n",
       "      <th>3.197021e+12</th>\n",
       "      <td>7.277826e+18</td>\n",
       "      <td>7.277826e+18</td>\n",
       "      <td>7.277826e+18</td>\n",
       "    </tr>\n",
       "    <tr>\n",
       "      <th>3.370000e+14</th>\n",
       "      <td>7.349883e+18</td>\n",
       "      <td>7.349883e+18</td>\n",
       "      <td>7.349883e+18</td>\n",
       "    </tr>\n",
       "    <tr>\n",
       "      <th>8.823971e+14</th>\n",
       "      <td>7.277826e+18</td>\n",
       "      <td>7.277826e+18</td>\n",
       "      <td>7.277826e+18</td>\n",
       "    </tr>\n",
       "    <tr>\n",
       "      <th>1.013887e+19</th>\n",
       "      <td>6.917538e+18</td>\n",
       "      <td>1.311448e+19</td>\n",
       "      <td>9.040683e+18</td>\n",
       "    </tr>\n",
       "  </tbody>\n",
       "</table>\n",
       "<p>106857 rows × 3 columns</p>\n",
       "</div>"
      ],
      "text/plain": [
       "               Bearer Id_min  Bearer Id_max  Bearer Id_mean\n",
       "MSISDN/Number                                              \n",
       "3.360100e+10    1.311448e+19   1.311448e+19    1.311448e+19\n",
       "3.360100e+10    7.349883e+18   7.349883e+18    7.349883e+18\n",
       "3.360100e+10    7.349883e+18   7.349883e+18    7.349883e+18\n",
       "3.360101e+10    1.304243e+19   1.304243e+19    1.304243e+19\n",
       "3.360101e+10    7.277826e+18   7.349883e+18    7.313854e+18\n",
       "...                      ...            ...             ...\n",
       "3.379000e+10    1.311448e+19   1.311448e+19    1.311448e+19\n",
       "3.197021e+12    7.277826e+18   7.277826e+18    7.277826e+18\n",
       "3.370000e+14    7.349883e+18   7.349883e+18    7.349883e+18\n",
       "8.823971e+14    7.277826e+18   7.277826e+18    7.277826e+18\n",
       "1.013887e+19    6.917538e+18   1.311448e+19    9.040683e+18\n",
       "\n",
       "[106857 rows x 3 columns]"
      ]
     },
     "execution_count": 38,
     "metadata": {},
     "output_type": "execute_result"
    }
   ],
   "source": [
    "grouped"
   ]
  },
  {
   "cell_type": "code",
   "execution_count": 35,
   "id": "e944dbfc",
   "metadata": {},
   "outputs": [],
   "source": [
    "grouped = df.groupby('MSISDN/Number').agg({\"Dur. (ms)\": [min, max, mean]}) \n",
    "grouped.columns = [\"_\".join(x) for x in grouped.columns.ravel()]"
   ]
  },
  {
   "cell_type": "code",
   "execution_count": 36,
   "id": "3af9ea9c",
   "metadata": {},
   "outputs": [
    {
     "data": {
      "text/html": [
       "<div>\n",
       "<style scoped>\n",
       "    .dataframe tbody tr th:only-of-type {\n",
       "        vertical-align: middle;\n",
       "    }\n",
       "\n",
       "    .dataframe tbody tr th {\n",
       "        vertical-align: top;\n",
       "    }\n",
       "\n",
       "    .dataframe thead th {\n",
       "        text-align: right;\n",
       "    }\n",
       "</style>\n",
       "<table border=\"1\" class=\"dataframe\">\n",
       "  <thead>\n",
       "    <tr style=\"text-align: right;\">\n",
       "      <th></th>\n",
       "      <th>Dur. (ms)_min</th>\n",
       "      <th>Dur. (ms)_max</th>\n",
       "      <th>Dur. (ms)_mean</th>\n",
       "    </tr>\n",
       "    <tr>\n",
       "      <th>MSISDN/Number</th>\n",
       "      <th></th>\n",
       "      <th></th>\n",
       "      <th></th>\n",
       "    </tr>\n",
       "  </thead>\n",
       "  <tbody>\n",
       "    <tr>\n",
       "      <th>3.360100e+10</th>\n",
       "      <td>116720.0</td>\n",
       "      <td>1.167200e+05</td>\n",
       "      <td>1.167200e+05</td>\n",
       "    </tr>\n",
       "    <tr>\n",
       "      <th>3.360100e+10</th>\n",
       "      <td>181230.0</td>\n",
       "      <td>1.812300e+05</td>\n",
       "      <td>1.812300e+05</td>\n",
       "    </tr>\n",
       "    <tr>\n",
       "      <th>3.360100e+10</th>\n",
       "      <td>134969.0</td>\n",
       "      <td>1.349690e+05</td>\n",
       "      <td>1.349690e+05</td>\n",
       "    </tr>\n",
       "    <tr>\n",
       "      <th>3.360101e+10</th>\n",
       "      <td>49878.0</td>\n",
       "      <td>4.987800e+04</td>\n",
       "      <td>4.987800e+04</td>\n",
       "    </tr>\n",
       "    <tr>\n",
       "      <th>3.360101e+10</th>\n",
       "      <td>18549.0</td>\n",
       "      <td>1.855500e+04</td>\n",
       "      <td>1.855200e+04</td>\n",
       "    </tr>\n",
       "    <tr>\n",
       "      <th>...</th>\n",
       "      <td>...</td>\n",
       "      <td>...</td>\n",
       "      <td>...</td>\n",
       "    </tr>\n",
       "    <tr>\n",
       "      <th>3.379000e+10</th>\n",
       "      <td>140988.0</td>\n",
       "      <td>1.409880e+05</td>\n",
       "      <td>1.409880e+05</td>\n",
       "    </tr>\n",
       "    <tr>\n",
       "      <th>3.197021e+12</th>\n",
       "      <td>877385.0</td>\n",
       "      <td>8.773850e+05</td>\n",
       "      <td>8.773850e+05</td>\n",
       "    </tr>\n",
       "    <tr>\n",
       "      <th>3.370000e+14</th>\n",
       "      <td>253030.0</td>\n",
       "      <td>2.530300e+05</td>\n",
       "      <td>2.530300e+05</td>\n",
       "    </tr>\n",
       "    <tr>\n",
       "      <th>8.823971e+14</th>\n",
       "      <td>869844.0</td>\n",
       "      <td>8.698440e+05</td>\n",
       "      <td>8.698440e+05</td>\n",
       "    </tr>\n",
       "    <tr>\n",
       "      <th>1.013887e+19</th>\n",
       "      <td>7212.0</td>\n",
       "      <td>1.013887e+19</td>\n",
       "      <td>9.511139e+15</td>\n",
       "    </tr>\n",
       "  </tbody>\n",
       "</table>\n",
       "<p>106857 rows × 3 columns</p>\n",
       "</div>"
      ],
      "text/plain": [
       "               Dur. (ms)_min  Dur. (ms)_max  Dur. (ms)_mean\n",
       "MSISDN/Number                                              \n",
       "3.360100e+10        116720.0   1.167200e+05    1.167200e+05\n",
       "3.360100e+10        181230.0   1.812300e+05    1.812300e+05\n",
       "3.360100e+10        134969.0   1.349690e+05    1.349690e+05\n",
       "3.360101e+10         49878.0   4.987800e+04    4.987800e+04\n",
       "3.360101e+10         18549.0   1.855500e+04    1.855200e+04\n",
       "...                      ...            ...             ...\n",
       "3.379000e+10        140988.0   1.409880e+05    1.409880e+05\n",
       "3.197021e+12        877385.0   8.773850e+05    8.773850e+05\n",
       "3.370000e+14        253030.0   2.530300e+05    2.530300e+05\n",
       "8.823971e+14        869844.0   8.698440e+05    8.698440e+05\n",
       "1.013887e+19          7212.0   1.013887e+19    9.511139e+15\n",
       "\n",
       "[106857 rows x 3 columns]"
      ]
     },
     "execution_count": 36,
     "metadata": {},
     "output_type": "execute_result"
    }
   ],
   "source": [
    "grouped"
   ]
  },
  {
   "cell_type": "code",
   "execution_count": 39,
   "id": "ddea9dde",
   "metadata": {},
   "outputs": [],
   "source": [
    "grouped = df.groupby('MSISDN/Number').agg({'Total DL (Bytes)': [min, max, mean]}) \n",
    "grouped.columns = [\"_\".join(x) for x in grouped.columns.ravel()]"
   ]
  },
  {
   "cell_type": "code",
   "execution_count": 44,
   "id": "4cd07ebc",
   "metadata": {},
   "outputs": [
    {
     "data": {
      "text/html": [
       "<div>\n",
       "<style scoped>\n",
       "    .dataframe tbody tr th:only-of-type {\n",
       "        vertical-align: middle;\n",
       "    }\n",
       "\n",
       "    .dataframe tbody tr th {\n",
       "        vertical-align: top;\n",
       "    }\n",
       "\n",
       "    .dataframe thead th {\n",
       "        text-align: right;\n",
       "    }\n",
       "</style>\n",
       "<table border=\"1\" class=\"dataframe\">\n",
       "  <thead>\n",
       "    <tr style=\"text-align: right;\">\n",
       "      <th></th>\n",
       "      <th>Total DL (Bytes)_min</th>\n",
       "      <th>Total DL (Bytes)_max</th>\n",
       "      <th>Total DL (Bytes)_mean</th>\n",
       "    </tr>\n",
       "    <tr>\n",
       "      <th>MSISDN/Number</th>\n",
       "      <th></th>\n",
       "      <th></th>\n",
       "      <th></th>\n",
       "    </tr>\n",
       "  </thead>\n",
       "  <tbody>\n",
       "    <tr>\n",
       "      <th>3.360100e+10</th>\n",
       "      <td>842637466.0</td>\n",
       "      <td>8.426375e+08</td>\n",
       "      <td>8.426375e+08</td>\n",
       "    </tr>\n",
       "    <tr>\n",
       "      <th>3.360100e+10</th>\n",
       "      <td>120755184.0</td>\n",
       "      <td>1.207552e+08</td>\n",
       "      <td>1.207552e+08</td>\n",
       "    </tr>\n",
       "    <tr>\n",
       "      <th>3.360100e+10</th>\n",
       "      <td>556659663.0</td>\n",
       "      <td>5.566597e+08</td>\n",
       "      <td>5.566597e+08</td>\n",
       "    </tr>\n",
       "    <tr>\n",
       "      <th>3.360101e+10</th>\n",
       "      <td>401993172.0</td>\n",
       "      <td>4.019932e+08</td>\n",
       "      <td>4.019932e+08</td>\n",
       "    </tr>\n",
       "    <tr>\n",
       "      <th>3.360101e+10</th>\n",
       "      <td>547096937.0</td>\n",
       "      <td>8.160335e+08</td>\n",
       "      <td>6.815652e+08</td>\n",
       "    </tr>\n",
       "    <tr>\n",
       "      <th>...</th>\n",
       "      <td>...</td>\n",
       "      <td>...</td>\n",
       "      <td>...</td>\n",
       "    </tr>\n",
       "    <tr>\n",
       "      <th>3.379000e+10</th>\n",
       "      <td>444575092.0</td>\n",
       "      <td>4.445751e+08</td>\n",
       "      <td>4.445751e+08</td>\n",
       "    </tr>\n",
       "    <tr>\n",
       "      <th>3.197021e+12</th>\n",
       "      <td>194828056.0</td>\n",
       "      <td>1.948281e+08</td>\n",
       "      <td>1.948281e+08</td>\n",
       "    </tr>\n",
       "    <tr>\n",
       "      <th>3.370000e+14</th>\n",
       "      <td>539634985.0</td>\n",
       "      <td>5.396350e+08</td>\n",
       "      <td>5.396350e+08</td>\n",
       "    </tr>\n",
       "    <tr>\n",
       "      <th>8.823971e+14</th>\n",
       "      <td>78697597.0</td>\n",
       "      <td>7.869760e+07</td>\n",
       "      <td>7.869760e+07</td>\n",
       "    </tr>\n",
       "    <tr>\n",
       "      <th>1.013887e+19</th>\n",
       "      <td>28107766.0</td>\n",
       "      <td>1.013887e+19</td>\n",
       "      <td>9.511140e+15</td>\n",
       "    </tr>\n",
       "  </tbody>\n",
       "</table>\n",
       "<p>106857 rows × 3 columns</p>\n",
       "</div>"
      ],
      "text/plain": [
       "               Total DL (Bytes)_min  Total DL (Bytes)_max  \\\n",
       "MSISDN/Number                                               \n",
       "3.360100e+10            842637466.0          8.426375e+08   \n",
       "3.360100e+10            120755184.0          1.207552e+08   \n",
       "3.360100e+10            556659663.0          5.566597e+08   \n",
       "3.360101e+10            401993172.0          4.019932e+08   \n",
       "3.360101e+10            547096937.0          8.160335e+08   \n",
       "...                             ...                   ...   \n",
       "3.379000e+10            444575092.0          4.445751e+08   \n",
       "3.197021e+12            194828056.0          1.948281e+08   \n",
       "3.370000e+14            539634985.0          5.396350e+08   \n",
       "8.823971e+14             78697597.0          7.869760e+07   \n",
       "1.013887e+19             28107766.0          1.013887e+19   \n",
       "\n",
       "               Total DL (Bytes)_mean  \n",
       "MSISDN/Number                         \n",
       "3.360100e+10            8.426375e+08  \n",
       "3.360100e+10            1.207552e+08  \n",
       "3.360100e+10            5.566597e+08  \n",
       "3.360101e+10            4.019932e+08  \n",
       "3.360101e+10            6.815652e+08  \n",
       "...                              ...  \n",
       "3.379000e+10            4.445751e+08  \n",
       "3.197021e+12            1.948281e+08  \n",
       "3.370000e+14            5.396350e+08  \n",
       "8.823971e+14            7.869760e+07  \n",
       "1.013887e+19            9.511140e+15  \n",
       "\n",
       "[106857 rows x 3 columns]"
      ]
     },
     "execution_count": 44,
     "metadata": {},
     "output_type": "execute_result"
    }
   ],
   "source": [
    "grouped"
   ]
  },
  {
   "cell_type": "markdown",
   "id": "d00fdd68",
   "metadata": {},
   "source": [
    "## EDA Analysis"
   ]
  },
  {
   "cell_type": "code",
   "execution_count": 190,
   "id": "b93bb9d5",
   "metadata": {},
   "outputs": [],
   "source": [
    "X = df.drop('Total DL (Bytes)', axis=1)\n",
    "y = df['Total DL (Bytes)']\n",
    "X_train, X_valid, y_train, y_valid = train_test_split(X, y, test_size=.3, \n",
    "                                                random_state=1121218)"
   ]
  },
  {
   "cell_type": "code",
   "execution_count": null,
   "id": "9127d2c6",
   "metadata": {},
   "outputs": [],
   "source": [
    "X = numerical_transforms\n",
    "y = numerical_transforms[]\n",
    "X_train, X_valid, y_train, y_valid = train_test_split(X, y, test_size=.3, \n",
    "                                                random_state=1121218)"
   ]
  },
  {
   "cell_type": "code",
   "execution_count": 138,
   "id": "d4eb4d7f",
   "metadata": {},
   "outputs": [
    {
     "data": {
      "text/plain": [
       "149976"
      ]
     },
     "execution_count": 138,
     "metadata": {},
     "output_type": "execute_result"
    }
   ],
   "source": [
    "len(numerical_transforms[25:,])"
   ]
  },
  {
   "cell_type": "code",
   "execution_count": 71,
   "id": "b1949422",
   "metadata": {},
   "outputs": [],
   "source": [
    "pca_1 = pd.concat([X_train,y_train])"
   ]
  },
  {
   "cell_type": "code",
   "execution_count": 72,
   "id": "4c13d3c0",
   "metadata": {},
   "outputs": [
    {
     "data": {
      "text/plain": [
       "(150000, 55)"
      ]
     },
     "execution_count": 72,
     "metadata": {},
     "output_type": "execute_result"
    }
   ],
   "source": [
    "pca_1.shape"
   ]
  },
  {
   "cell_type": "code",
   "execution_count": 63,
   "id": "de0e5487",
   "metadata": {},
   "outputs": [],
   "source": [
    "X = X_train\n",
    "y = y_train\n",
    "X_train, X_valid, y_train, y_valid = train_test_split(X, y, test_size=.5, \n",
    "                                                random_state=1121218)"
   ]
  },
  {
   "cell_type": "code",
   "execution_count": 64,
   "id": "6827d7f5",
   "metadata": {},
   "outputs": [],
   "source": [
    "#### pca analysis\n",
    "pca_2 = pd.concat([X_valid,y_valid])"
   ]
  },
  {
   "cell_type": "code",
   "execution_count": 65,
   "id": "9f0d388c",
   "metadata": {},
   "outputs": [
    {
     "data": {
      "text/plain": [
       "(105000, 55)"
      ]
     },
     "execution_count": 65,
     "metadata": {},
     "output_type": "execute_result"
    }
   ],
   "source": [
    "pca_2.shape"
   ]
  },
  {
   "cell_type": "code",
   "execution_count": 66,
   "id": "a533c427",
   "metadata": {},
   "outputs": [],
   "source": [
    "pca_3 = pd.concat([X_train,y_train])"
   ]
  },
  {
   "cell_type": "code",
   "execution_count": 67,
   "id": "0116c33d",
   "metadata": {},
   "outputs": [
    {
     "data": {
      "text/plain": [
       "(105000, 55)"
      ]
     },
     "execution_count": 67,
     "metadata": {},
     "output_type": "execute_result"
    }
   ],
   "source": [
    "pca_3.shape"
   ]
  },
  {
   "cell_type": "code",
   "execution_count": 74,
   "id": "8b015fd3",
   "metadata": {},
   "outputs": [],
   "source": [
    "all_samples = np.concatenate((pca_2, pca_3), axis=1)"
   ]
  },
  {
   "cell_type": "code",
   "execution_count": 75,
   "id": "1cd14608",
   "metadata": {},
   "outputs": [],
   "source": [
    "mean_pca_1 = np.mean(pca_2)"
   ]
  },
  {
   "cell_type": "code",
   "execution_count": 77,
   "id": "681a36fc",
   "metadata": {},
   "outputs": [],
   "source": [
    "mean_pca_2 = np.mean(pca_3)"
   ]
  },
  {
   "cell_type": "code",
   "execution_count": 78,
   "id": "a1b776ac",
   "metadata": {},
   "outputs": [],
   "source": [
    "mean_vector = np.array([[mean_pca_1],[mean_pca_2]])"
   ]
  },
  {
   "cell_type": "code",
   "execution_count": 79,
   "id": "1c9a3baa",
   "metadata": {},
   "outputs": [
    {
     "data": {
      "text/plain": [
       "array([[[4.54295952e+08, 7.79753474e-01, 1.71721947e+00, 3.08243220e+00,\n",
       "         1.57524021e-01, 1.81004687e+06, 1.39066567e+06, 1.33287265e+04,\n",
       "         1.76804914e+03, 1.08596152e+02, 1.76773952e+01, 9.28219105e+01,\n",
       "         1.62339949e+00, 1.05063711e+05, 1.05064256e+08, 1.78390041e+06,\n",
       "         4.66875666e+05, 4.98175241e+02, 4.21604939e+08, 8.26757629e+06,\n",
       "         5.75133629e+06, 2.05923587e+06, 1.14690937e+08, 3.37541770e+06,\n",
       "         4.83875038e+13, 2.08201762e+14, 3.36745482e+10, 9.86969119e+02,\n",
       "         3.50048430e+02, 8.08374346e+02, 1.55054519e+02, 9.60546426e+02,\n",
       "         1.49170983e+02, 3.64141976e+03, 3.93752416e+03, 1.16478738e+07,\n",
       "         1.09848253e+07, 4.21085620e+08, 8.23492703e+06, 1.79633005e+06,\n",
       "         3.28865301e+04, 5.00952647e+02, 1.99407532e+07, 6.90309549e+05,\n",
       "         4.10422844e+07, 9.85199441e+01, 7.60440991e-02, 1.17115787e+07,\n",
       "         1.09959592e+07]],\n",
       "\n",
       "       [[4.55273197e+08, 7.70623396e-01, 1.72438474e+00, 3.08433804e+00,\n",
       "         1.41978620e-01, 1.81814222e+06, 1.39426697e+06, 1.33651563e+04,\n",
       "         1.78275907e+03, 1.08513053e+02, 1.77039649e+01, 9.28283194e+01,\n",
       "         1.60360929e+00, 1.04623265e+05, 1.04623810e+08, 1.79956365e+06,\n",
       "         4.68625732e+05, 5.00042267e+02, 4.22707526e+08, 8.33349217e+06,\n",
       "         5.75611352e+06, 2.05817599e+06, 1.12824300e+08, 3.14130863e+06,\n",
       "         4.84023941e+13, 2.08201578e+14, 5.70595869e+10, 9.78533766e+02,\n",
       "         3.24370265e+02, 8.05923314e+02, 1.49140853e+02, 9.71764149e+02,\n",
       "         1.36032539e+02, 3.72847437e+03, 4.03320030e+03, 1.16232834e+07,\n",
       "         1.10130478e+07, 4.20929073e+08, 8.28048704e+06, 1.79249477e+06,\n",
       "         3.29180513e+04, 4.98216476e+02, 2.07824857e+07, 6.55112450e+05,\n",
       "         4.11876670e+07, 9.85412468e+01, 8.01754857e-02, 1.15942160e+07,\n",
       "         1.10009202e+07]]])"
      ]
     },
     "execution_count": 79,
     "metadata": {},
     "output_type": "execute_result"
    }
   ],
   "source": [
    "mean_vector"
   ]
  },
  {
   "cell_type": "code",
   "execution_count": 89,
   "id": "b9ba64af",
   "metadata": {},
   "outputs": [],
   "source": [
    "scatter_matrix = np.zeros((2,2))"
   ]
  },
  {
   "cell_type": "code",
   "execution_count": 118,
   "id": "214f3563",
   "metadata": {},
   "outputs": [],
   "source": [
    "from sklearn.decomposition import PCA"
   ]
  },
  {
   "cell_type": "code",
   "execution_count": 140,
   "id": "a1230462",
   "metadata": {},
   "outputs": [],
   "source": [
    "numeric_pipeline = Pipeline(steps=[\n",
    "    ('impute', SimpleImputer(strategy='mean')),\n",
    "    ('scale', MinMaxScaler())\n",
    "])"
   ]
  },
  {
   "cell_type": "code",
   "execution_count": 145,
   "id": "803a478d",
   "metadata": {},
   "outputs": [
    {
     "data": {
      "text/plain": [
       "45000"
      ]
     },
     "execution_count": 145,
     "metadata": {},
     "output_type": "execute_result"
    }
   ],
   "source": [
    "round(len(df)*0.3)"
   ]
  },
  {
   "cell_type": "code",
   "execution_count": 149,
   "id": "93a670e8",
   "metadata": {},
   "outputs": [],
   "source": [
    "data_transforms = numeric_pipeline.fit_transform(df.select_dtypes(include='number'))"
   ]
  },
  {
   "cell_type": "code",
   "execution_count": 156,
   "id": "8e46b140",
   "metadata": {},
   "outputs": [],
   "source": [
    "train = data_transforms[round(len(df)*0.7):]"
   ]
  },
  {
   "cell_type": "code",
   "execution_count": 157,
   "id": "543133b1",
   "metadata": {},
   "outputs": [],
   "source": [
    "test = data_transforms[round(len(df)*0.3):]"
   ]
  },
  {
   "cell_type": "code",
   "execution_count": 135,
   "id": "3d034b4f",
   "metadata": {},
   "outputs": [
    {
     "data": {
      "text/plain": [
       "150001"
      ]
     },
     "execution_count": 135,
     "metadata": {},
     "output_type": "execute_result"
    }
   ],
   "source": [
    "len(numerical_transforms)"
   ]
  },
  {
   "cell_type": "code",
   "execution_count": 115,
   "id": "41a7defd",
   "metadata": {},
   "outputs": [],
   "source": [
    "def pca_dec(data, n):\n",
    "    pca = PCA(n)\n",
    "    X_dec = pca.fit_transform(data)\n",
    "    return X_dec, pca\n"
   ]
  },
  {
   "cell_type": "code",
   "execution_count": 158,
   "id": "ed7af313",
   "metadata": {},
   "outputs": [],
   "source": [
    "pca_train_results, pca_train = pca_dec(train, 10)"
   ]
  },
  {
   "cell_type": "code",
   "execution_count": 159,
   "id": "d746d1af",
   "metadata": {},
   "outputs": [],
   "source": [
    "pca_test_results, pca_test = pca_dec(test, 10)"
   ]
  },
  {
   "cell_type": "code",
   "execution_count": 164,
   "id": "39a4d760",
   "metadata": {},
   "outputs": [
    {
     "name": "stdout",
     "output_type": "stream",
     "text": [
      "          Component  Explained Variance Ratio\n",
      "0   PCA Component 1                  0.102829\n",
      "1   PCA Component 2                  0.068152\n",
      "2   PCA Component 3                  0.063804\n",
      "3   PCA Component 4                  0.056242\n",
      "4   PCA Component 5                  0.055653\n",
      "5   PCA Component 6                  0.055301\n",
      "6   PCA Component 7                  0.055061\n",
      "7   PCA Component 8                  0.054711\n",
      "8   PCA Component 9                  0.054359\n",
      "9  PCA Component 10                  0.054217\n"
     ]
    }
   ],
   "source": [
    "#Creating a table with the explained variance ratio\n",
    "names_pcas = [f\"PCA Component {i}\" for i in range(1, 11, 1)]\n",
    "scree = pd.DataFrame(list(zip(names_pcas, pca_train.explained_variance_ratio_)), columns=[\"Component\", \"Explained Variance Ratio\"])\n",
    "print(scree)"
   ]
  },
  {
   "cell_type": "code",
   "execution_count": 169,
   "id": "575a6d9c",
   "metadata": {},
   "outputs": [
    {
     "data": {
      "text/plain": [
       "49"
      ]
     },
     "execution_count": 169,
     "metadata": {},
     "output_type": "execute_result"
    }
   ],
   "source": [
    "len(pca_train.components_[0])"
   ]
  },
  {
   "cell_type": "code",
   "execution_count": 174,
   "id": "9c90157e",
   "metadata": {},
   "outputs": [
    {
     "data": {
      "text/html": [
       "<div>\n",
       "<style scoped>\n",
       "    .dataframe tbody tr th:only-of-type {\n",
       "        vertical-align: middle;\n",
       "    }\n",
       "\n",
       "    .dataframe tbody tr th {\n",
       "        vertical-align: top;\n",
       "    }\n",
       "\n",
       "    .dataframe thead th {\n",
       "        text-align: right;\n",
       "    }\n",
       "</style>\n",
       "<table border=\"1\" class=\"dataframe\">\n",
       "  <thead>\n",
       "    <tr style=\"text-align: right;\">\n",
       "      <th></th>\n",
       "      <th>PCA</th>\n",
       "      <th>Variable Names</th>\n",
       "    </tr>\n",
       "  </thead>\n",
       "  <tbody>\n",
       "    <tr>\n",
       "      <th>0</th>\n",
       "      <td>0.016429</td>\n",
       "      <td>Start ms</td>\n",
       "    </tr>\n",
       "    <tr>\n",
       "      <th>1</th>\n",
       "      <td>0.016254</td>\n",
       "      <td>End ms</td>\n",
       "    </tr>\n",
       "    <tr>\n",
       "      <th>45</th>\n",
       "      <td>0.006213</td>\n",
       "      <td>Other DL (Bytes)</td>\n",
       "    </tr>\n",
       "    <tr>\n",
       "      <th>37</th>\n",
       "      <td>0.006036</td>\n",
       "      <td>Email DL (Bytes)</td>\n",
       "    </tr>\n",
       "    <tr>\n",
       "      <th>35</th>\n",
       "      <td>0.003318</td>\n",
       "      <td>Google DL (Bytes)</td>\n",
       "    </tr>\n",
       "  </tbody>\n",
       "</table>\n",
       "</div>"
      ],
      "text/plain": [
       "         PCA     Variable Names\n",
       "0   0.016429           Start ms\n",
       "1   0.016254             End ms\n",
       "45  0.006213   Other DL (Bytes)\n",
       "37  0.006036   Email DL (Bytes)\n",
       "35  0.003318  Google DL (Bytes)"
      ]
     },
     "execution_count": 174,
     "metadata": {},
     "output_type": "execute_result"
    }
   ],
   "source": [
    "#Sorting the values of the first principal component by how large each one is\n",
    "df = pd.DataFrame({'PCA':pca_train.components_[0], 'Variable Names':numerical_features})\n",
    "df = df.sort_values('PCA', ascending=False)\n",
    "\n",
    "#Sorting the absolute values of the first principal component by magnitude\n",
    "df2 = pd.DataFrame(df)\n",
    "df2['PCA']=df2['PCA'].apply(np.absolute)\n",
    "df2 = df2.sort_values('PCA', ascending=False)\n",
    "#print(df2['Variable Names'][0:11])\n",
    "\n",
    "df.head()"
   ]
  },
  {
   "cell_type": "code",
   "execution_count": 178,
   "id": "d9225331",
   "metadata": {},
   "outputs": [
    {
     "name": "stdout",
     "output_type": "stream",
     "text": [
      "         PCA     Variable Names\n",
      "0   0.016429           Start ms\n",
      "1   0.016254             End ms\n",
      "45  0.006213   Other DL (Bytes)\n",
      "37  0.006036   Email DL (Bytes)\n",
      "35  0.003318  Google DL (Bytes)\n",
      "         PCA      Variable Names\n",
      "0   0.067258            Start ms\n",
      "1   0.066972              End ms\n",
      "35  0.027149   Google DL (Bytes)\n",
      "41  0.026389  Netflix DL (Bytes)\n",
      "45  0.023379    Other DL (Bytes)\n",
      "         PCA           Variable Names\n",
      "34  0.037392  Social Media UL (Bytes)\n",
      "38  0.031206         Email UL (Bytes)\n",
      "37  0.024136         Email DL (Bytes)\n",
      "39  0.009145       Youtube DL (Bytes)\n",
      "33  0.009004  Social Media DL (Bytes)\n",
      "         PCA           Variable Names\n",
      "33  0.464824  Social Media DL (Bytes)\n",
      "46  0.434040         Other UL (Bytes)\n",
      "37  0.433075         Email DL (Bytes)\n",
      "38  0.209987         Email UL (Bytes)\n",
      "45  0.087597         Other DL (Bytes)\n",
      "         PCA           Variable Names\n",
      "34  0.504424  Social Media UL (Bytes)\n",
      "44  0.238012        Gaming UL (Bytes)\n",
      "38  0.209118         Email UL (Bytes)\n",
      "42  0.202030       Netflix UL (Bytes)\n",
      "41  0.142998       Netflix DL (Bytes)\n",
      "         PCA      Variable Names\n",
      "42  0.530660  Netflix UL (Bytes)\n",
      "39  0.459083  Youtube DL (Bytes)\n",
      "37  0.300048    Email DL (Bytes)\n",
      "35  0.207916   Google DL (Bytes)\n",
      "36  0.144513   Google UL (Bytes)\n",
      "         PCA           Variable Names\n",
      "40  0.330038       Youtube UL (Bytes)\n",
      "34  0.287511  Social Media UL (Bytes)\n",
      "35  0.269480        Google DL (Bytes)\n",
      "36  0.229838        Google UL (Bytes)\n",
      "37  0.200568         Email DL (Bytes)\n",
      "         PCA           Variable Names\n",
      "44  0.610793        Gaming UL (Bytes)\n",
      "39  0.396916       Youtube DL (Bytes)\n",
      "35  0.394524        Google DL (Bytes)\n",
      "37  0.281682         Email DL (Bytes)\n",
      "33  0.228540  Social Media DL (Bytes)\n",
      "         PCA           Variable Names\n",
      "36  0.528759        Google UL (Bytes)\n",
      "34  0.284236  Social Media UL (Bytes)\n",
      "44  0.196482        Gaming UL (Bytes)\n",
      "39  0.195207       Youtube DL (Bytes)\n",
      "38  0.080772         Email UL (Bytes)\n",
      "         PCA           Variable Names\n",
      "34  0.423822  Social Media UL (Bytes)\n",
      "33  0.271336  Social Media DL (Bytes)\n",
      "35  0.238501        Google DL (Bytes)\n",
      "45  0.203970         Other DL (Bytes)\n",
      "40  0.194859       Youtube UL (Bytes)\n"
     ]
    }
   ],
   "source": [
    "#Sorting the values of the first principal component by how large each one is\n",
    "for i in range(len(pca_train.components_)):\n",
    "    df = pd.DataFrame({'PCA':pca_train.components_[i], 'Variable Names':numerical_features})\n",
    "    df = df.sort_values('PCA', ascending=False)\n",
    "\n",
    "    #Sorting the absolute values of the first principal component by magnitude\n",
    "    df2 = pd.DataFrame(df)\n",
    "    df2['PCA']=df2['PCA'].apply(np.absolute)\n",
    "    df2 = df2.sort_values('PCA', ascending=False)\n",
    "    #print(df2['Variable Names'][0:11])\n",
    "\n",
    "    print(df.head())"
   ]
  },
  {
   "cell_type": "code",
   "execution_count": 184,
   "id": "b8275953",
   "metadata": {},
   "outputs": [
    {
     "data": {
      "text/plain": [
       "['Start ms',\n",
       " 'End ms',\n",
       " 'Dur. (ms)',\n",
       " 'IMSI',\n",
       " 'MSISDN/Number',\n",
       " 'IMEI',\n",
       " 'Avg RTT DL (ms)',\n",
       " 'Avg RTT UL (ms)',\n",
       " 'Avg Bearer TP DL (kbps)',\n",
       " 'Avg Bearer TP UL (kbps)',\n",
       " 'TCP DL Retrans. Vol (Bytes)',\n",
       " 'TCP UL Retrans. Vol (Bytes)',\n",
       " 'DL TP < 50 Kbps (%)',\n",
       " '50 Kbps < DL TP < 250 Kbps (%)',\n",
       " '250 Kbps < DL TP < 1 Mbps (%)',\n",
       " 'DL TP > 1 Mbps (%)',\n",
       " 'UL TP < 10 Kbps (%)',\n",
       " '10 Kbps < UL TP < 50 Kbps (%)',\n",
       " '50 Kbps < UL TP < 300 Kbps (%)',\n",
       " 'UL TP > 300 Kbps (%)',\n",
       " 'HTTP DL (Bytes)',\n",
       " 'HTTP UL (Bytes)',\n",
       " 'Activity Duration DL (ms)',\n",
       " 'Activity Duration UL (ms)',\n",
       " 'Dur. (ms).1',\n",
       " 'Nb of sec with 125000B < Vol DL',\n",
       " 'Nb of sec with 1250B < Vol UL < 6250B',\n",
       " 'Nb of sec with 31250B < Vol DL < 125000B',\n",
       " 'Nb of sec with 37500B < Vol UL',\n",
       " 'Nb of sec with 6250B < Vol DL < 31250B',\n",
       " 'Nb of sec with 6250B < Vol UL < 37500B',\n",
       " 'Nb of sec with Vol DL < 6250B',\n",
       " 'Nb of sec with Vol UL < 1250B',\n",
       " 'Social Media DL (Bytes)',\n",
       " 'Social Media UL (Bytes)',\n",
       " 'Google DL (Bytes)',\n",
       " 'Google UL (Bytes)',\n",
       " 'Email DL (Bytes)',\n",
       " 'Email UL (Bytes)',\n",
       " 'Youtube DL (Bytes)',\n",
       " 'Youtube UL (Bytes)',\n",
       " 'Netflix DL (Bytes)',\n",
       " 'Netflix UL (Bytes)',\n",
       " 'Gaming DL (Bytes)',\n",
       " 'Gaming UL (Bytes)',\n",
       " 'Other DL (Bytes)',\n",
       " 'Other UL (Bytes)',\n",
       " 'Total UL (Bytes)',\n",
       " 'Total DL (Bytes)']"
      ]
     },
     "execution_count": 184,
     "metadata": {},
     "output_type": "execute_result"
    }
   ],
   "source": [
    "numerical_features"
   ]
  },
  {
   "cell_type": "code",
   "execution_count": 185,
   "id": "789e4075",
   "metadata": {},
   "outputs": [
    {
     "data": {
      "text/plain": [
       "['Bearer Id',\n",
       " 'Start',\n",
       " 'End',\n",
       " 'Last Location Name',\n",
       " 'Handset Manufacturer',\n",
       " 'Handset Type']"
      ]
     },
     "execution_count": 185,
     "metadata": {},
     "output_type": "execute_result"
    }
   ],
   "source": [
    "categorical_features"
   ]
  },
  {
   "cell_type": "code",
   "execution_count": 191,
   "id": "633bf794",
   "metadata": {},
   "outputs": [
    {
     "ename": "MemoryError",
     "evalue": "Unable to allocate 11.7 GiB for an array with shape (40615, 38589) and data type float64",
     "output_type": "error",
     "traceback": [
      "\u001b[0;31m---------------------------------------------------------------------------\u001b[0m",
      "\u001b[0;31mMemoryError\u001b[0m                               Traceback (most recent call last)",
      "Input \u001b[0;32mIn [191]\u001b[0m, in \u001b[0;36m<cell line: 3>\u001b[0;34m()\u001b[0m\n\u001b[1;32m      1\u001b[0m \u001b[38;5;66;03m#bivariate analysis\u001b[39;00m\n\u001b[1;32m      2\u001b[0m \u001b[38;5;28;01mimport\u001b[39;00m \u001b[38;5;21;01mseaborn\u001b[39;00m \u001b[38;5;28;01mas\u001b[39;00m \u001b[38;5;21;01msns\u001b[39;00m\n\u001b[0;32m----> 3\u001b[0m \u001b[43mpd\u001b[49m\u001b[38;5;241;43m.\u001b[39;49m\u001b[43mcrosstab\u001b[49m\u001b[43m(\u001b[49m\u001b[43mX_valid\u001b[49m\u001b[43m[\u001b[49m\u001b[38;5;124;43m'\u001b[39;49m\u001b[38;5;124;43mStart\u001b[39;49m\u001b[38;5;124;43m'\u001b[39;49m\u001b[43m]\u001b[49m\u001b[43m,\u001b[49m\u001b[43m \u001b[49m\u001b[43mX_valid\u001b[49m\u001b[43m[\u001b[49m\u001b[38;5;124;43m'\u001b[39;49m\u001b[38;5;124;43mEnd\u001b[39;49m\u001b[38;5;124;43m'\u001b[39;49m\u001b[43m]\u001b[49m\u001b[43m,\u001b[49m\u001b[43m \u001b[49m\u001b[43mmargins\u001b[49m\u001b[38;5;241;43m=\u001b[39;49m\u001b[38;5;28;43;01mTrue\u001b[39;49;00m\u001b[43m,\u001b[49m\u001b[43m \u001b[49m\u001b[43mvalues\u001b[49m\u001b[38;5;241;43m=\u001b[39;49m\u001b[43mX_valid\u001b[49m\u001b[43m[\u001b[49m\u001b[38;5;124;43m'\u001b[39;49m\u001b[38;5;124;43mGoogle DL (Bytes)\u001b[39;49m\u001b[38;5;124;43m'\u001b[39;49m\u001b[43m]\u001b[49m\u001b[43m,\u001b[49m\u001b[43m \u001b[49m\u001b[43maggfunc\u001b[49m\u001b[38;5;241;43m=\u001b[39;49m\u001b[43mpd\u001b[49m\u001b[38;5;241;43m.\u001b[39;49m\u001b[43mSeries\u001b[49m\u001b[38;5;241;43m.\u001b[39;49m\u001b[43mcount\u001b[49m\u001b[43m)\u001b[49m\n",
      "File \u001b[0;32m~/Documents/TelComChallenge/env/lib/python3.8/site-packages/pandas/core/reshape/pivot.py:616\u001b[0m, in \u001b[0;36mcrosstab\u001b[0;34m(index, columns, values, rownames, colnames, aggfunc, margins, margins_name, dropna, normalize)\u001b[0m\n\u001b[1;32m    613\u001b[0m     df[\u001b[38;5;124m\"\u001b[39m\u001b[38;5;124m__dummy__\u001b[39m\u001b[38;5;124m\"\u001b[39m] \u001b[38;5;241m=\u001b[39m values\n\u001b[1;32m    614\u001b[0m     kwargs \u001b[38;5;241m=\u001b[39m {\u001b[38;5;124m\"\u001b[39m\u001b[38;5;124maggfunc\u001b[39m\u001b[38;5;124m\"\u001b[39m: aggfunc}\n\u001b[0;32m--> 616\u001b[0m table \u001b[38;5;241m=\u001b[39m \u001b[43mdf\u001b[49m\u001b[38;5;241;43m.\u001b[39;49m\u001b[43mpivot_table\u001b[49m\u001b[43m(\u001b[49m\n\u001b[1;32m    617\u001b[0m \u001b[43m    \u001b[49m\u001b[43m[\u001b[49m\u001b[38;5;124;43m\"\u001b[39;49m\u001b[38;5;124;43m__dummy__\u001b[39;49m\u001b[38;5;124;43m\"\u001b[39;49m\u001b[43m]\u001b[49m\u001b[43m,\u001b[49m\n\u001b[1;32m    618\u001b[0m \u001b[43m    \u001b[49m\u001b[43mindex\u001b[49m\u001b[38;5;241;43m=\u001b[39;49m\u001b[43mrownames\u001b[49m\u001b[43m,\u001b[49m\n\u001b[1;32m    619\u001b[0m \u001b[43m    \u001b[49m\u001b[43mcolumns\u001b[49m\u001b[38;5;241;43m=\u001b[39;49m\u001b[43mcolnames\u001b[49m\u001b[43m,\u001b[49m\n\u001b[1;32m    620\u001b[0m \u001b[43m    \u001b[49m\u001b[43mmargins\u001b[49m\u001b[38;5;241;43m=\u001b[39;49m\u001b[43mmargins\u001b[49m\u001b[43m,\u001b[49m\n\u001b[1;32m    621\u001b[0m \u001b[43m    \u001b[49m\u001b[43mmargins_name\u001b[49m\u001b[38;5;241;43m=\u001b[39;49m\u001b[43mmargins_name\u001b[49m\u001b[43m,\u001b[49m\n\u001b[1;32m    622\u001b[0m \u001b[43m    \u001b[49m\u001b[43mdropna\u001b[49m\u001b[38;5;241;43m=\u001b[39;49m\u001b[43mdropna\u001b[49m\u001b[43m,\u001b[49m\n\u001b[1;32m    623\u001b[0m \u001b[43m    \u001b[49m\u001b[38;5;241;43m*\u001b[39;49m\u001b[38;5;241;43m*\u001b[39;49m\u001b[43mkwargs\u001b[49m\u001b[43m,\u001b[49m\n\u001b[1;32m    624\u001b[0m \u001b[43m\u001b[49m\u001b[43m)\u001b[49m\n\u001b[1;32m    626\u001b[0m \u001b[38;5;66;03m# GH18321, after pivoting, an extra top level of column index of `__dummy__` is\u001b[39;00m\n\u001b[1;32m    627\u001b[0m \u001b[38;5;66;03m# created, and this extra level should not be included in the further steps\u001b[39;00m\n\u001b[1;32m    628\u001b[0m \u001b[38;5;28;01mif\u001b[39;00m \u001b[38;5;129;01mnot\u001b[39;00m table\u001b[38;5;241m.\u001b[39mempty:\n",
      "File \u001b[0;32m~/Documents/TelComChallenge/env/lib/python3.8/site-packages/pandas/core/frame.py:6826\u001b[0m, in \u001b[0;36mDataFrame.pivot_table\u001b[0;34m(self, values, index, columns, aggfunc, fill_value, margins, dropna, margins_name, observed)\u001b[0m\n\u001b[1;32m   6810\u001b[0m \u001b[38;5;129m@Substitution\u001b[39m(\u001b[38;5;124m\"\u001b[39m\u001b[38;5;124m\"\u001b[39m)\n\u001b[1;32m   6811\u001b[0m \u001b[38;5;129m@Appender\u001b[39m(_shared_docs[\u001b[38;5;124m\"\u001b[39m\u001b[38;5;124mpivot_table\u001b[39m\u001b[38;5;124m\"\u001b[39m])\n\u001b[1;32m   6812\u001b[0m \u001b[38;5;28;01mdef\u001b[39;00m \u001b[38;5;21mpivot_table\u001b[39m(\n\u001b[0;32m   (...)\u001b[0m\n\u001b[1;32m   6822\u001b[0m     observed\u001b[38;5;241m=\u001b[39m\u001b[38;5;28;01mFalse\u001b[39;00m,\n\u001b[1;32m   6823\u001b[0m ) \u001b[38;5;241m-\u001b[39m\u001b[38;5;241m>\u001b[39m \u001b[38;5;124m\"\u001b[39m\u001b[38;5;124mDataFrame\u001b[39m\u001b[38;5;124m\"\u001b[39m:\n\u001b[1;32m   6824\u001b[0m     \u001b[38;5;28;01mfrom\u001b[39;00m \u001b[38;5;21;01mpandas\u001b[39;00m\u001b[38;5;21;01m.\u001b[39;00m\u001b[38;5;21;01mcore\u001b[39;00m\u001b[38;5;21;01m.\u001b[39;00m\u001b[38;5;21;01mreshape\u001b[39;00m\u001b[38;5;21;01m.\u001b[39;00m\u001b[38;5;21;01mpivot\u001b[39;00m \u001b[38;5;28;01mimport\u001b[39;00m pivot_table\n\u001b[0;32m-> 6826\u001b[0m     \u001b[38;5;28;01mreturn\u001b[39;00m \u001b[43mpivot_table\u001b[49m\u001b[43m(\u001b[49m\n\u001b[1;32m   6827\u001b[0m \u001b[43m        \u001b[49m\u001b[38;5;28;43mself\u001b[39;49m\u001b[43m,\u001b[49m\n\u001b[1;32m   6828\u001b[0m \u001b[43m        \u001b[49m\u001b[43mvalues\u001b[49m\u001b[38;5;241;43m=\u001b[39;49m\u001b[43mvalues\u001b[49m\u001b[43m,\u001b[49m\n\u001b[1;32m   6829\u001b[0m \u001b[43m        \u001b[49m\u001b[43mindex\u001b[49m\u001b[38;5;241;43m=\u001b[39;49m\u001b[43mindex\u001b[49m\u001b[43m,\u001b[49m\n\u001b[1;32m   6830\u001b[0m \u001b[43m        \u001b[49m\u001b[43mcolumns\u001b[49m\u001b[38;5;241;43m=\u001b[39;49m\u001b[43mcolumns\u001b[49m\u001b[43m,\u001b[49m\n\u001b[1;32m   6831\u001b[0m \u001b[43m        \u001b[49m\u001b[43maggfunc\u001b[49m\u001b[38;5;241;43m=\u001b[39;49m\u001b[43maggfunc\u001b[49m\u001b[43m,\u001b[49m\n\u001b[1;32m   6832\u001b[0m \u001b[43m        \u001b[49m\u001b[43mfill_value\u001b[49m\u001b[38;5;241;43m=\u001b[39;49m\u001b[43mfill_value\u001b[49m\u001b[43m,\u001b[49m\n\u001b[1;32m   6833\u001b[0m \u001b[43m        \u001b[49m\u001b[43mmargins\u001b[49m\u001b[38;5;241;43m=\u001b[39;49m\u001b[43mmargins\u001b[49m\u001b[43m,\u001b[49m\n\u001b[1;32m   6834\u001b[0m \u001b[43m        \u001b[49m\u001b[43mdropna\u001b[49m\u001b[38;5;241;43m=\u001b[39;49m\u001b[43mdropna\u001b[49m\u001b[43m,\u001b[49m\n\u001b[1;32m   6835\u001b[0m \u001b[43m        \u001b[49m\u001b[43mmargins_name\u001b[49m\u001b[38;5;241;43m=\u001b[39;49m\u001b[43mmargins_name\u001b[49m\u001b[43m,\u001b[49m\n\u001b[1;32m   6836\u001b[0m \u001b[43m        \u001b[49m\u001b[43mobserved\u001b[49m\u001b[38;5;241;43m=\u001b[39;49m\u001b[43mobserved\u001b[49m\u001b[43m,\u001b[49m\n\u001b[1;32m   6837\u001b[0m \u001b[43m    \u001b[49m\u001b[43m)\u001b[49m\n",
      "File \u001b[0;32m~/Documents/TelComChallenge/env/lib/python3.8/site-packages/pandas/core/reshape/pivot.py:145\u001b[0m, in \u001b[0;36mpivot_table\u001b[0;34m(data, values, index, columns, aggfunc, fill_value, margins, dropna, margins_name, observed)\u001b[0m\n\u001b[1;32m    143\u001b[0m         \u001b[38;5;28;01melse\u001b[39;00m:\n\u001b[1;32m    144\u001b[0m             to_unstack\u001b[38;5;241m.\u001b[39mappend(name)\n\u001b[0;32m--> 145\u001b[0m     table \u001b[38;5;241m=\u001b[39m \u001b[43magged\u001b[49m\u001b[38;5;241;43m.\u001b[39;49m\u001b[43munstack\u001b[49m\u001b[43m(\u001b[49m\u001b[43mto_unstack\u001b[49m\u001b[43m)\u001b[49m\n\u001b[1;32m    147\u001b[0m \u001b[38;5;28;01mif\u001b[39;00m \u001b[38;5;129;01mnot\u001b[39;00m dropna:\n\u001b[1;32m    148\u001b[0m     \u001b[38;5;28;01mif\u001b[39;00m \u001b[38;5;28misinstance\u001b[39m(table\u001b[38;5;241m.\u001b[39mindex, MultiIndex):\n",
      "File \u001b[0;32m~/Documents/TelComChallenge/env/lib/python3.8/site-packages/pandas/core/frame.py:7146\u001b[0m, in \u001b[0;36mDataFrame.unstack\u001b[0;34m(self, level, fill_value)\u001b[0m\n\u001b[1;32m   7088\u001b[0m \u001b[38;5;124;03m\"\"\"\u001b[39;00m\n\u001b[1;32m   7089\u001b[0m \u001b[38;5;124;03mPivot a level of the (necessarily hierarchical) index labels.\u001b[39;00m\n\u001b[1;32m   7090\u001b[0m \n\u001b[0;32m   (...)\u001b[0m\n\u001b[1;32m   7142\u001b[0m \u001b[38;5;124;03mdtype: float64\u001b[39;00m\n\u001b[1;32m   7143\u001b[0m \u001b[38;5;124;03m\"\"\"\u001b[39;00m\n\u001b[1;32m   7144\u001b[0m \u001b[38;5;28;01mfrom\u001b[39;00m \u001b[38;5;21;01mpandas\u001b[39;00m\u001b[38;5;21;01m.\u001b[39;00m\u001b[38;5;21;01mcore\u001b[39;00m\u001b[38;5;21;01m.\u001b[39;00m\u001b[38;5;21;01mreshape\u001b[39;00m\u001b[38;5;21;01m.\u001b[39;00m\u001b[38;5;21;01mreshape\u001b[39;00m \u001b[38;5;28;01mimport\u001b[39;00m unstack\n\u001b[0;32m-> 7146\u001b[0m \u001b[38;5;28;01mreturn\u001b[39;00m \u001b[43munstack\u001b[49m\u001b[43m(\u001b[49m\u001b[38;5;28;43mself\u001b[39;49m\u001b[43m,\u001b[49m\u001b[43m \u001b[49m\u001b[43mlevel\u001b[49m\u001b[43m,\u001b[49m\u001b[43m \u001b[49m\u001b[43mfill_value\u001b[49m\u001b[43m)\u001b[49m\n",
      "File \u001b[0;32m~/Documents/TelComChallenge/env/lib/python3.8/site-packages/pandas/core/reshape/reshape.py:418\u001b[0m, in \u001b[0;36munstack\u001b[0;34m(obj, level, fill_value)\u001b[0m\n\u001b[1;32m    416\u001b[0m \u001b[38;5;28;01mif\u001b[39;00m \u001b[38;5;28misinstance\u001b[39m(obj, DataFrame):\n\u001b[1;32m    417\u001b[0m     \u001b[38;5;28;01mif\u001b[39;00m \u001b[38;5;28misinstance\u001b[39m(obj\u001b[38;5;241m.\u001b[39mindex, MultiIndex):\n\u001b[0;32m--> 418\u001b[0m         \u001b[38;5;28;01mreturn\u001b[39;00m \u001b[43m_unstack_frame\u001b[49m\u001b[43m(\u001b[49m\u001b[43mobj\u001b[49m\u001b[43m,\u001b[49m\u001b[43m \u001b[49m\u001b[43mlevel\u001b[49m\u001b[43m,\u001b[49m\u001b[43m \u001b[49m\u001b[43mfill_value\u001b[49m\u001b[38;5;241;43m=\u001b[39;49m\u001b[43mfill_value\u001b[49m\u001b[43m)\u001b[49m\n\u001b[1;32m    419\u001b[0m     \u001b[38;5;28;01melse\u001b[39;00m:\n\u001b[1;32m    420\u001b[0m         \u001b[38;5;28;01mreturn\u001b[39;00m obj\u001b[38;5;241m.\u001b[39mT\u001b[38;5;241m.\u001b[39mstack(dropna\u001b[38;5;241m=\u001b[39m\u001b[38;5;28;01mFalse\u001b[39;00m)\n",
      "File \u001b[0;32m~/Documents/TelComChallenge/env/lib/python3.8/site-packages/pandas/core/reshape/reshape.py:438\u001b[0m, in \u001b[0;36m_unstack_frame\u001b[0;34m(obj, level, fill_value)\u001b[0m\n\u001b[1;32m    436\u001b[0m     \u001b[38;5;28;01mreturn\u001b[39;00m obj\u001b[38;5;241m.\u001b[39m_constructor(mgr)\n\u001b[1;32m    437\u001b[0m \u001b[38;5;28;01melse\u001b[39;00m:\n\u001b[0;32m--> 438\u001b[0m     \u001b[38;5;28;01mreturn\u001b[39;00m \u001b[43m_Unstacker\u001b[49m\u001b[43m(\u001b[49m\n\u001b[1;32m    439\u001b[0m \u001b[43m        \u001b[49m\u001b[43mobj\u001b[49m\u001b[38;5;241;43m.\u001b[39;49m\u001b[43mindex\u001b[49m\u001b[43m,\u001b[49m\u001b[43m \u001b[49m\u001b[43mlevel\u001b[49m\u001b[38;5;241;43m=\u001b[39;49m\u001b[43mlevel\u001b[49m\u001b[43m,\u001b[49m\u001b[43m \u001b[49m\u001b[43mconstructor\u001b[49m\u001b[38;5;241;43m=\u001b[39;49m\u001b[43mobj\u001b[49m\u001b[38;5;241;43m.\u001b[39;49m\u001b[43m_constructor\u001b[49m\u001b[43m,\u001b[49m\n\u001b[1;32m    440\u001b[0m \u001b[43m    \u001b[49m\u001b[43m)\u001b[49m\u001b[38;5;241;43m.\u001b[39;49m\u001b[43mget_result\u001b[49m\u001b[43m(\u001b[49m\u001b[43mobj\u001b[49m\u001b[38;5;241;43m.\u001b[39;49m\u001b[43m_values\u001b[49m\u001b[43m,\u001b[49m\u001b[43m \u001b[49m\u001b[43mvalue_columns\u001b[49m\u001b[38;5;241;43m=\u001b[39;49m\u001b[43mobj\u001b[49m\u001b[38;5;241;43m.\u001b[39;49m\u001b[43mcolumns\u001b[49m\u001b[43m,\u001b[49m\u001b[43m \u001b[49m\u001b[43mfill_value\u001b[49m\u001b[38;5;241;43m=\u001b[39;49m\u001b[43mfill_value\u001b[49m\u001b[43m)\u001b[49m\n",
      "File \u001b[0;32m~/Documents/TelComChallenge/env/lib/python3.8/site-packages/pandas/core/reshape/reshape.py:184\u001b[0m, in \u001b[0;36m_Unstacker.get_result\u001b[0;34m(self, values, value_columns, fill_value)\u001b[0m\n\u001b[1;32m    181\u001b[0m \u001b[38;5;28;01mif\u001b[39;00m value_columns \u001b[38;5;129;01mis\u001b[39;00m \u001b[38;5;28;01mNone\u001b[39;00m \u001b[38;5;129;01mand\u001b[39;00m values\u001b[38;5;241m.\u001b[39mshape[\u001b[38;5;241m1\u001b[39m] \u001b[38;5;241m!=\u001b[39m \u001b[38;5;241m1\u001b[39m:  \u001b[38;5;66;03m# pragma: no cover\u001b[39;00m\n\u001b[1;32m    182\u001b[0m     \u001b[38;5;28;01mraise\u001b[39;00m \u001b[38;5;167;01mValueError\u001b[39;00m(\u001b[38;5;124m\"\u001b[39m\u001b[38;5;124mmust pass column labels for multi-column data\u001b[39m\u001b[38;5;124m\"\u001b[39m)\n\u001b[0;32m--> 184\u001b[0m values, _ \u001b[38;5;241m=\u001b[39m \u001b[38;5;28;43mself\u001b[39;49m\u001b[38;5;241;43m.\u001b[39;49m\u001b[43mget_new_values\u001b[49m\u001b[43m(\u001b[49m\u001b[43mvalues\u001b[49m\u001b[43m,\u001b[49m\u001b[43m \u001b[49m\u001b[43mfill_value\u001b[49m\u001b[43m)\u001b[49m\n\u001b[1;32m    185\u001b[0m columns \u001b[38;5;241m=\u001b[39m \u001b[38;5;28mself\u001b[39m\u001b[38;5;241m.\u001b[39mget_new_columns(value_columns)\n\u001b[1;32m    186\u001b[0m index \u001b[38;5;241m=\u001b[39m \u001b[38;5;28mself\u001b[39m\u001b[38;5;241m.\u001b[39mnew_index\n",
      "File \u001b[0;32m~/Documents/TelComChallenge/env/lib/python3.8/site-packages/pandas/core/reshape/reshape.py:224\u001b[0m, in \u001b[0;36m_Unstacker.get_new_values\u001b[0;34m(self, values, fill_value)\u001b[0m\n\u001b[1;32m    222\u001b[0m \u001b[38;5;28;01melse\u001b[39;00m:\n\u001b[1;32m    223\u001b[0m     dtype, fill_value \u001b[38;5;241m=\u001b[39m maybe_promote(values\u001b[38;5;241m.\u001b[39mdtype, fill_value)\n\u001b[0;32m--> 224\u001b[0m     new_values \u001b[38;5;241m=\u001b[39m \u001b[43mnp\u001b[49m\u001b[38;5;241;43m.\u001b[39;49m\u001b[43mempty\u001b[49m\u001b[43m(\u001b[49m\u001b[43mresult_shape\u001b[49m\u001b[43m,\u001b[49m\u001b[43m \u001b[49m\u001b[43mdtype\u001b[49m\u001b[38;5;241;43m=\u001b[39;49m\u001b[43mdtype\u001b[49m\u001b[43m)\u001b[49m\n\u001b[1;32m    225\u001b[0m     new_values\u001b[38;5;241m.\u001b[39mfill(fill_value)\n\u001b[1;32m    227\u001b[0m new_mask \u001b[38;5;241m=\u001b[39m np\u001b[38;5;241m.\u001b[39mzeros(result_shape, dtype\u001b[38;5;241m=\u001b[39m\u001b[38;5;28mbool\u001b[39m)\n",
      "\u001b[0;31mMemoryError\u001b[0m: Unable to allocate 11.7 GiB for an array with shape (40615, 38589) and data type float64"
     ]
    }
   ],
   "source": [
    "#bivariate analysis\n",
    "import seaborn as sns\n",
    "pd.crosstab(X_valid['Start'], X_valid['End'], margins=True, values=X_valid['Google DL (Bytes)'], aggfunc=pd.Series.count)\n",
    "# 3 any other aggregation function can be used based on column type\n",
    "# to create a heatmap by enclosing the above in sns.heatmap\n",
    "# sns.heatmap(pd.crosstab(df['Start'], df['End'], margins=True, values=df['Total DL (Bytes)'], aggfunc=pd.Series.count),\n",
    "#             cmap=\"YlGnBu\", annot=True, cbar=False)"
   ]
  },
  {
   "cell_type": "code",
   "execution_count": 14,
   "id": "eadf1351",
   "metadata": {},
   "outputs": [
    {
     "data": {
      "text/plain": [
       "Index(['Bearer Id', 'Start', 'Start ms', 'End', 'End ms', 'Dur. (ms)', 'IMSI',\n",
       "       'MSISDN/Number', 'IMEI', 'Last Location Name', 'Avg RTT DL (ms)',\n",
       "       'Avg RTT UL (ms)', 'Avg Bearer TP DL (kbps)', 'Avg Bearer TP UL (kbps)',\n",
       "       'TCP DL Retrans. Vol (Bytes)', 'TCP UL Retrans. Vol (Bytes)',\n",
       "       'DL TP < 50 Kbps (%)', '50 Kbps < DL TP < 250 Kbps (%)',\n",
       "       '250 Kbps < DL TP < 1 Mbps (%)', 'DL TP > 1 Mbps (%)',\n",
       "       'UL TP < 10 Kbps (%)', '10 Kbps < UL TP < 50 Kbps (%)',\n",
       "       '50 Kbps < UL TP < 300 Kbps (%)', 'UL TP > 300 Kbps (%)',\n",
       "       'HTTP DL (Bytes)', 'HTTP UL (Bytes)', 'Activity Duration DL (ms)',\n",
       "       'Activity Duration UL (ms)', 'Dur. (ms).1', 'Handset Manufacturer',\n",
       "       'Handset Type', 'Nb of sec with 125000B < Vol DL',\n",
       "       'Nb of sec with 1250B < Vol UL < 6250B',\n",
       "       'Nb of sec with 31250B < Vol DL < 125000B',\n",
       "       'Nb of sec with 37500B < Vol UL',\n",
       "       'Nb of sec with 6250B < Vol DL < 31250B',\n",
       "       'Nb of sec with 6250B < Vol UL < 37500B',\n",
       "       'Nb of sec with Vol DL < 6250B', 'Nb of sec with Vol UL < 1250B',\n",
       "       'Social Media DL (Bytes)', 'Social Media UL (Bytes)',\n",
       "       'Google DL (Bytes)', 'Google UL (Bytes)', 'Email DL (Bytes)',\n",
       "       'Email UL (Bytes)', 'Youtube DL (Bytes)', 'Youtube UL (Bytes)',\n",
       "       'Netflix DL (Bytes)', 'Netflix UL (Bytes)', 'Gaming DL (Bytes)',\n",
       "       'Gaming UL (Bytes)', 'Other DL (Bytes)', 'Other UL (Bytes)',\n",
       "       'Total UL (Bytes)', 'Total DL (Bytes)'],\n",
       "      dtype='object')"
      ]
     },
     "execution_count": 14,
     "metadata": {},
     "output_type": "execute_result"
    }
   ],
   "source": [
    "df.columns"
   ]
  },
  {
   "cell_type": "code",
   "execution_count": 15,
   "id": "c8a84942",
   "metadata": {},
   "outputs": [
    {
     "data": {
      "text/html": [
       "<div>\n",
       "<style scoped>\n",
       "    .dataframe tbody tr th:only-of-type {\n",
       "        vertical-align: middle;\n",
       "    }\n",
       "\n",
       "    .dataframe tbody tr th {\n",
       "        vertical-align: top;\n",
       "    }\n",
       "\n",
       "    .dataframe thead th {\n",
       "        text-align: right;\n",
       "    }\n",
       "</style>\n",
       "<table border=\"1\" class=\"dataframe\">\n",
       "  <thead>\n",
       "    <tr style=\"text-align: right;\">\n",
       "      <th></th>\n",
       "      <th>Bearer Id</th>\n",
       "      <th>Start</th>\n",
       "      <th>Start ms</th>\n",
       "      <th>End</th>\n",
       "      <th>End ms</th>\n",
       "      <th>Dur. (ms)</th>\n",
       "      <th>IMSI</th>\n",
       "      <th>MSISDN/Number</th>\n",
       "      <th>IMEI</th>\n",
       "      <th>Last Location Name</th>\n",
       "      <th>...</th>\n",
       "      <th>Youtube DL (Bytes)</th>\n",
       "      <th>Youtube UL (Bytes)</th>\n",
       "      <th>Netflix DL (Bytes)</th>\n",
       "      <th>Netflix UL (Bytes)</th>\n",
       "      <th>Gaming DL (Bytes)</th>\n",
       "      <th>Gaming UL (Bytes)</th>\n",
       "      <th>Other DL (Bytes)</th>\n",
       "      <th>Other UL (Bytes)</th>\n",
       "      <th>Total UL (Bytes)</th>\n",
       "      <th>Total DL (Bytes)</th>\n",
       "    </tr>\n",
       "  </thead>\n",
       "  <tbody>\n",
       "    <tr>\n",
       "      <th>0</th>\n",
       "      <td>1.311450e+19</td>\n",
       "      <td>4/4/19 12:01</td>\n",
       "      <td>770.0</td>\n",
       "      <td>4/25/19 14:35</td>\n",
       "      <td>662.0</td>\n",
       "      <td>1823652.0</td>\n",
       "      <td>2.082014e+14</td>\n",
       "      <td>3.366496e+10</td>\n",
       "      <td>3.552121e+13</td>\n",
       "      <td>9.16457E+15</td>\n",
       "      <td>...</td>\n",
       "      <td>15854611.0</td>\n",
       "      <td>2501332.0</td>\n",
       "      <td>8198936.0</td>\n",
       "      <td>9656251.0</td>\n",
       "      <td>278082303.0</td>\n",
       "      <td>14344150.0</td>\n",
       "      <td>171744450.0</td>\n",
       "      <td>8814393.0</td>\n",
       "      <td>36749741.0</td>\n",
       "      <td>308879636.0</td>\n",
       "    </tr>\n",
       "    <tr>\n",
       "      <th>1</th>\n",
       "      <td>1.311450e+19</td>\n",
       "      <td>4/9/19 13:04</td>\n",
       "      <td>235.0</td>\n",
       "      <td>4/25/19 8:15</td>\n",
       "      <td>606.0</td>\n",
       "      <td>1365104.0</td>\n",
       "      <td>2.082019e+14</td>\n",
       "      <td>3.368185e+10</td>\n",
       "      <td>3.579401e+13</td>\n",
       "      <td>L77566A</td>\n",
       "      <td>...</td>\n",
       "      <td>20247395.0</td>\n",
       "      <td>19111729.0</td>\n",
       "      <td>18338413.0</td>\n",
       "      <td>17227132.0</td>\n",
       "      <td>608750074.0</td>\n",
       "      <td>1170709.0</td>\n",
       "      <td>526904238.0</td>\n",
       "      <td>15055145.0</td>\n",
       "      <td>53800391.0</td>\n",
       "      <td>653384965.0</td>\n",
       "    </tr>\n",
       "    <tr>\n",
       "      <th>2</th>\n",
       "      <td>1.311450e+19</td>\n",
       "      <td>4/9/19 17:42</td>\n",
       "      <td>1.0</td>\n",
       "      <td>4/25/19 11:58</td>\n",
       "      <td>652.0</td>\n",
       "      <td>1361762.0</td>\n",
       "      <td>2.082003e+14</td>\n",
       "      <td>3.376063e+10</td>\n",
       "      <td>3.528151e+13</td>\n",
       "      <td>D42335A</td>\n",
       "      <td>...</td>\n",
       "      <td>19725661.0</td>\n",
       "      <td>14699576.0</td>\n",
       "      <td>17587794.0</td>\n",
       "      <td>6163408.0</td>\n",
       "      <td>229584621.0</td>\n",
       "      <td>395630.0</td>\n",
       "      <td>410692588.0</td>\n",
       "      <td>4215763.0</td>\n",
       "      <td>27883638.0</td>\n",
       "      <td>279807335.0</td>\n",
       "    </tr>\n",
       "    <tr>\n",
       "      <th>3</th>\n",
       "      <td>1.311450e+19</td>\n",
       "      <td>4/10/19 0:31</td>\n",
       "      <td>486.0</td>\n",
       "      <td>4/25/19 7:36</td>\n",
       "      <td>171.0</td>\n",
       "      <td>1321509.0</td>\n",
       "      <td>2.082014e+14</td>\n",
       "      <td>3.375034e+10</td>\n",
       "      <td>3.535661e+13</td>\n",
       "      <td>T21824A</td>\n",
       "      <td>...</td>\n",
       "      <td>21388122.0</td>\n",
       "      <td>15146643.0</td>\n",
       "      <td>13994646.0</td>\n",
       "      <td>1097942.0</td>\n",
       "      <td>799538153.0</td>\n",
       "      <td>10849722.0</td>\n",
       "      <td>749039933.0</td>\n",
       "      <td>12797283.0</td>\n",
       "      <td>43324218.0</td>\n",
       "      <td>846028530.0</td>\n",
       "    </tr>\n",
       "    <tr>\n",
       "      <th>4</th>\n",
       "      <td>1.311450e+19</td>\n",
       "      <td>4/12/19 20:10</td>\n",
       "      <td>565.0</td>\n",
       "      <td>4/25/19 10:40</td>\n",
       "      <td>954.0</td>\n",
       "      <td>1089009.0</td>\n",
       "      <td>2.082014e+14</td>\n",
       "      <td>3.369980e+10</td>\n",
       "      <td>3.540701e+13</td>\n",
       "      <td>D88865A</td>\n",
       "      <td>...</td>\n",
       "      <td>15259380.0</td>\n",
       "      <td>18962873.0</td>\n",
       "      <td>17124581.0</td>\n",
       "      <td>415218.0</td>\n",
       "      <td>527707248.0</td>\n",
       "      <td>3529801.0</td>\n",
       "      <td>550709500.0</td>\n",
       "      <td>13910322.0</td>\n",
       "      <td>38542814.0</td>\n",
       "      <td>569138589.0</td>\n",
       "    </tr>\n",
       "  </tbody>\n",
       "</table>\n",
       "<p>5 rows × 55 columns</p>\n",
       "</div>"
      ],
      "text/plain": [
       "      Bearer Id          Start  Start ms            End  End ms  Dur. (ms)  \\\n",
       "0  1.311450e+19   4/4/19 12:01     770.0  4/25/19 14:35   662.0  1823652.0   \n",
       "1  1.311450e+19   4/9/19 13:04     235.0   4/25/19 8:15   606.0  1365104.0   \n",
       "2  1.311450e+19   4/9/19 17:42       1.0  4/25/19 11:58   652.0  1361762.0   \n",
       "3  1.311450e+19   4/10/19 0:31     486.0   4/25/19 7:36   171.0  1321509.0   \n",
       "4  1.311450e+19  4/12/19 20:10     565.0  4/25/19 10:40   954.0  1089009.0   \n",
       "\n",
       "           IMSI  MSISDN/Number          IMEI Last Location Name  ...  \\\n",
       "0  2.082014e+14   3.366496e+10  3.552121e+13        9.16457E+15  ...   \n",
       "1  2.082019e+14   3.368185e+10  3.579401e+13            L77566A  ...   \n",
       "2  2.082003e+14   3.376063e+10  3.528151e+13            D42335A  ...   \n",
       "3  2.082014e+14   3.375034e+10  3.535661e+13            T21824A  ...   \n",
       "4  2.082014e+14   3.369980e+10  3.540701e+13            D88865A  ...   \n",
       "\n",
       "   Youtube DL (Bytes)  Youtube UL (Bytes)  Netflix DL (Bytes)  \\\n",
       "0          15854611.0           2501332.0           8198936.0   \n",
       "1          20247395.0          19111729.0          18338413.0   \n",
       "2          19725661.0          14699576.0          17587794.0   \n",
       "3          21388122.0          15146643.0          13994646.0   \n",
       "4          15259380.0          18962873.0          17124581.0   \n",
       "\n",
       "   Netflix UL (Bytes)  Gaming DL (Bytes)  Gaming UL (Bytes)  Other DL (Bytes)  \\\n",
       "0           9656251.0        278082303.0         14344150.0       171744450.0   \n",
       "1          17227132.0        608750074.0          1170709.0       526904238.0   \n",
       "2           6163408.0        229584621.0           395630.0       410692588.0   \n",
       "3           1097942.0        799538153.0         10849722.0       749039933.0   \n",
       "4            415218.0        527707248.0          3529801.0       550709500.0   \n",
       "\n",
       "   Other UL (Bytes)  Total UL (Bytes)  Total DL (Bytes)  \n",
       "0         8814393.0        36749741.0       308879636.0  \n",
       "1        15055145.0        53800391.0       653384965.0  \n",
       "2         4215763.0        27883638.0       279807335.0  \n",
       "3        12797283.0        43324218.0       846028530.0  \n",
       "4        13910322.0        38542814.0       569138589.0  \n",
       "\n",
       "[5 rows x 55 columns]"
      ]
     },
     "execution_count": 15,
     "metadata": {},
     "output_type": "execute_result"
    }
   ],
   "source": [
    "df.head()"
   ]
  },
  {
   "cell_type": "code",
   "execution_count": 20,
   "id": "6cb43bbf",
   "metadata": {},
   "outputs": [],
   "source": [
    "# categorizing data\n",
    "categorizing_deciles = pd.qcut(df['Dur. (ms)'], 10,duplicates='drop')"
   ]
  },
  {
   "cell_type": "code",
   "execution_count": 27,
   "id": "d30d98f9",
   "metadata": {},
   "outputs": [
    {
     "data": {
      "text/plain": [
       "array([ 8,  8,  8, ...,  5,  5, -1], dtype=int8)"
      ]
     },
     "execution_count": 27,
     "metadata": {},
     "output_type": "execute_result"
    }
   ],
   "source": [
    "deciles = categorizing_deciles.values.codes\n",
    "deciles"
   ]
  },
  {
   "cell_type": "code",
   "execution_count": null,
   "id": "dd8ba28f",
   "metadata": {},
   "outputs": [],
   "source": [
    "deciles_ = df.apply(lambda x: pd.qcut(x['Dur. (ms)'],10, duplicates='drop'), axis=1)"
   ]
  },
  {
   "cell_type": "code",
   "execution_count": 25,
   "id": "e9c72581",
   "metadata": {},
   "outputs": [
    {
     "data": {
      "text/html": [
       "<div>\n",
       "<style scoped>\n",
       "    .dataframe tbody tr th:only-of-type {\n",
       "        vertical-align: middle;\n",
       "    }\n",
       "\n",
       "    .dataframe tbody tr th {\n",
       "        vertical-align: top;\n",
       "    }\n",
       "\n",
       "    .dataframe thead th {\n",
       "        text-align: right;\n",
       "    }\n",
       "</style>\n",
       "<table border=\"1\" class=\"dataframe\">\n",
       "  <thead>\n",
       "    <tr style=\"text-align: right;\">\n",
       "      <th></th>\n",
       "      <th>0</th>\n",
       "    </tr>\n",
       "  </thead>\n",
       "  <tbody>\n",
       "    <tr>\n",
       "      <th>0</th>\n",
       "      <td>8</td>\n",
       "    </tr>\n",
       "    <tr>\n",
       "      <th>1</th>\n",
       "      <td>8</td>\n",
       "    </tr>\n",
       "    <tr>\n",
       "      <th>2</th>\n",
       "      <td>8</td>\n",
       "    </tr>\n",
       "    <tr>\n",
       "      <th>3</th>\n",
       "      <td>8</td>\n",
       "    </tr>\n",
       "    <tr>\n",
       "      <th>4</th>\n",
       "      <td>8</td>\n",
       "    </tr>\n",
       "    <tr>\n",
       "      <th>...</th>\n",
       "      <td>...</td>\n",
       "    </tr>\n",
       "    <tr>\n",
       "      <th>149996</th>\n",
       "      <td>3</td>\n",
       "    </tr>\n",
       "    <tr>\n",
       "      <th>149997</th>\n",
       "      <td>5</td>\n",
       "    </tr>\n",
       "    <tr>\n",
       "      <th>149998</th>\n",
       "      <td>5</td>\n",
       "    </tr>\n",
       "    <tr>\n",
       "      <th>149999</th>\n",
       "      <td>5</td>\n",
       "    </tr>\n",
       "    <tr>\n",
       "      <th>150000</th>\n",
       "      <td>-1</td>\n",
       "    </tr>\n",
       "  </tbody>\n",
       "</table>\n",
       "<p>150001 rows × 1 columns</p>\n",
       "</div>"
      ],
      "text/plain": [
       "        0\n",
       "0       8\n",
       "1       8\n",
       "2       8\n",
       "3       8\n",
       "4       8\n",
       "...    ..\n",
       "149996  3\n",
       "149997  5\n",
       "149998  5\n",
       "149999  5\n",
       "150000 -1\n",
       "\n",
       "[150001 rows x 1 columns]"
      ]
     },
     "execution_count": 25,
     "metadata": {},
     "output_type": "execute_result"
    }
   ],
   "source": [
    "np.argwhere(dec.values['Dur. (ms)'] == pd.qcut(df['Dur. (ms)'],10, duplicates='drop').categories.max())"
   ]
  },
  {
   "cell_type": "code",
   "execution_count": 11,
   "id": "f684bfbd",
   "metadata": {},
   "outputs": [],
   "source": [
    "### correlation matrix"
   ]
  },
  {
   "cell_type": "code",
   "execution_count": 9,
   "id": "588de10d",
   "metadata": {},
   "outputs": [],
   "source": [
    "applications = df[['Social Media DL (Bytes)', 'Social Media UL (Bytes)',\n",
    "       'Google DL (Bytes)', 'Google UL (Bytes)', 'Email DL (Bytes)',\n",
    "       'Email UL (Bytes)', 'Youtube DL (Bytes)', 'Youtube UL (Bytes)',\n",
    "       'Netflix DL (Bytes)', 'Netflix UL (Bytes)', 'Gaming DL (Bytes)',\n",
    "       'Gaming UL (Bytes)', 'Other DL (Bytes)', 'Other UL (Bytes)']]"
   ]
  },
  {
   "cell_type": "code",
   "execution_count": 12,
   "id": "87403cf3",
   "metadata": {},
   "outputs": [],
   "source": [
    "social_media_corelation_matrix  = applications.corr()"
   ]
  },
  {
   "cell_type": "code",
   "execution_count": 13,
   "id": "c8e27c42",
   "metadata": {},
   "outputs": [
    {
     "data": {
      "text/html": [
       "<div>\n",
       "<style scoped>\n",
       "    .dataframe tbody tr th:only-of-type {\n",
       "        vertical-align: middle;\n",
       "    }\n",
       "\n",
       "    .dataframe tbody tr th {\n",
       "        vertical-align: top;\n",
       "    }\n",
       "\n",
       "    .dataframe thead th {\n",
       "        text-align: right;\n",
       "    }\n",
       "</style>\n",
       "<table border=\"1\" class=\"dataframe\">\n",
       "  <thead>\n",
       "    <tr style=\"text-align: right;\">\n",
       "      <th></th>\n",
       "      <th>Social Media DL (Bytes)</th>\n",
       "      <th>Social Media UL (Bytes)</th>\n",
       "      <th>Google DL (Bytes)</th>\n",
       "      <th>Google UL (Bytes)</th>\n",
       "      <th>Email DL (Bytes)</th>\n",
       "      <th>Email UL (Bytes)</th>\n",
       "      <th>Youtube DL (Bytes)</th>\n",
       "      <th>Youtube UL (Bytes)</th>\n",
       "      <th>Netflix DL (Bytes)</th>\n",
       "      <th>Netflix UL (Bytes)</th>\n",
       "      <th>Gaming DL (Bytes)</th>\n",
       "      <th>Gaming UL (Bytes)</th>\n",
       "      <th>Other DL (Bytes)</th>\n",
       "      <th>Other UL (Bytes)</th>\n",
       "    </tr>\n",
       "  </thead>\n",
       "  <tbody>\n",
       "    <tr>\n",
       "      <th>Social Media DL (Bytes)</th>\n",
       "      <td>1.000000</td>\n",
       "      <td>-0.000555</td>\n",
       "      <td>-0.001954</td>\n",
       "      <td>0.000186</td>\n",
       "      <td>0.004745</td>\n",
       "      <td>-0.002518</td>\n",
       "      <td>-0.001389</td>\n",
       "      <td>0.002345</td>\n",
       "      <td>-0.001817</td>\n",
       "      <td>0.003457</td>\n",
       "      <td>0.001018</td>\n",
       "      <td>0.003095</td>\n",
       "      <td>0.006126</td>\n",
       "      <td>0.000610</td>\n",
       "    </tr>\n",
       "    <tr>\n",
       "      <th>Social Media UL (Bytes)</th>\n",
       "      <td>-0.000555</td>\n",
       "      <td>1.000000</td>\n",
       "      <td>0.003542</td>\n",
       "      <td>0.001085</td>\n",
       "      <td>0.004823</td>\n",
       "      <td>-0.001427</td>\n",
       "      <td>-0.001786</td>\n",
       "      <td>-0.002368</td>\n",
       "      <td>-0.000772</td>\n",
       "      <td>-0.002493</td>\n",
       "      <td>0.000210</td>\n",
       "      <td>0.000844</td>\n",
       "      <td>-0.003850</td>\n",
       "      <td>0.000971</td>\n",
       "    </tr>\n",
       "    <tr>\n",
       "      <th>Google DL (Bytes)</th>\n",
       "      <td>-0.001954</td>\n",
       "      <td>0.003542</td>\n",
       "      <td>1.000000</td>\n",
       "      <td>-0.000103</td>\n",
       "      <td>-0.000039</td>\n",
       "      <td>0.000742</td>\n",
       "      <td>0.001760</td>\n",
       "      <td>0.000638</td>\n",
       "      <td>0.000548</td>\n",
       "      <td>-0.001569</td>\n",
       "      <td>-0.001421</td>\n",
       "      <td>-0.001429</td>\n",
       "      <td>-0.002557</td>\n",
       "      <td>-0.000882</td>\n",
       "    </tr>\n",
       "    <tr>\n",
       "      <th>Google UL (Bytes)</th>\n",
       "      <td>0.000186</td>\n",
       "      <td>0.001085</td>\n",
       "      <td>-0.000103</td>\n",
       "      <td>1.000000</td>\n",
       "      <td>-0.001157</td>\n",
       "      <td>-0.002050</td>\n",
       "      <td>0.001122</td>\n",
       "      <td>0.001670</td>\n",
       "      <td>-0.001288</td>\n",
       "      <td>-0.004073</td>\n",
       "      <td>0.001140</td>\n",
       "      <td>-0.002516</td>\n",
       "      <td>0.002097</td>\n",
       "      <td>-0.002219</td>\n",
       "    </tr>\n",
       "    <tr>\n",
       "      <th>Email DL (Bytes)</th>\n",
       "      <td>0.004745</td>\n",
       "      <td>0.004823</td>\n",
       "      <td>-0.000039</td>\n",
       "      <td>-0.001157</td>\n",
       "      <td>1.000000</td>\n",
       "      <td>0.002553</td>\n",
       "      <td>0.001679</td>\n",
       "      <td>-0.004305</td>\n",
       "      <td>0.001351</td>\n",
       "      <td>-0.000016</td>\n",
       "      <td>0.000050</td>\n",
       "      <td>-0.004335</td>\n",
       "      <td>-0.000444</td>\n",
       "      <td>0.004675</td>\n",
       "    </tr>\n",
       "    <tr>\n",
       "      <th>Email UL (Bytes)</th>\n",
       "      <td>-0.002518</td>\n",
       "      <td>-0.001427</td>\n",
       "      <td>0.000742</td>\n",
       "      <td>-0.002050</td>\n",
       "      <td>0.002553</td>\n",
       "      <td>1.000000</td>\n",
       "      <td>-0.000320</td>\n",
       "      <td>-0.006834</td>\n",
       "      <td>-0.000011</td>\n",
       "      <td>0.000532</td>\n",
       "      <td>-0.002519</td>\n",
       "      <td>0.005000</td>\n",
       "      <td>-0.003805</td>\n",
       "      <td>0.000081</td>\n",
       "    </tr>\n",
       "    <tr>\n",
       "      <th>Youtube DL (Bytes)</th>\n",
       "      <td>-0.001389</td>\n",
       "      <td>-0.001786</td>\n",
       "      <td>0.001760</td>\n",
       "      <td>0.001122</td>\n",
       "      <td>0.001679</td>\n",
       "      <td>-0.000320</td>\n",
       "      <td>1.000000</td>\n",
       "      <td>0.002433</td>\n",
       "      <td>0.001202</td>\n",
       "      <td>0.001746</td>\n",
       "      <td>-0.001861</td>\n",
       "      <td>-0.001893</td>\n",
       "      <td>0.002042</td>\n",
       "      <td>-0.004830</td>\n",
       "    </tr>\n",
       "    <tr>\n",
       "      <th>Youtube UL (Bytes)</th>\n",
       "      <td>0.002345</td>\n",
       "      <td>-0.002368</td>\n",
       "      <td>0.000638</td>\n",
       "      <td>0.001670</td>\n",
       "      <td>-0.004305</td>\n",
       "      <td>-0.006834</td>\n",
       "      <td>0.002433</td>\n",
       "      <td>1.000000</td>\n",
       "      <td>0.000423</td>\n",
       "      <td>0.002477</td>\n",
       "      <td>-0.002382</td>\n",
       "      <td>0.000898</td>\n",
       "      <td>0.002296</td>\n",
       "      <td>-0.001393</td>\n",
       "    </tr>\n",
       "    <tr>\n",
       "      <th>Netflix DL (Bytes)</th>\n",
       "      <td>-0.001817</td>\n",
       "      <td>-0.000772</td>\n",
       "      <td>0.000548</td>\n",
       "      <td>-0.001288</td>\n",
       "      <td>0.001351</td>\n",
       "      <td>-0.000011</td>\n",
       "      <td>0.001202</td>\n",
       "      <td>0.000423</td>\n",
       "      <td>1.000000</td>\n",
       "      <td>0.001065</td>\n",
       "      <td>-0.003201</td>\n",
       "      <td>-0.000633</td>\n",
       "      <td>-0.006000</td>\n",
       "      <td>-0.002588</td>\n",
       "    </tr>\n",
       "    <tr>\n",
       "      <th>Netflix UL (Bytes)</th>\n",
       "      <td>0.003457</td>\n",
       "      <td>-0.002493</td>\n",
       "      <td>-0.001569</td>\n",
       "      <td>-0.004073</td>\n",
       "      <td>-0.000016</td>\n",
       "      <td>0.000532</td>\n",
       "      <td>0.001746</td>\n",
       "      <td>0.002477</td>\n",
       "      <td>0.001065</td>\n",
       "      <td>1.000000</td>\n",
       "      <td>-0.001051</td>\n",
       "      <td>-0.004015</td>\n",
       "      <td>-0.006691</td>\n",
       "      <td>-0.003447</td>\n",
       "    </tr>\n",
       "    <tr>\n",
       "      <th>Gaming DL (Bytes)</th>\n",
       "      <td>0.001018</td>\n",
       "      <td>0.000210</td>\n",
       "      <td>-0.001421</td>\n",
       "      <td>0.001140</td>\n",
       "      <td>0.000050</td>\n",
       "      <td>-0.002519</td>\n",
       "      <td>-0.001861</td>\n",
       "      <td>-0.002382</td>\n",
       "      <td>-0.003201</td>\n",
       "      <td>-0.001051</td>\n",
       "      <td>1.000000</td>\n",
       "      <td>0.001162</td>\n",
       "      <td>-0.002591</td>\n",
       "      <td>-0.001131</td>\n",
       "    </tr>\n",
       "    <tr>\n",
       "      <th>Gaming UL (Bytes)</th>\n",
       "      <td>0.003095</td>\n",
       "      <td>0.000844</td>\n",
       "      <td>-0.001429</td>\n",
       "      <td>-0.002516</td>\n",
       "      <td>-0.004335</td>\n",
       "      <td>0.005000</td>\n",
       "      <td>-0.001893</td>\n",
       "      <td>0.000898</td>\n",
       "      <td>-0.000633</td>\n",
       "      <td>-0.004015</td>\n",
       "      <td>0.001162</td>\n",
       "      <td>1.000000</td>\n",
       "      <td>-0.002381</td>\n",
       "      <td>-0.006011</td>\n",
       "    </tr>\n",
       "    <tr>\n",
       "      <th>Other DL (Bytes)</th>\n",
       "      <td>0.006126</td>\n",
       "      <td>-0.003850</td>\n",
       "      <td>-0.002557</td>\n",
       "      <td>0.002097</td>\n",
       "      <td>-0.000444</td>\n",
       "      <td>-0.003805</td>\n",
       "      <td>0.002042</td>\n",
       "      <td>0.002296</td>\n",
       "      <td>-0.006000</td>\n",
       "      <td>-0.006691</td>\n",
       "      <td>-0.002591</td>\n",
       "      <td>-0.002381</td>\n",
       "      <td>1.000000</td>\n",
       "      <td>0.003421</td>\n",
       "    </tr>\n",
       "    <tr>\n",
       "      <th>Other UL (Bytes)</th>\n",
       "      <td>0.000610</td>\n",
       "      <td>0.000971</td>\n",
       "      <td>-0.000882</td>\n",
       "      <td>-0.002219</td>\n",
       "      <td>0.004675</td>\n",
       "      <td>0.000081</td>\n",
       "      <td>-0.004830</td>\n",
       "      <td>-0.001393</td>\n",
       "      <td>-0.002588</td>\n",
       "      <td>-0.003447</td>\n",
       "      <td>-0.001131</td>\n",
       "      <td>-0.006011</td>\n",
       "      <td>0.003421</td>\n",
       "      <td>1.000000</td>\n",
       "    </tr>\n",
       "  </tbody>\n",
       "</table>\n",
       "</div>"
      ],
      "text/plain": [
       "                         Social Media DL (Bytes)  Social Media UL (Bytes)  \\\n",
       "Social Media DL (Bytes)                 1.000000                -0.000555   \n",
       "Social Media UL (Bytes)                -0.000555                 1.000000   \n",
       "Google DL (Bytes)                      -0.001954                 0.003542   \n",
       "Google UL (Bytes)                       0.000186                 0.001085   \n",
       "Email DL (Bytes)                        0.004745                 0.004823   \n",
       "Email UL (Bytes)                       -0.002518                -0.001427   \n",
       "Youtube DL (Bytes)                     -0.001389                -0.001786   \n",
       "Youtube UL (Bytes)                      0.002345                -0.002368   \n",
       "Netflix DL (Bytes)                     -0.001817                -0.000772   \n",
       "Netflix UL (Bytes)                      0.003457                -0.002493   \n",
       "Gaming DL (Bytes)                       0.001018                 0.000210   \n",
       "Gaming UL (Bytes)                       0.003095                 0.000844   \n",
       "Other DL (Bytes)                        0.006126                -0.003850   \n",
       "Other UL (Bytes)                        0.000610                 0.000971   \n",
       "\n",
       "                         Google DL (Bytes)  Google UL (Bytes)  \\\n",
       "Social Media DL (Bytes)          -0.001954           0.000186   \n",
       "Social Media UL (Bytes)           0.003542           0.001085   \n",
       "Google DL (Bytes)                 1.000000          -0.000103   \n",
       "Google UL (Bytes)                -0.000103           1.000000   \n",
       "Email DL (Bytes)                 -0.000039          -0.001157   \n",
       "Email UL (Bytes)                  0.000742          -0.002050   \n",
       "Youtube DL (Bytes)                0.001760           0.001122   \n",
       "Youtube UL (Bytes)                0.000638           0.001670   \n",
       "Netflix DL (Bytes)                0.000548          -0.001288   \n",
       "Netflix UL (Bytes)               -0.001569          -0.004073   \n",
       "Gaming DL (Bytes)                -0.001421           0.001140   \n",
       "Gaming UL (Bytes)                -0.001429          -0.002516   \n",
       "Other DL (Bytes)                 -0.002557           0.002097   \n",
       "Other UL (Bytes)                 -0.000882          -0.002219   \n",
       "\n",
       "                         Email DL (Bytes)  Email UL (Bytes)  \\\n",
       "Social Media DL (Bytes)          0.004745         -0.002518   \n",
       "Social Media UL (Bytes)          0.004823         -0.001427   \n",
       "Google DL (Bytes)               -0.000039          0.000742   \n",
       "Google UL (Bytes)               -0.001157         -0.002050   \n",
       "Email DL (Bytes)                 1.000000          0.002553   \n",
       "Email UL (Bytes)                 0.002553          1.000000   \n",
       "Youtube DL (Bytes)               0.001679         -0.000320   \n",
       "Youtube UL (Bytes)              -0.004305         -0.006834   \n",
       "Netflix DL (Bytes)               0.001351         -0.000011   \n",
       "Netflix UL (Bytes)              -0.000016          0.000532   \n",
       "Gaming DL (Bytes)                0.000050         -0.002519   \n",
       "Gaming UL (Bytes)               -0.004335          0.005000   \n",
       "Other DL (Bytes)                -0.000444         -0.003805   \n",
       "Other UL (Bytes)                 0.004675          0.000081   \n",
       "\n",
       "                         Youtube DL (Bytes)  Youtube UL (Bytes)  \\\n",
       "Social Media DL (Bytes)           -0.001389            0.002345   \n",
       "Social Media UL (Bytes)           -0.001786           -0.002368   \n",
       "Google DL (Bytes)                  0.001760            0.000638   \n",
       "Google UL (Bytes)                  0.001122            0.001670   \n",
       "Email DL (Bytes)                   0.001679           -0.004305   \n",
       "Email UL (Bytes)                  -0.000320           -0.006834   \n",
       "Youtube DL (Bytes)                 1.000000            0.002433   \n",
       "Youtube UL (Bytes)                 0.002433            1.000000   \n",
       "Netflix DL (Bytes)                 0.001202            0.000423   \n",
       "Netflix UL (Bytes)                 0.001746            0.002477   \n",
       "Gaming DL (Bytes)                 -0.001861           -0.002382   \n",
       "Gaming UL (Bytes)                 -0.001893            0.000898   \n",
       "Other DL (Bytes)                   0.002042            0.002296   \n",
       "Other UL (Bytes)                  -0.004830           -0.001393   \n",
       "\n",
       "                         Netflix DL (Bytes)  Netflix UL (Bytes)  \\\n",
       "Social Media DL (Bytes)           -0.001817            0.003457   \n",
       "Social Media UL (Bytes)           -0.000772           -0.002493   \n",
       "Google DL (Bytes)                  0.000548           -0.001569   \n",
       "Google UL (Bytes)                 -0.001288           -0.004073   \n",
       "Email DL (Bytes)                   0.001351           -0.000016   \n",
       "Email UL (Bytes)                  -0.000011            0.000532   \n",
       "Youtube DL (Bytes)                 0.001202            0.001746   \n",
       "Youtube UL (Bytes)                 0.000423            0.002477   \n",
       "Netflix DL (Bytes)                 1.000000            0.001065   \n",
       "Netflix UL (Bytes)                 0.001065            1.000000   \n",
       "Gaming DL (Bytes)                 -0.003201           -0.001051   \n",
       "Gaming UL (Bytes)                 -0.000633           -0.004015   \n",
       "Other DL (Bytes)                  -0.006000           -0.006691   \n",
       "Other UL (Bytes)                  -0.002588           -0.003447   \n",
       "\n",
       "                         Gaming DL (Bytes)  Gaming UL (Bytes)  \\\n",
       "Social Media DL (Bytes)           0.001018           0.003095   \n",
       "Social Media UL (Bytes)           0.000210           0.000844   \n",
       "Google DL (Bytes)                -0.001421          -0.001429   \n",
       "Google UL (Bytes)                 0.001140          -0.002516   \n",
       "Email DL (Bytes)                  0.000050          -0.004335   \n",
       "Email UL (Bytes)                 -0.002519           0.005000   \n",
       "Youtube DL (Bytes)               -0.001861          -0.001893   \n",
       "Youtube UL (Bytes)               -0.002382           0.000898   \n",
       "Netflix DL (Bytes)               -0.003201          -0.000633   \n",
       "Netflix UL (Bytes)               -0.001051          -0.004015   \n",
       "Gaming DL (Bytes)                 1.000000           0.001162   \n",
       "Gaming UL (Bytes)                 0.001162           1.000000   \n",
       "Other DL (Bytes)                 -0.002591          -0.002381   \n",
       "Other UL (Bytes)                 -0.001131          -0.006011   \n",
       "\n",
       "                         Other DL (Bytes)  Other UL (Bytes)  \n",
       "Social Media DL (Bytes)          0.006126          0.000610  \n",
       "Social Media UL (Bytes)         -0.003850          0.000971  \n",
       "Google DL (Bytes)               -0.002557         -0.000882  \n",
       "Google UL (Bytes)                0.002097         -0.002219  \n",
       "Email DL (Bytes)                -0.000444          0.004675  \n",
       "Email UL (Bytes)                -0.003805          0.000081  \n",
       "Youtube DL (Bytes)               0.002042         -0.004830  \n",
       "Youtube UL (Bytes)               0.002296         -0.001393  \n",
       "Netflix DL (Bytes)              -0.006000         -0.002588  \n",
       "Netflix UL (Bytes)              -0.006691         -0.003447  \n",
       "Gaming DL (Bytes)               -0.002591         -0.001131  \n",
       "Gaming UL (Bytes)               -0.002381         -0.006011  \n",
       "Other DL (Bytes)                 1.000000          0.003421  \n",
       "Other UL (Bytes)                 0.003421          1.000000  "
      ]
     },
     "execution_count": 13,
     "metadata": {},
     "output_type": "execute_result"
    }
   ],
   "source": [
    "social_media_corelation_matrix"
   ]
  },
  {
   "cell_type": "code",
   "execution_count": null,
   "id": "aa5ea682",
   "metadata": {},
   "outputs": [],
   "source": []
  },
  {
   "cell_type": "code",
   "execution_count": 113,
   "id": "089a29a2",
   "metadata": {},
   "outputs": [
    {
     "data": {
      "text/plain": [
       "array([[<AxesSubplot:title={'center':'Start ms'}>,\n",
       "        <AxesSubplot:title={'center':'End ms'}>,\n",
       "        <AxesSubplot:title={'center':'Dur. (ms)'}>,\n",
       "        <AxesSubplot:title={'center':'IMSI'}>,\n",
       "        <AxesSubplot:title={'center':'MSISDN/Number'}>,\n",
       "        <AxesSubplot:title={'center':'IMEI'}>,\n",
       "        <AxesSubplot:title={'center':'Avg RTT DL (ms)'}>],\n",
       "       [<AxesSubplot:title={'center':'Avg RTT UL (ms)'}>,\n",
       "        <AxesSubplot:title={'center':'Avg Bearer TP DL (kbps)'}>,\n",
       "        <AxesSubplot:title={'center':'Avg Bearer TP UL (kbps)'}>,\n",
       "        <AxesSubplot:title={'center':'TCP DL Retrans. Vol (Bytes)'}>,\n",
       "        <AxesSubplot:title={'center':'TCP UL Retrans. Vol (Bytes)'}>,\n",
       "        <AxesSubplot:title={'center':'DL TP < 50 Kbps (%)'}>,\n",
       "        <AxesSubplot:title={'center':'50 Kbps < DL TP < 250 Kbps (%)'}>],\n",
       "       [<AxesSubplot:title={'center':'250 Kbps < DL TP < 1 Mbps (%)'}>,\n",
       "        <AxesSubplot:title={'center':'DL TP > 1 Mbps (%)'}>,\n",
       "        <AxesSubplot:title={'center':'UL TP < 10 Kbps (%)'}>,\n",
       "        <AxesSubplot:title={'center':'10 Kbps < UL TP < 50 Kbps (%)'}>,\n",
       "        <AxesSubplot:title={'center':'50 Kbps < UL TP < 300 Kbps (%)'}>,\n",
       "        <AxesSubplot:title={'center':'UL TP > 300 Kbps (%)'}>,\n",
       "        <AxesSubplot:title={'center':'HTTP DL (Bytes)'}>],\n",
       "       [<AxesSubplot:title={'center':'HTTP UL (Bytes)'}>,\n",
       "        <AxesSubplot:title={'center':'Activity Duration DL (ms)'}>,\n",
       "        <AxesSubplot:title={'center':'Activity Duration UL (ms)'}>,\n",
       "        <AxesSubplot:title={'center':'Dur. (ms).1'}>,\n",
       "        <AxesSubplot:title={'center':'Nb of sec with 125000B < Vol DL'}>,\n",
       "        <AxesSubplot:title={'center':'Nb of sec with 1250B < Vol UL < 6250B'}>,\n",
       "        <AxesSubplot:title={'center':'Nb of sec with 31250B < Vol DL < 125000B'}>],\n",
       "       [<AxesSubplot:title={'center':'Nb of sec with 37500B < Vol UL'}>,\n",
       "        <AxesSubplot:title={'center':'Nb of sec with 6250B < Vol DL < 31250B'}>,\n",
       "        <AxesSubplot:title={'center':'Nb of sec with 6250B < Vol UL < 37500B'}>,\n",
       "        <AxesSubplot:title={'center':'Nb of sec with Vol DL < 6250B'}>,\n",
       "        <AxesSubplot:title={'center':'Nb of sec with Vol UL < 1250B'}>,\n",
       "        <AxesSubplot:title={'center':'Social Media DL (Bytes)'}>,\n",
       "        <AxesSubplot:title={'center':'Social Media UL (Bytes)'}>],\n",
       "       [<AxesSubplot:title={'center':'Google DL (Bytes)'}>,\n",
       "        <AxesSubplot:title={'center':'Google UL (Bytes)'}>,\n",
       "        <AxesSubplot:title={'center':'Email DL (Bytes)'}>,\n",
       "        <AxesSubplot:title={'center':'Email UL (Bytes)'}>,\n",
       "        <AxesSubplot:title={'center':'Youtube DL (Bytes)'}>,\n",
       "        <AxesSubplot:title={'center':'Youtube UL (Bytes)'}>,\n",
       "        <AxesSubplot:title={'center':'Netflix DL (Bytes)'}>],\n",
       "       [<AxesSubplot:title={'center':'Netflix UL (Bytes)'}>,\n",
       "        <AxesSubplot:title={'center':'Gaming DL (Bytes)'}>,\n",
       "        <AxesSubplot:title={'center':'Gaming UL (Bytes)'}>,\n",
       "        <AxesSubplot:title={'center':'Other DL (Bytes)'}>,\n",
       "        <AxesSubplot:title={'center':'Other UL (Bytes)'}>,\n",
       "        <AxesSubplot:title={'center':'Total UL (Bytes)'}>,\n",
       "        <AxesSubplot:title={'center':'Total DL (Bytes)'}>]], dtype=object)"
      ]
     },
     "execution_count": 113,
     "metadata": {},
     "output_type": "execute_result"
    },
    {
     "data": {
      "image/png": "[encoded data removed]",
      "text/plain": [
       "<Figure size 1440x1440 with 49 Axes>"
      ]
     },
     "metadata": {
      "needs_background": "light"
     },
     "output_type": "display_data"
    }
   ],
   "source": [
    "df.hist(figsize=(20,20), xrot=-45)"
   ]
  },
  {
   "cell_type": "code",
   "execution_count": null,
   "id": "ac42aab1",
   "metadata": {},
   "outputs": [
    {
     "data": {
      "application/vnd.jupyter.widget-view+json": {
       "model_id": "b91ba860cf0c4c0ba47fad15e7c0fdc0",
       "version_major": 2,
       "version_minor": 0
      },
      "text/plain": [
       "Summarize dataset:   0%|          | 0/5 [00:00<?, ?it/s]"
      ]
     },
     "metadata": {},
     "output_type": "display_data"
    }
   ],
   "source": [
    "report = ProfileReport(report_df)\n",
    "report"
   ]
  },
  {
   "cell_type": "code",
   "execution_count": 179,
   "id": "546f54a7",
   "metadata": {},
   "outputs": [
    {
     "data": {
      "text/html": [
       "<div>\n",
       "<style scoped>\n",
       "    .dataframe tbody tr th:only-of-type {\n",
       "        vertical-align: middle;\n",
       "    }\n",
       "\n",
       "    .dataframe tbody tr th {\n",
       "        vertical-align: top;\n",
       "    }\n",
       "\n",
       "    .dataframe thead th {\n",
       "        text-align: right;\n",
       "    }\n",
       "</style>\n",
       "<table border=\"1\" class=\"dataframe\">\n",
       "  <thead>\n",
       "    <tr style=\"text-align: right;\">\n",
       "      <th></th>\n",
       "      <th>PCA</th>\n",
       "      <th>Variable Names</th>\n",
       "    </tr>\n",
       "  </thead>\n",
       "  <tbody>\n",
       "    <tr>\n",
       "      <th>34</th>\n",
       "      <td>0.423822</td>\n",
       "      <td>Social Media UL (Bytes)</td>\n",
       "    </tr>\n",
       "    <tr>\n",
       "      <th>33</th>\n",
       "      <td>0.271336</td>\n",
       "      <td>Social Media DL (Bytes)</td>\n",
       "    </tr>\n",
       "    <tr>\n",
       "      <th>35</th>\n",
       "      <td>0.238501</td>\n",
       "      <td>Google DL (Bytes)</td>\n",
       "    </tr>\n",
       "    <tr>\n",
       "      <th>45</th>\n",
       "      <td>0.203970</td>\n",
       "      <td>Other DL (Bytes)</td>\n",
       "    </tr>\n",
       "  </tbody>\n",
       "</table>\n",
       "</div>"
      ],
      "text/plain": [
       "         PCA           Variable Names\n",
       "34  0.423822  Social Media UL (Bytes)\n",
       "33  0.271336  Social Media DL (Bytes)\n",
       "35  0.238501        Google DL (Bytes)\n",
       "45  0.203970         Other DL (Bytes)"
      ]
     },
     "execution_count": 179,
     "metadata": {},
     "output_type": "execute_result"
    }
   ],
   "source": [
    "df.head(4)"
   ]
  },
  {
   "cell_type": "code",
   "execution_count": null,
   "id": "f3f70d01",
   "metadata": {},
   "outputs": [],
   "source": [
    "report.to_file(\"report.html\")"
   ]
  },
  {
   "cell_type": "code",
   "execution_count": 8,
   "id": "cb6b798d",
   "metadata": {},
   "outputs": [],
   "source": [
    "## scaling and normalizing of the dataset"
   ]
  },
  {
   "cell_type": "code",
   "execution_count": 182,
   "id": "669b2a24",
   "metadata": {},
   "outputs": [],
   "source": [
    "numerical_features = df.select_dtypes(include='number').columns.tolist()"
   ]
  },
  {
   "cell_type": "code",
   "execution_count": 183,
   "id": "b867c80f",
   "metadata": {},
   "outputs": [],
   "source": [
    "categorical_features = df.select_dtypes(exclude='number').columns.to_list()"
   ]
  },
  {
   "cell_type": "code",
   "execution_count": 192,
   "id": "c3f671d0",
   "metadata": {},
   "outputs": [],
   "source": [
    "numeric_pipeline = Pipeline(steps=[\n",
    "    ('impute', SimpleImputer(strategy='mean')),\n",
    "    ('scale', MinMaxScaler())\n",
    "])\n",
    "\n",
    "categorical_pipeline = Pipeline(steps=[\n",
    "    ('impute', SimpleImputer(strategy='most_frequent')),\n",
    "    ('one-hot', OneHotEncoder(handle_unknown='ignore', sparse=False))\n",
    "])"
   ]
  },
  {
   "cell_type": "code",
   "execution_count": 17,
   "id": "1ccf6a7a",
   "metadata": {},
   "outputs": [],
   "source": [
    "preprocessed_data = ColumnTransformer(transformers=[\n",
    "    ('number', numeric_pipeline, numerical_features),\n",
    "    ('category', categorical_pipeline, categorical_features)\n",
    "])"
   ]
  },
  {
   "cell_type": "code",
   "execution_count": 209,
   "id": "e7419b7f",
   "metadata": {},
   "outputs": [],
   "source": [
    "numerical_transforms = numeric_pipeline.fit_transform(df.select_dtypes(include='number'))"
   ]
  },
  {
   "cell_type": "code",
   "execution_count": 210,
   "id": "cedad141",
   "metadata": {},
   "outputs": [
    {
     "data": {
      "text/plain": [
       "['Start ms',\n",
       " 'End ms',\n",
       " 'Dur. (ms)',\n",
       " 'IMSI',\n",
       " 'MSISDN/Number',\n",
       " 'IMEI',\n",
       " 'Avg RTT DL (ms)',\n",
       " 'Avg RTT UL (ms)',\n",
       " 'Avg Bearer TP DL (kbps)',\n",
       " 'Avg Bearer TP UL (kbps)',\n",
       " 'TCP DL Retrans. Vol (Bytes)',\n",
       " 'TCP UL Retrans. Vol (Bytes)',\n",
       " 'DL TP < 50 Kbps (%)',\n",
       " '50 Kbps < DL TP < 250 Kbps (%)',\n",
       " '250 Kbps < DL TP < 1 Mbps (%)',\n",
       " 'DL TP > 1 Mbps (%)',\n",
       " 'UL TP < 10 Kbps (%)',\n",
       " '10 Kbps < UL TP < 50 Kbps (%)',\n",
       " '50 Kbps < UL TP < 300 Kbps (%)',\n",
       " 'UL TP > 300 Kbps (%)',\n",
       " 'HTTP DL (Bytes)',\n",
       " 'HTTP UL (Bytes)',\n",
       " 'Activity Duration DL (ms)',\n",
       " 'Activity Duration UL (ms)',\n",
       " 'Dur. (ms).1',\n",
       " 'Nb of sec with 125000B < Vol DL',\n",
       " 'Nb of sec with 1250B < Vol UL < 6250B',\n",
       " 'Nb of sec with 31250B < Vol DL < 125000B',\n",
       " 'Nb of sec with 37500B < Vol UL',\n",
       " 'Nb of sec with 6250B < Vol DL < 31250B',\n",
       " 'Nb of sec with 6250B < Vol UL < 37500B',\n",
       " 'Nb of sec with Vol DL < 6250B',\n",
       " 'Nb of sec with Vol UL < 1250B',\n",
       " 'Social Media DL (Bytes)',\n",
       " 'Social Media UL (Bytes)',\n",
       " 'Google DL (Bytes)',\n",
       " 'Google UL (Bytes)',\n",
       " 'Email DL (Bytes)',\n",
       " 'Email UL (Bytes)',\n",
       " 'Youtube DL (Bytes)',\n",
       " 'Youtube UL (Bytes)',\n",
       " 'Netflix DL (Bytes)',\n",
       " 'Netflix UL (Bytes)',\n",
       " 'Gaming DL (Bytes)',\n",
       " 'Gaming UL (Bytes)',\n",
       " 'Other DL (Bytes)',\n",
       " 'Other UL (Bytes)',\n",
       " 'Total UL (Bytes)',\n",
       " 'Total DL (Bytes)']"
      ]
     },
     "execution_count": 210,
     "metadata": {},
     "output_type": "execute_result"
    }
   ],
   "source": [
    "numerical_features"
   ]
  },
  {
   "cell_type": "code",
   "execution_count": 199,
   "id": "31dcbec9",
   "metadata": {},
   "outputs": [
    {
     "data": {
      "text/plain": [
       "['Bearer Id',\n",
       " 'Start',\n",
       " 'End',\n",
       " 'Last Location Name',\n",
       " 'Handset Manufacturer',\n",
       " 'Handset Type']"
      ]
     },
     "execution_count": 199,
     "metadata": {},
     "output_type": "execute_result"
    }
   ],
   "source": [
    "categorical_features"
   ]
  },
  {
   "cell_type": "code",
   "execution_count": 217,
   "id": "6409feaf",
   "metadata": {},
   "outputs": [
    {
     "data": {
      "text/html": [
       "<div>\n",
       "<style scoped>\n",
       "    .dataframe tbody tr th:only-of-type {\n",
       "        vertical-align: middle;\n",
       "    }\n",
       "\n",
       "    .dataframe tbody tr th {\n",
       "        vertical-align: top;\n",
       "    }\n",
       "\n",
       "    .dataframe thead th {\n",
       "        text-align: right;\n",
       "    }\n",
       "</style>\n",
       "<table border=\"1\" class=\"dataframe\">\n",
       "  <thead>\n",
       "    <tr style=\"text-align: right;\">\n",
       "      <th></th>\n",
       "      <th>Bearer Id</th>\n",
       "      <th>Last Location Name</th>\n",
       "      <th>Handset Manufacturer</th>\n",
       "      <th>Handset Type</th>\n",
       "    </tr>\n",
       "  </thead>\n",
       "  <tbody>\n",
       "    <tr>\n",
       "      <th>0</th>\n",
       "      <td>13114483460844900352</td>\n",
       "      <td>9164566995485190</td>\n",
       "      <td>Samsung</td>\n",
       "      <td>Samsung Galaxy A5 Sm-A520F</td>\n",
       "    </tr>\n",
       "    <tr>\n",
       "      <th>1</th>\n",
       "      <td>13114483482878900224</td>\n",
       "      <td>L77566A</td>\n",
       "      <td>Samsung</td>\n",
       "      <td>Samsung Galaxy J5 (Sm-J530)</td>\n",
       "    </tr>\n",
       "    <tr>\n",
       "      <th>2</th>\n",
       "      <td>13114483484080500736</td>\n",
       "      <td>D42335A</td>\n",
       "      <td>Samsung</td>\n",
       "      <td>Samsung Galaxy A8 (2018)</td>\n",
       "    </tr>\n",
       "    <tr>\n",
       "      <th>3</th>\n",
       "      <td>13114483485442799616</td>\n",
       "      <td>T21824A</td>\n",
       "      <td>undefined</td>\n",
       "      <td>undefined</td>\n",
       "    </tr>\n",
       "    <tr>\n",
       "      <th>4</th>\n",
       "      <td>13114483499480700928</td>\n",
       "      <td>D88865A</td>\n",
       "      <td>Samsung</td>\n",
       "      <td>Samsung Sm-G390F</td>\n",
       "    </tr>\n",
       "    <tr>\n",
       "      <th>...</th>\n",
       "      <td>...</td>\n",
       "      <td>...</td>\n",
       "      <td>...</td>\n",
       "      <td>...</td>\n",
       "    </tr>\n",
       "    <tr>\n",
       "      <th>149996</th>\n",
       "      <td>7277825670196679680</td>\n",
       "      <td>D20434A</td>\n",
       "      <td>Apple</td>\n",
       "      <td>Apple iPhone 8 Plus (A1897)</td>\n",
       "    </tr>\n",
       "    <tr>\n",
       "      <th>149997</th>\n",
       "      <td>7349883264234609664</td>\n",
       "      <td>D10223C</td>\n",
       "      <td>Apple</td>\n",
       "      <td>Apple iPhone Se (A1723)</td>\n",
       "    </tr>\n",
       "    <tr>\n",
       "      <th>149998</th>\n",
       "      <td>13114483573367300096</td>\n",
       "      <td>T51102A</td>\n",
       "      <td>Apple</td>\n",
       "      <td>Apple iPhone Xs (A2097)</td>\n",
       "    </tr>\n",
       "    <tr>\n",
       "      <th>149999</th>\n",
       "      <td>13114483573367300096</td>\n",
       "      <td>L88342B</td>\n",
       "      <td>Huawei</td>\n",
       "      <td>Huawei Fig-Lx1</td>\n",
       "    </tr>\n",
       "    <tr>\n",
       "      <th>150000</th>\n",
       "      <td></td>\n",
       "      <td>nan</td>\n",
       "      <td>nan</td>\n",
       "      <td>nan</td>\n",
       "    </tr>\n",
       "  </tbody>\n",
       "</table>\n",
       "<p>150001 rows × 4 columns</p>\n",
       "</div>"
      ],
      "text/plain": [
       "                   Bearer Id Last Location Name Handset Manufacturer  \\\n",
       "0       13114483460844900352   9164566995485190              Samsung   \n",
       "1       13114483482878900224            L77566A              Samsung   \n",
       "2       13114483484080500736            D42335A              Samsung   \n",
       "3       13114483485442799616            T21824A            undefined   \n",
       "4       13114483499480700928            D88865A              Samsung   \n",
       "...                      ...                ...                  ...   \n",
       "149996   7277825670196679680            D20434A                Apple   \n",
       "149997   7349883264234609664            D10223C                Apple   \n",
       "149998  13114483573367300096            T51102A                Apple   \n",
       "149999  13114483573367300096            L88342B               Huawei   \n",
       "150000                                      nan                  nan   \n",
       "\n",
       "                       Handset Type  \n",
       "0        Samsung Galaxy A5 Sm-A520F  \n",
       "1       Samsung Galaxy J5 (Sm-J530)  \n",
       "2          Samsung Galaxy A8 (2018)  \n",
       "3                         undefined  \n",
       "4                  Samsung Sm-G390F  \n",
       "...                             ...  \n",
       "149996  Apple iPhone 8 Plus (A1897)  \n",
       "149997      Apple iPhone Se (A1723)  \n",
       "149998      Apple iPhone Xs (A2097)  \n",
       "149999               Huawei Fig-Lx1  \n",
       "150000                          nan  \n",
       "\n",
       "[150001 rows x 4 columns]"
      ]
     },
     "execution_count": 217,
     "metadata": {},
     "output_type": "execute_result"
    }
   ],
   "source": [
    "df.select_dtypes(include=['object']).astype(str)"
   ]
  },
  {
   "cell_type": "code",
   "execution_count": 226,
   "id": "d2fb0c7b",
   "metadata": {},
   "outputs": [
    {
     "ename": "MemoryError",
     "evalue": "Unable to allocate 70.4 GiB for an array with shape (150001, 63007) and data type float64",
     "output_type": "error",
     "traceback": [
      "\u001b[0;31m---------------------------------------------------------------------------\u001b[0m",
      "\u001b[0;31mMemoryError\u001b[0m                               Traceback (most recent call last)",
      "Input \u001b[0;32mIn [226]\u001b[0m, in \u001b[0;36m<cell line: 1>\u001b[0;34m()\u001b[0m\n\u001b[0;32m----> 1\u001b[0m categorical_transforms \u001b[38;5;241m=\u001b[39m \u001b[43mcategorical_pipeline\u001b[49m\u001b[38;5;241;43m.\u001b[39;49m\u001b[43mfit_transform\u001b[49m\u001b[43m(\u001b[49m\u001b[43mdf\u001b[49m\u001b[38;5;241;43m.\u001b[39;49m\u001b[43mselect_dtypes\u001b[49m\u001b[43m(\u001b[49m\u001b[43minclude\u001b[49m\u001b[38;5;241;43m=\u001b[39;49m\u001b[43m[\u001b[49m\u001b[38;5;124;43m'\u001b[39;49m\u001b[38;5;124;43mobject\u001b[39;49m\u001b[38;5;124;43m'\u001b[39;49m\u001b[43m]\u001b[49m\u001b[43m)\u001b[49m\u001b[38;5;241;43m.\u001b[39;49m\u001b[43mastype\u001b[49m\u001b[43m(\u001b[49m\u001b[38;5;28;43mstr\u001b[39;49m\u001b[43m)\u001b[49m\u001b[43m)\u001b[49m\n",
      "File \u001b[0;32m~/Documents/TelComChallenge/env/lib/python3.8/site-packages/sklearn/pipeline.py:387\u001b[0m, in \u001b[0;36mPipeline.fit_transform\u001b[0;34m(self, X, y, **fit_params)\u001b[0m\n\u001b[1;32m    385\u001b[0m fit_params_last_step \u001b[38;5;241m=\u001b[39m fit_params_steps[\u001b[38;5;28mself\u001b[39m\u001b[38;5;241m.\u001b[39msteps[\u001b[38;5;241m-\u001b[39m\u001b[38;5;241m1\u001b[39m][\u001b[38;5;241m0\u001b[39m]]\n\u001b[1;32m    386\u001b[0m \u001b[38;5;28;01mif\u001b[39;00m \u001b[38;5;28mhasattr\u001b[39m(last_step, \u001b[38;5;124m'\u001b[39m\u001b[38;5;124mfit_transform\u001b[39m\u001b[38;5;124m'\u001b[39m):\n\u001b[0;32m--> 387\u001b[0m     \u001b[38;5;28;01mreturn\u001b[39;00m \u001b[43mlast_step\u001b[49m\u001b[38;5;241;43m.\u001b[39;49m\u001b[43mfit_transform\u001b[49m\u001b[43m(\u001b[49m\u001b[43mXt\u001b[49m\u001b[43m,\u001b[49m\u001b[43m \u001b[49m\u001b[43my\u001b[49m\u001b[43m,\u001b[49m\u001b[43m \u001b[49m\u001b[38;5;241;43m*\u001b[39;49m\u001b[38;5;241;43m*\u001b[39;49m\u001b[43mfit_params_last_step\u001b[49m\u001b[43m)\u001b[49m\n\u001b[1;32m    388\u001b[0m \u001b[38;5;28;01melse\u001b[39;00m:\n\u001b[1;32m    389\u001b[0m     \u001b[38;5;28;01mreturn\u001b[39;00m last_step\u001b[38;5;241m.\u001b[39mfit(Xt, y,\n\u001b[1;32m    390\u001b[0m                          \u001b[38;5;241m*\u001b[39m\u001b[38;5;241m*\u001b[39mfit_params_last_step)\u001b[38;5;241m.\u001b[39mtransform(Xt)\n",
      "File \u001b[0;32m~/Documents/TelComChallenge/env/lib/python3.8/site-packages/sklearn/preprocessing/_encoders.py:443\u001b[0m, in \u001b[0;36mOneHotEncoder.fit_transform\u001b[0;34m(self, X, y)\u001b[0m\n\u001b[1;32m    423\u001b[0m \u001b[38;5;124;03m\"\"\"\u001b[39;00m\n\u001b[1;32m    424\u001b[0m \u001b[38;5;124;03mFit OneHotEncoder to X, then transform X.\u001b[39;00m\n\u001b[1;32m    425\u001b[0m \n\u001b[0;32m   (...)\u001b[0m\n\u001b[1;32m    440\u001b[0m \u001b[38;5;124;03m    Transformed input.\u001b[39;00m\n\u001b[1;32m    441\u001b[0m \u001b[38;5;124;03m\"\"\"\u001b[39;00m\n\u001b[1;32m    442\u001b[0m \u001b[38;5;28mself\u001b[39m\u001b[38;5;241m.\u001b[39m_validate_keywords()\n\u001b[0;32m--> 443\u001b[0m \u001b[38;5;28;01mreturn\u001b[39;00m \u001b[38;5;28;43msuper\u001b[39;49m\u001b[43m(\u001b[49m\u001b[43m)\u001b[49m\u001b[38;5;241;43m.\u001b[39;49m\u001b[43mfit_transform\u001b[49m\u001b[43m(\u001b[49m\u001b[43mX\u001b[49m\u001b[43m,\u001b[49m\u001b[43m \u001b[49m\u001b[43my\u001b[49m\u001b[43m)\u001b[49m\n",
      "File \u001b[0;32m~/Documents/TelComChallenge/env/lib/python3.8/site-packages/sklearn/base.py:699\u001b[0m, in \u001b[0;36mTransformerMixin.fit_transform\u001b[0;34m(self, X, y, **fit_params)\u001b[0m\n\u001b[1;32m    695\u001b[0m \u001b[38;5;66;03m# non-optimized default implementation; override when a better\u001b[39;00m\n\u001b[1;32m    696\u001b[0m \u001b[38;5;66;03m# method is possible for a given clustering algorithm\u001b[39;00m\n\u001b[1;32m    697\u001b[0m \u001b[38;5;28;01mif\u001b[39;00m y \u001b[38;5;129;01mis\u001b[39;00m \u001b[38;5;28;01mNone\u001b[39;00m:\n\u001b[1;32m    698\u001b[0m     \u001b[38;5;66;03m# fit method of arity 1 (unsupervised transformation)\u001b[39;00m\n\u001b[0;32m--> 699\u001b[0m     \u001b[38;5;28;01mreturn\u001b[39;00m \u001b[38;5;28;43mself\u001b[39;49m\u001b[38;5;241;43m.\u001b[39;49m\u001b[43mfit\u001b[49m\u001b[43m(\u001b[49m\u001b[43mX\u001b[49m\u001b[43m,\u001b[49m\u001b[43m \u001b[49m\u001b[38;5;241;43m*\u001b[39;49m\u001b[38;5;241;43m*\u001b[39;49m\u001b[43mfit_params\u001b[49m\u001b[43m)\u001b[49m\u001b[38;5;241;43m.\u001b[39;49m\u001b[43mtransform\u001b[49m\u001b[43m(\u001b[49m\u001b[43mX\u001b[49m\u001b[43m)\u001b[49m\n\u001b[1;32m    700\u001b[0m \u001b[38;5;28;01melse\u001b[39;00m:\n\u001b[1;32m    701\u001b[0m     \u001b[38;5;66;03m# fit method of arity 2 (supervised transformation)\u001b[39;00m\n\u001b[1;32m    702\u001b[0m     \u001b[38;5;28;01mreturn\u001b[39;00m \u001b[38;5;28mself\u001b[39m\u001b[38;5;241m.\u001b[39mfit(X, y, \u001b[38;5;241m*\u001b[39m\u001b[38;5;241m*\u001b[39mfit_params)\u001b[38;5;241m.\u001b[39mtransform(X)\n",
      "File \u001b[0;32m~/Documents/TelComChallenge/env/lib/python3.8/site-packages/sklearn/preprocessing/_encoders.py:503\u001b[0m, in \u001b[0;36mOneHotEncoder.transform\u001b[0;34m(self, X)\u001b[0m\n\u001b[1;32m    499\u001b[0m out \u001b[38;5;241m=\u001b[39m sparse\u001b[38;5;241m.\u001b[39mcsr_matrix((data, indices, indptr),\n\u001b[1;32m    500\u001b[0m                         shape\u001b[38;5;241m=\u001b[39m(n_samples, feature_indices[\u001b[38;5;241m-\u001b[39m\u001b[38;5;241m1\u001b[39m]),\n\u001b[1;32m    501\u001b[0m                         dtype\u001b[38;5;241m=\u001b[39m\u001b[38;5;28mself\u001b[39m\u001b[38;5;241m.\u001b[39mdtype)\n\u001b[1;32m    502\u001b[0m \u001b[38;5;28;01mif\u001b[39;00m \u001b[38;5;129;01mnot\u001b[39;00m \u001b[38;5;28mself\u001b[39m\u001b[38;5;241m.\u001b[39msparse:\n\u001b[0;32m--> 503\u001b[0m     \u001b[38;5;28;01mreturn\u001b[39;00m \u001b[43mout\u001b[49m\u001b[38;5;241;43m.\u001b[39;49m\u001b[43mtoarray\u001b[49m\u001b[43m(\u001b[49m\u001b[43m)\u001b[49m\n\u001b[1;32m    504\u001b[0m \u001b[38;5;28;01melse\u001b[39;00m:\n\u001b[1;32m    505\u001b[0m     \u001b[38;5;28;01mreturn\u001b[39;00m out\n",
      "File \u001b[0;32m~/Documents/TelComChallenge/env/lib/python3.8/site-packages/scipy/sparse/_compressed.py:1051\u001b[0m, in \u001b[0;36m_cs_matrix.toarray\u001b[0;34m(self, order, out)\u001b[0m\n\u001b[1;32m   1049\u001b[0m \u001b[38;5;28;01mif\u001b[39;00m out \u001b[38;5;129;01mis\u001b[39;00m \u001b[38;5;28;01mNone\u001b[39;00m \u001b[38;5;129;01mand\u001b[39;00m order \u001b[38;5;129;01mis\u001b[39;00m \u001b[38;5;28;01mNone\u001b[39;00m:\n\u001b[1;32m   1050\u001b[0m     order \u001b[38;5;241m=\u001b[39m \u001b[38;5;28mself\u001b[39m\u001b[38;5;241m.\u001b[39m_swap(\u001b[38;5;124m'\u001b[39m\u001b[38;5;124mcf\u001b[39m\u001b[38;5;124m'\u001b[39m)[\u001b[38;5;241m0\u001b[39m]\n\u001b[0;32m-> 1051\u001b[0m out \u001b[38;5;241m=\u001b[39m \u001b[38;5;28;43mself\u001b[39;49m\u001b[38;5;241;43m.\u001b[39;49m\u001b[43m_process_toarray_args\u001b[49m\u001b[43m(\u001b[49m\u001b[43morder\u001b[49m\u001b[43m,\u001b[49m\u001b[43m \u001b[49m\u001b[43mout\u001b[49m\u001b[43m)\u001b[49m\n\u001b[1;32m   1052\u001b[0m \u001b[38;5;28;01mif\u001b[39;00m \u001b[38;5;129;01mnot\u001b[39;00m (out\u001b[38;5;241m.\u001b[39mflags\u001b[38;5;241m.\u001b[39mc_contiguous \u001b[38;5;129;01mor\u001b[39;00m out\u001b[38;5;241m.\u001b[39mflags\u001b[38;5;241m.\u001b[39mf_contiguous):\n\u001b[1;32m   1053\u001b[0m     \u001b[38;5;28;01mraise\u001b[39;00m \u001b[38;5;167;01mValueError\u001b[39;00m(\u001b[38;5;124m'\u001b[39m\u001b[38;5;124mOutput array must be C or F contiguous\u001b[39m\u001b[38;5;124m'\u001b[39m)\n",
      "File \u001b[0;32m~/Documents/TelComChallenge/env/lib/python3.8/site-packages/scipy/sparse/_base.py:1288\u001b[0m, in \u001b[0;36mspmatrix._process_toarray_args\u001b[0;34m(self, order, out)\u001b[0m\n\u001b[1;32m   1286\u001b[0m     \u001b[38;5;28;01mreturn\u001b[39;00m out\n\u001b[1;32m   1287\u001b[0m \u001b[38;5;28;01melse\u001b[39;00m:\n\u001b[0;32m-> 1288\u001b[0m     \u001b[38;5;28;01mreturn\u001b[39;00m \u001b[43mnp\u001b[49m\u001b[38;5;241;43m.\u001b[39;49m\u001b[43mzeros\u001b[49m\u001b[43m(\u001b[49m\u001b[38;5;28;43mself\u001b[39;49m\u001b[38;5;241;43m.\u001b[39;49m\u001b[43mshape\u001b[49m\u001b[43m,\u001b[49m\u001b[43m \u001b[49m\u001b[43mdtype\u001b[49m\u001b[38;5;241;43m=\u001b[39;49m\u001b[38;5;28;43mself\u001b[39;49m\u001b[38;5;241;43m.\u001b[39;49m\u001b[43mdtype\u001b[49m\u001b[43m,\u001b[49m\u001b[43m \u001b[49m\u001b[43morder\u001b[49m\u001b[38;5;241;43m=\u001b[39;49m\u001b[43morder\u001b[49m\u001b[43m)\u001b[49m\n",
      "\u001b[0;31mMemoryError\u001b[0m: Unable to allocate 70.4 GiB for an array with shape (150001, 63007) and data type float64"
     ]
    }
   ],
   "source": [
    "categorical_transforms = categorical_pipeline.fit_transform(df.select_dtypes(include=['object']).astype(str))"
   ]
  },
  {
   "cell_type": "code",
   "execution_count": 20,
   "id": "df1ce23e",
   "metadata": {},
   "outputs": [
    {
     "data": {
      "text/plain": [
       "array([[0.98850572, 0.77077077, 0.66266266, ..., 0.53230399, 0.44899105,\n",
       "        0.33684625],\n",
       "       [0.98850572, 0.23523524, 0.60660661, ..., 0.90919131, 0.67493396,\n",
       "        0.72140079],\n",
       "       [0.98850572, 0.001001  , 0.65265265, ..., 0.2545866 , 0.33150386,\n",
       "        0.30439426],\n",
       "       ...,\n",
       "       [0.98850573, 0.28328328, 0.81081081, ..., 0.68330261, 0.4246416 ,\n",
       "        0.65375757],\n",
       "       [0.98850573, 0.6966967 , 0.32732733, ..., 0.08495744, 0.35459365,\n",
       "        0.40718827],\n",
       "       [0.51385153, 0.49968789, 0.49930018, ..., 0.4991133 , 0.50691856,\n",
       "        0.49955529]])"
      ]
     },
     "execution_count": 20,
     "metadata": {},
     "output_type": "execute_result"
    }
   ],
   "source": [
    "numerical_transforms"
   ]
  },
  {
   "cell_type": "code",
   "execution_count": null,
   "id": "2cbaadb2",
   "metadata": {},
   "outputs": [],
   "source": [
    "preped_data"
   ]
  },
  {
   "cell_type": "code",
   "execution_count": null,
   "id": "16afcec3",
   "metadata": {},
   "outputs": [],
   "source": []
  }
 ],
 "metadata": {
  "kernelspec": {
   "display_name": "Python 3 (ipykernel)",
   "language": "python",
   "name": "python3"
  },
  "language_info": {
   "codemirror_mode": {
    "name": "ipython",
    "version": 3
   },
   "file_extension": ".py",
   "mimetype": "text/x-python",
   "name": "python",
   "nbconvert_exporter": "python",
   "pygments_lexer": "ipython3",
   "version": "3.8.10"
  }
 },
 "nbformat": 4,
 "nbformat_minor": 5
}
