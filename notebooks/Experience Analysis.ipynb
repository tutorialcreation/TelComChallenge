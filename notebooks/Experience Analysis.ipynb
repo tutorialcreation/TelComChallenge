{
 "cells": [
  {
   "cell_type": "code",
   "execution_count": 1,
   "id": "5912fb79",
   "metadata": {},
   "outputs": [],
   "source": [
    "import warnings\n",
    "from xml.etree.ElementInclude import include\n",
    "warnings.filterwarnings('ignore')\n",
    "import matplotlib.pyplot as plt\n",
    "import pandas as pd\n",
    "from functools import reduce\n",
    "from sklearn.impute import SimpleImputer\n",
    "from sklearn.decomposition import PCA\n",
    "from sklearn.preprocessing import OneHotEncoder, MinMaxScaler\n",
    "from sklearn.pipeline import Pipeline\n",
    "from sklearn.model_selection import train_test_split\n",
    "from statistics import mean\n",
    "import numpy as np\n",
    "import statsmodels.api as sm\n",
    "\n",
    "\n",
    "import matplotlib\n",
    "plt.style.use('ggplot')\n",
    "\n",
    "matplotlib.rcParams['figure.figsize'] = (12,8)\n",
    "\n",
    "pd.options.mode.chained_assignment = None\n",
    "\n",
    "import seaborn as sns\n"
   ]
  },
  {
   "cell_type": "code",
   "execution_count": 2,
   "id": "c784cf9a",
   "metadata": {},
   "outputs": [],
   "source": [
    "df = pd.read_csv(\"../data/telcom.csv\")"
   ]
  },
  {
   "cell_type": "code",
   "execution_count": 3,
   "id": "b4b61cb3",
   "metadata": {},
   "outputs": [
    {
     "data": {
      "text/plain": [
       "Index(['Bearer Id', 'Start', 'Start ms', 'End', 'End ms', 'Dur. (ms)', 'IMSI',\n",
       "       'MSISDN/Number', 'IMEI', 'Last Location Name', 'Avg RTT DL (ms)',\n",
       "       'Avg RTT UL (ms)', 'Avg Bearer TP DL (kbps)', 'Avg Bearer TP UL (kbps)',\n",
       "       'TCP DL Retrans. Vol (Bytes)', 'TCP UL Retrans. Vol (Bytes)',\n",
       "       'DL TP < 50 Kbps (%)', '50 Kbps < DL TP < 250 Kbps (%)',\n",
       "       '250 Kbps < DL TP < 1 Mbps (%)', 'DL TP > 1 Mbps (%)',\n",
       "       'UL TP < 10 Kbps (%)', '10 Kbps < UL TP < 50 Kbps (%)',\n",
       "       '50 Kbps < UL TP < 300 Kbps (%)', 'UL TP > 300 Kbps (%)',\n",
       "       'HTTP DL (Bytes)', 'HTTP UL (Bytes)', 'Activity Duration DL (ms)',\n",
       "       'Activity Duration UL (ms)', 'Dur. (ms).1', 'Handset Manufacturer',\n",
       "       'Handset Type', 'Nb of sec with 125000B < Vol DL',\n",
       "       'Nb of sec with 1250B < Vol UL < 6250B',\n",
       "       'Nb of sec with 31250B < Vol DL < 125000B',\n",
       "       'Nb of sec with 37500B < Vol UL',\n",
       "       'Nb of sec with 6250B < Vol DL < 31250B',\n",
       "       'Nb of sec with 6250B < Vol UL < 37500B',\n",
       "       'Nb of sec with Vol DL < 6250B', 'Nb of sec with Vol UL < 1250B',\n",
       "       'Social Media DL (Bytes)', 'Social Media UL (Bytes)',\n",
       "       'Google DL (Bytes)', 'Google UL (Bytes)', 'Email DL (Bytes)',\n",
       "       'Email UL (Bytes)', 'Youtube DL (Bytes)', 'Youtube UL (Bytes)',\n",
       "       'Netflix DL (Bytes)', 'Netflix UL (Bytes)', 'Gaming DL (Bytes)',\n",
       "       'Gaming UL (Bytes)', 'Other DL (Bytes)', 'Other UL (Bytes)',\n",
       "       'Total UL (Bytes)', 'Total DL (Bytes)'],\n",
       "      dtype='object')"
      ]
     },
     "execution_count": 3,
     "metadata": {},
     "output_type": "execute_result"
    }
   ],
   "source": [
    "df.columns"
   ]
  },
  {
   "cell_type": "code",
   "execution_count": 6,
   "id": "297051c1",
   "metadata": {},
   "outputs": [
    {
     "data": {
      "text/html": [
       "<div>\n",
       "<style scoped>\n",
       "    .dataframe tbody tr th:only-of-type {\n",
       "        vertical-align: middle;\n",
       "    }\n",
       "\n",
       "    .dataframe tbody tr th {\n",
       "        vertical-align: top;\n",
       "    }\n",
       "\n",
       "    .dataframe thead th {\n",
       "        text-align: right;\n",
       "    }\n",
       "</style>\n",
       "<table border=\"1\" class=\"dataframe\">\n",
       "  <thead>\n",
       "    <tr style=\"text-align: right;\">\n",
       "      <th></th>\n",
       "      <th>customer</th>\n",
       "      <th>sessions_frequency</th>\n",
       "      <th>duration</th>\n",
       "      <th>handset</th>\n",
       "      <th>rtt</th>\n",
       "      <th>tp</th>\n",
       "      <th>tcp</th>\n",
       "    </tr>\n",
       "  </thead>\n",
       "  <tbody>\n",
       "    <tr>\n",
       "      <th>0</th>\n",
       "      <td>3.366496e+10</td>\n",
       "      <td>1.311450e+19</td>\n",
       "      <td>1823652.0</td>\n",
       "      <td>Samsung Galaxy A5 Sm-A520F</td>\n",
       "      <td>47.0</td>\n",
       "      <td>67.0</td>\n",
       "      <td>NaN</td>\n",
       "    </tr>\n",
       "    <tr>\n",
       "      <th>1</th>\n",
       "      <td>3.368185e+10</td>\n",
       "      <td>1.311450e+19</td>\n",
       "      <td>1365104.0</td>\n",
       "      <td>Samsung Galaxy J5 (Sm-J530)</td>\n",
       "      <td>70.0</td>\n",
       "      <td>42.0</td>\n",
       "      <td>NaN</td>\n",
       "    </tr>\n",
       "    <tr>\n",
       "      <th>2</th>\n",
       "      <td>3.376063e+10</td>\n",
       "      <td>1.311450e+19</td>\n",
       "      <td>1361762.0</td>\n",
       "      <td>Samsung Galaxy A8 (2018)</td>\n",
       "      <td>NaN</td>\n",
       "      <td>15.0</td>\n",
       "      <td>NaN</td>\n",
       "    </tr>\n",
       "    <tr>\n",
       "      <th>3</th>\n",
       "      <td>3.375034e+10</td>\n",
       "      <td>1.311450e+19</td>\n",
       "      <td>1321509.0</td>\n",
       "      <td>undefined</td>\n",
       "      <td>NaN</td>\n",
       "      <td>88.0</td>\n",
       "      <td>NaN</td>\n",
       "    </tr>\n",
       "  </tbody>\n",
       "</table>\n",
       "</div>"
      ],
      "text/plain": [
       "       customer  sessions_frequency   duration                      handset  \\\n",
       "0  3.366496e+10        1.311450e+19  1823652.0   Samsung Galaxy A5 Sm-A520F   \n",
       "1  3.368185e+10        1.311450e+19  1365104.0  Samsung Galaxy J5 (Sm-J530)   \n",
       "2  3.376063e+10        1.311450e+19  1361762.0     Samsung Galaxy A8 (2018)   \n",
       "3  3.375034e+10        1.311450e+19  1321509.0                    undefined   \n",
       "\n",
       "    rtt    tp  tcp  \n",
       "0  47.0  67.0  NaN  \n",
       "1  70.0  42.0  NaN  \n",
       "2   NaN  15.0  NaN  \n",
       "3   NaN  88.0  NaN  "
      ]
     },
     "execution_count": 6,
     "metadata": {},
     "output_type": "execute_result"
    }
   ],
   "source": [
    "experience_df = pd.DataFrame({'customer':df['MSISDN/Number'],\n",
    "                      'sessions_frequency':df['Bearer Id'],\n",
    "                      'duration':df['Dur. (ms)'],\n",
    "                        'handset':df['Handset Type']})\n",
    "experience_df['rtt'] = df['Avg RTT DL (ms)']+df['Avg RTT UL (ms)']\n",
    "experience_df['tp'] = df['Avg Bearer TP DL (kbps)']+df['Avg Bearer TP UL (kbps)']\n",
    "experience_df['tcp'] = df['TCP DL Retrans. Vol (Bytes)']+df['TCP UL Retrans. Vol (Bytes)']\n",
    "experience_df.head(4)"
   ]
  },
  {
   "cell_type": "markdown",
   "id": "8974fffc",
   "metadata": {},
   "source": [
    "Task 3. 1 - Aggregate, per customer, the following information (treat missing & outliers by replacing by the mean or the mode of the corresponding variable):\n",
    "Average TCP retransmission\n",
    "Average RTT\n",
    "Handset type\n",
    "Average throughput\n"
   ]
  },
  {
   "cell_type": "code",
   "execution_count": 8,
   "id": "99fe1bb2",
   "metadata": {},
   "outputs": [],
   "source": [
    "def generate_pipeline(type_=\"numeric\",x=1):\n",
    "    pipeline = None\n",
    "    if type_ == \"numeric\":\n",
    "        pipeline = Pipeline(steps=[\n",
    "            ('impute', SimpleImputer(strategy='mean')),\n",
    "            ('scale', MinMaxScaler())\n",
    "        ])\n",
    "    elif type_ == \"categorical\":\n",
    "        pipeline = Pipeline(steps=[\n",
    "        ('impute', SimpleImputer(strategy='most_frequent')),\n",
    "        ('one-hot', OneHotEncoder(handle_unknown='ignore', sparse=False))\n",
    "        ])\n",
    "    else:\n",
    "        pipeline = np.zeros(x)\n",
    "    return pipeline"
   ]
  },
  {
   "cell_type": "code",
   "execution_count": 9,
   "id": "5350300c",
   "metadata": {},
   "outputs": [],
   "source": [
    "numeric_pipeline = generate_pipeline(\"numeric\")\n",
    "assert isinstance(numeric_pipeline,Pipeline)"
   ]
  },
  {
   "cell_type": "code",
   "execution_count": 10,
   "id": "7f8d7ff7",
   "metadata": {},
   "outputs": [],
   "source": [
    "categorical_pipeline = generate_pipeline(\"categorical\")\n",
    "assert isinstance(numeric_pipeline,Pipeline)"
   ]
  },
  {
   "cell_type": "code",
   "execution_count": 11,
   "id": "0a26d105",
   "metadata": {},
   "outputs": [],
   "source": [
    "def store_features(df,type_,value):\n",
    "    features = [None]\n",
    "    if type_ == \"numeric\":\n",
    "        features = df.select_dtypes(include=value).columns.tolist()\n",
    "    elif type_ == \"categorical\":\n",
    "        features = df.select_dtypes(exclude=value).columns.tolist()\n",
    "    return features\n"
   ]
  },
  {
   "cell_type": "code",
   "execution_count": 12,
   "id": "e9c9c3f1",
   "metadata": {},
   "outputs": [],
   "source": [
    "categorical_features = store_features(df,\"categorical\",\"number\")"
   ]
  },
  {
   "cell_type": "code",
   "execution_count": 13,
   "id": "e8c13c75",
   "metadata": {},
   "outputs": [],
   "source": [
    "numerical_features = store_features(df,\"numeric\",\"number\")"
   ]
  },
  {
   "cell_type": "code",
   "execution_count": 14,
   "id": "7a303017",
   "metadata": {},
   "outputs": [],
   "source": [
    "def handle_missing_values_numeric(df,features):\n",
    "    \"\"\"\n",
    "    this algorithm does the following\n",
    "    - remove columns with x percentage of missing values\n",
    "    - fill the missing values with the mean\n",
    "    returns:\n",
    "        - df\n",
    "        - percentage of missing values\n",
    "    \"\"\"\n",
    "    missing_percentage = round((df.isnull().sum().sum()/\\\n",
    "            reduce(lambda x, y: x*y, df.shape))*100,2)\n",
    "    for key in features:\n",
    "        df[key] = df[key].fillna(df[key].mean())\n",
    "    return missing_percentage, df"
   ]
  },
  {
   "cell_type": "code",
   "execution_count": 15,
   "id": "6ba3c0f3",
   "metadata": {},
   "outputs": [],
   "source": [
    "def handle_missing_values_categorical(df,features):\n",
    "    \"\"\"\n",
    "    this algorithm does the following\n",
    "    - remove columns with x percentage of missing values\n",
    "    - fill the missing values with the mode\n",
    "    returns:\n",
    "        - df\n",
    "        - percentage of missing values\n",
    "    \"\"\"\n",
    "    missing_percentage = round((df.isnull().sum().sum()/\\\n",
    "            reduce(lambda x, y: x*y, df.shape))*100,2)\n",
    "    for key in features:\n",
    "        df[key] = df[key].fillna(df[key].mode()[0])\n",
    "    return missing_percentage, df"
   ]
  },
  {
   "cell_type": "code",
   "execution_count": 16,
   "id": "07f6ba83",
   "metadata": {},
   "outputs": [
    {
     "ename": "KeyError",
     "evalue": "'Start'",
     "output_type": "error",
     "traceback": [
      "\u001b[0;31m---------------------------------------------------------------------------\u001b[0m",
      "\u001b[0;31mKeyError\u001b[0m                                  Traceback (most recent call last)",
      "File \u001b[0;32m~/Documents/TelComChallenge/env/lib/python3.8/site-packages/pandas/core/indexes/base.py:2898\u001b[0m, in \u001b[0;36mIndex.get_loc\u001b[0;34m(self, key, method, tolerance)\u001b[0m\n\u001b[1;32m   2897\u001b[0m \u001b[38;5;28;01mtry\u001b[39;00m:\n\u001b[0;32m-> 2898\u001b[0m     \u001b[38;5;28;01mreturn\u001b[39;00m \u001b[38;5;28;43mself\u001b[39;49m\u001b[38;5;241;43m.\u001b[39;49m\u001b[43m_engine\u001b[49m\u001b[38;5;241;43m.\u001b[39;49m\u001b[43mget_loc\u001b[49m\u001b[43m(\u001b[49m\u001b[43mcasted_key\u001b[49m\u001b[43m)\u001b[49m\n\u001b[1;32m   2899\u001b[0m \u001b[38;5;28;01mexcept\u001b[39;00m \u001b[38;5;167;01mKeyError\u001b[39;00m \u001b[38;5;28;01mas\u001b[39;00m err:\n",
      "File \u001b[0;32mpandas/_libs/index.pyx:70\u001b[0m, in \u001b[0;36mpandas._libs.index.IndexEngine.get_loc\u001b[0;34m()\u001b[0m\n",
      "File \u001b[0;32mpandas/_libs/index.pyx:101\u001b[0m, in \u001b[0;36mpandas._libs.index.IndexEngine.get_loc\u001b[0;34m()\u001b[0m\n",
      "File \u001b[0;32mpandas/_libs/hashtable_class_helper.pxi:1675\u001b[0m, in \u001b[0;36mpandas._libs.hashtable.PyObjectHashTable.get_item\u001b[0;34m()\u001b[0m\n",
      "File \u001b[0;32mpandas/_libs/hashtable_class_helper.pxi:1683\u001b[0m, in \u001b[0;36mpandas._libs.hashtable.PyObjectHashTable.get_item\u001b[0;34m()\u001b[0m\n",
      "\u001b[0;31mKeyError\u001b[0m: 'Start'",
      "\nThe above exception was the direct cause of the following exception:\n",
      "\u001b[0;31mKeyError\u001b[0m                                  Traceback (most recent call last)",
      "Input \u001b[0;32mIn [16]\u001b[0m, in \u001b[0;36m<cell line: 1>\u001b[0;34m()\u001b[0m\n\u001b[0;32m----> 1\u001b[0m \u001b[43mhandle_missing_values_categorical\u001b[49m\u001b[43m(\u001b[49m\u001b[43mexperience_df\u001b[49m\u001b[43m,\u001b[49m\u001b[43mcategorical_features\u001b[49m\u001b[43m)\u001b[49m\n",
      "Input \u001b[0;32mIn [15]\u001b[0m, in \u001b[0;36mhandle_missing_values_categorical\u001b[0;34m(df, features)\u001b[0m\n\u001b[1;32m     10\u001b[0m missing_percentage \u001b[38;5;241m=\u001b[39m \u001b[38;5;28mround\u001b[39m((df\u001b[38;5;241m.\u001b[39misnull()\u001b[38;5;241m.\u001b[39msum()\u001b[38;5;241m.\u001b[39msum()\u001b[38;5;241m/\u001b[39m\\\n\u001b[1;32m     11\u001b[0m         reduce(\u001b[38;5;28;01mlambda\u001b[39;00m x, y: x\u001b[38;5;241m*\u001b[39my, df\u001b[38;5;241m.\u001b[39mshape))\u001b[38;5;241m*\u001b[39m\u001b[38;5;241m100\u001b[39m,\u001b[38;5;241m2\u001b[39m)\n\u001b[1;32m     12\u001b[0m \u001b[38;5;28;01mfor\u001b[39;00m key \u001b[38;5;129;01min\u001b[39;00m features:\n\u001b[0;32m---> 13\u001b[0m     df[key] \u001b[38;5;241m=\u001b[39m \u001b[43mdf\u001b[49m\u001b[43m[\u001b[49m\u001b[43mkey\u001b[49m\u001b[43m]\u001b[49m\u001b[38;5;241m.\u001b[39mfillna(df[key]\u001b[38;5;241m.\u001b[39mmode()[\u001b[38;5;241m0\u001b[39m])\n\u001b[1;32m     14\u001b[0m \u001b[38;5;28;01mreturn\u001b[39;00m missing_percentage, df\n",
      "File \u001b[0;32m~/Documents/TelComChallenge/env/lib/python3.8/site-packages/pandas/core/frame.py:2906\u001b[0m, in \u001b[0;36mDataFrame.__getitem__\u001b[0;34m(self, key)\u001b[0m\n\u001b[1;32m   2904\u001b[0m \u001b[38;5;28;01mif\u001b[39;00m \u001b[38;5;28mself\u001b[39m\u001b[38;5;241m.\u001b[39mcolumns\u001b[38;5;241m.\u001b[39mnlevels \u001b[38;5;241m>\u001b[39m \u001b[38;5;241m1\u001b[39m:\n\u001b[1;32m   2905\u001b[0m     \u001b[38;5;28;01mreturn\u001b[39;00m \u001b[38;5;28mself\u001b[39m\u001b[38;5;241m.\u001b[39m_getitem_multilevel(key)\n\u001b[0;32m-> 2906\u001b[0m indexer \u001b[38;5;241m=\u001b[39m \u001b[38;5;28;43mself\u001b[39;49m\u001b[38;5;241;43m.\u001b[39;49m\u001b[43mcolumns\u001b[49m\u001b[38;5;241;43m.\u001b[39;49m\u001b[43mget_loc\u001b[49m\u001b[43m(\u001b[49m\u001b[43mkey\u001b[49m\u001b[43m)\u001b[49m\n\u001b[1;32m   2907\u001b[0m \u001b[38;5;28;01mif\u001b[39;00m is_integer(indexer):\n\u001b[1;32m   2908\u001b[0m     indexer \u001b[38;5;241m=\u001b[39m [indexer]\n",
      "File \u001b[0;32m~/Documents/TelComChallenge/env/lib/python3.8/site-packages/pandas/core/indexes/base.py:2900\u001b[0m, in \u001b[0;36mIndex.get_loc\u001b[0;34m(self, key, method, tolerance)\u001b[0m\n\u001b[1;32m   2898\u001b[0m         \u001b[38;5;28;01mreturn\u001b[39;00m \u001b[38;5;28mself\u001b[39m\u001b[38;5;241m.\u001b[39m_engine\u001b[38;5;241m.\u001b[39mget_loc(casted_key)\n\u001b[1;32m   2899\u001b[0m     \u001b[38;5;28;01mexcept\u001b[39;00m \u001b[38;5;167;01mKeyError\u001b[39;00m \u001b[38;5;28;01mas\u001b[39;00m err:\n\u001b[0;32m-> 2900\u001b[0m         \u001b[38;5;28;01mraise\u001b[39;00m \u001b[38;5;167;01mKeyError\u001b[39;00m(key) \u001b[38;5;28;01mfrom\u001b[39;00m \u001b[38;5;21;01merr\u001b[39;00m\n\u001b[1;32m   2902\u001b[0m \u001b[38;5;28;01mif\u001b[39;00m tolerance \u001b[38;5;129;01mis\u001b[39;00m \u001b[38;5;129;01mnot\u001b[39;00m \u001b[38;5;28;01mNone\u001b[39;00m:\n\u001b[1;32m   2903\u001b[0m     tolerance \u001b[38;5;241m=\u001b[39m \u001b[38;5;28mself\u001b[39m\u001b[38;5;241m.\u001b[39m_convert_tolerance(tolerance, np\u001b[38;5;241m.\u001b[39masarray(key))\n",
      "\u001b[0;31mKeyError\u001b[0m: 'Start'"
     ]
    }
   ],
   "source": [
    "handle_missing_values_categorical(experience_df,categorical_features)"
   ]
  },
  {
   "cell_type": "code",
   "execution_count": 7,
   "id": "a63eb5fd",
   "metadata": {},
   "outputs": [],
   "source": [
    "def aggregation_cols(df,col_1,col_2,trim=False):\n",
    "    \n",
    "    grouped = df.groupby(col_1).agg({col_2: [min, max, mean]}) \n",
    "    grouped.columns = [\"_\".join(x) for x in grouped.columns.ravel()]\n",
    "    if trim:\n",
    "        return grouped.describe()\n",
    "    return grouped"
   ]
  },
  {
   "cell_type": "code",
   "execution_count": null,
   "id": "e8d1cb73",
   "metadata": {},
   "outputs": [],
   "source": [
    "duration_aggregation = aggregation_cols(app_df,'customer','rtt')\n",
    "top_customers_duration = duration_aggregation.sort_values(by='duration_max', ascending=False)\n",
    "top_customers_duration.head(10)"
   ]
  }
 ],
 "metadata": {
  "kernelspec": {
   "display_name": "Python 3 (ipykernel)",
   "language": "python",
   "name": "python3"
  },
  "language_info": {
   "codemirror_mode": {
    "name": "ipython",
    "version": 3
   },
   "file_extension": ".py",
   "mimetype": "text/x-python",
   "name": "python",
   "nbconvert_exporter": "python",
   "pygments_lexer": "ipython3",
   "version": "3.8.10"
  }
 },
 "nbformat": 4,
 "nbformat_minor": 5
}
