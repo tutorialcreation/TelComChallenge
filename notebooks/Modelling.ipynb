{
 "cells": [
  {
   "cell_type": "code",
   "execution_count": 1,
   "id": "2fd8fd23",
   "metadata": {},
   "outputs": [],
   "source": [
    "import warnings\n",
    "from xml.etree.ElementInclude import include\n",
    "warnings.filterwarnings('ignore')\n",
    "import matplotlib.pyplot as plt\n",
    "import pandas as pd\n",
    "from functools import reduce\n",
    "from sklearn.impute import SimpleImputer\n",
    "from sklearn.decomposition import PCA\n",
    "from sklearn.preprocessing import OneHotEncoder, MinMaxScaler\n",
    "from sklearn.pipeline import Pipeline\n",
    "from sklearn.model_selection import train_test_split\n",
    "from statistics import mean\n",
    "import numpy as np\n",
    "import statsmodels.api as sm\n",
    "\n",
    "\n",
    "import matplotlib\n",
    "plt.style.use('ggplot')\n",
    "\n",
    "matplotlib.rcParams['figure.figsize'] = (12,8)\n",
    "\n",
    "pd.options.mode.chained_assignment = None\n",
    "\n",
    "import seaborn as sns\n",
    "\n"
   ]
  },
  {
   "cell_type": "markdown",
   "id": "82c61dff",
   "metadata": {},
   "source": [
    "In the current dataset you’re expected to track the user’s engagement using the following engagement metrics: \n",
    "sessions frequency \n",
    "the duration of the session \n",
    "the sessions total traffic (download and upload (bytes))???\n",
    "How do we solve this problem?\n",
    "- we recognise a user as MSISDN/NUMBER\n",
    "- group the users based on the data used on the apps,\n",
    "- determine what parameters can help portray engagement\n"
   ]
  },
  {
   "cell_type": "code",
   "execution_count": 2,
   "id": "7a8c32bb",
   "metadata": {},
   "outputs": [],
   "source": [
    "df = pd.read_csv(\"../data/telcom.csv\")"
   ]
  },
  {
   "cell_type": "code",
   "execution_count": 14,
   "id": "df174cab",
   "metadata": {},
   "outputs": [],
   "source": [
    "app_df = pd.DataFrame({'customer':df['MSISDN/Number'],\n",
    "                      'sessions_frequency':df['Bearer Id'],\n",
    "                      'duration':df['Dur. (ms)']})\n",
    "app_df['social_media_data'] = df['Social Media DL (Bytes)'] + df['Social Media UL (Bytes)']\n",
    "app_df['google_data'] = df['Google DL (Bytes)'] + df['Google UL (Bytes)'] \n",
    "app_df['email_data'] = df['Email DL (Bytes)'] + df['Email UL (Bytes)'] \n",
    "app_df['youtube_data'] = df['Youtube DL (Bytes)'] + df['Youtube UL (Bytes)']\n",
    "app_df['netflix_data'] = df['Netflix DL (Bytes)'] + df['Netflix UL (Bytes)']\n",
    "app_df['gaming_data'] = df['Gaming DL (Bytes)'] + df['Gaming UL (Bytes)'] \n",
    "app_df['other_data'] = df['Other DL (Bytes)'] + df['Other UL (Bytes)']\n",
    "app_df['total_data'] = df['Total UL (Bytes)'] + df['Total DL (Bytes)']"
   ]
  },
  {
   "cell_type": "code",
   "execution_count": 15,
   "id": "195bc908",
   "metadata": {},
   "outputs": [
    {
     "data": {
      "text/html": [
       "<div>\n",
       "<style scoped>\n",
       "    .dataframe tbody tr th:only-of-type {\n",
       "        vertical-align: middle;\n",
       "    }\n",
       "\n",
       "    .dataframe tbody tr th {\n",
       "        vertical-align: top;\n",
       "    }\n",
       "\n",
       "    .dataframe thead th {\n",
       "        text-align: right;\n",
       "    }\n",
       "</style>\n",
       "<table border=\"1\" class=\"dataframe\">\n",
       "  <thead>\n",
       "    <tr style=\"text-align: right;\">\n",
       "      <th></th>\n",
       "      <th>customer</th>\n",
       "      <th>sessions_frequency</th>\n",
       "      <th>duration</th>\n",
       "      <th>social_media_data</th>\n",
       "      <th>google_data</th>\n",
       "      <th>email_data</th>\n",
       "      <th>youtube_data</th>\n",
       "      <th>netflix_data</th>\n",
       "      <th>gaming_data</th>\n",
       "      <th>other_data</th>\n",
       "      <th>total_data</th>\n",
       "    </tr>\n",
       "  </thead>\n",
       "  <tbody>\n",
       "    <tr>\n",
       "      <th>0</th>\n",
       "      <td>3.366496e+10</td>\n",
       "      <td>1.311450e+19</td>\n",
       "      <td>1823652.0</td>\n",
       "      <td>1570185.0</td>\n",
       "      <td>2905912.0</td>\n",
       "      <td>3701304.0</td>\n",
       "      <td>18355943.0</td>\n",
       "      <td>17855187.0</td>\n",
       "      <td>292426453.0</td>\n",
       "      <td>180558843.0</td>\n",
       "      <td>345629377.0</td>\n",
       "    </tr>\n",
       "    <tr>\n",
       "      <th>1</th>\n",
       "      <td>3.368185e+10</td>\n",
       "      <td>1.311450e+19</td>\n",
       "      <td>1365104.0</td>\n",
       "      <td>1933278.0</td>\n",
       "      <td>4414096.0</td>\n",
       "      <td>937385.0</td>\n",
       "      <td>39359124.0</td>\n",
       "      <td>35565545.0</td>\n",
       "      <td>609920783.0</td>\n",
       "      <td>541959383.0</td>\n",
       "      <td>707185356.0</td>\n",
       "    </tr>\n",
       "    <tr>\n",
       "      <th>2</th>\n",
       "      <td>3.376063e+10</td>\n",
       "      <td>1.311450e+19</td>\n",
       "      <td>1361762.0</td>\n",
       "      <td>1726277.0</td>\n",
       "      <td>10229119.0</td>\n",
       "      <td>3363124.0</td>\n",
       "      <td>34425237.0</td>\n",
       "      <td>23751202.0</td>\n",
       "      <td>229980251.0</td>\n",
       "      <td>414908351.0</td>\n",
       "      <td>307690973.0</td>\n",
       "    </tr>\n",
       "    <tr>\n",
       "      <th>3</th>\n",
       "      <td>3.375034e+10</td>\n",
       "      <td>1.311450e+19</td>\n",
       "      <td>1321509.0</td>\n",
       "      <td>657493.0</td>\n",
       "      <td>11811761.0</td>\n",
       "      <td>2070983.0</td>\n",
       "      <td>36534765.0</td>\n",
       "      <td>15092588.0</td>\n",
       "      <td>810387875.0</td>\n",
       "      <td>761837216.0</td>\n",
       "      <td>889352748.0</td>\n",
       "    </tr>\n",
       "    <tr>\n",
       "      <th>4</th>\n",
       "      <td>3.369980e+10</td>\n",
       "      <td>1.311450e+19</td>\n",
       "      <td>1089009.0</td>\n",
       "      <td>912788.0</td>\n",
       "      <td>7748843.0</td>\n",
       "      <td>2110349.0</td>\n",
       "      <td>34222253.0</td>\n",
       "      <td>17539799.0</td>\n",
       "      <td>531237049.0</td>\n",
       "      <td>564619822.0</td>\n",
       "      <td>607681403.0</td>\n",
       "    </tr>\n",
       "  </tbody>\n",
       "</table>\n",
       "</div>"
      ],
      "text/plain": [
       "       customer  sessions_frequency   duration  social_media_data  \\\n",
       "0  3.366496e+10        1.311450e+19  1823652.0          1570185.0   \n",
       "1  3.368185e+10        1.311450e+19  1365104.0          1933278.0   \n",
       "2  3.376063e+10        1.311450e+19  1361762.0          1726277.0   \n",
       "3  3.375034e+10        1.311450e+19  1321509.0           657493.0   \n",
       "4  3.369980e+10        1.311450e+19  1089009.0           912788.0   \n",
       "\n",
       "   google_data  email_data  youtube_data  netflix_data  gaming_data  \\\n",
       "0    2905912.0   3701304.0    18355943.0    17855187.0  292426453.0   \n",
       "1    4414096.0    937385.0    39359124.0    35565545.0  609920783.0   \n",
       "2   10229119.0   3363124.0    34425237.0    23751202.0  229980251.0   \n",
       "3   11811761.0   2070983.0    36534765.0    15092588.0  810387875.0   \n",
       "4    7748843.0   2110349.0    34222253.0    17539799.0  531237049.0   \n",
       "\n",
       "    other_data   total_data  \n",
       "0  180558843.0  345629377.0  \n",
       "1  541959383.0  707185356.0  \n",
       "2  414908351.0  307690973.0  \n",
       "3  761837216.0  889352748.0  \n",
       "4  564619822.0  607681403.0  "
      ]
     },
     "execution_count": 15,
     "metadata": {},
     "output_type": "execute_result"
    }
   ],
   "source": [
    "app_df.head()"
   ]
  },
  {
   "cell_type": "code",
   "execution_count": 20,
   "id": "21772dfa",
   "metadata": {},
   "outputs": [],
   "source": [
    "def aggregation_cols(df,col_1,col_2,trim=False):\n",
    "    \n",
    "    grouped = df.groupby(col_1).agg({col_2: [min, max, mean]}) \n",
    "    grouped.columns = [\"_\".join(x) for x in grouped.columns.ravel()]\n",
    "    if trim:\n",
    "        return grouped.describe()\n",
    "    return grouped"
   ]
  },
  {
   "cell_type": "code",
   "execution_count": null,
   "id": "2438349a",
   "metadata": {},
   "outputs": [],
   "source": [
    "aggregation_cols(df,'customer','to',True)"
   ]
  },
  {
   "cell_type": "code",
   "execution_count": 18,
   "id": "cd13ffef",
   "metadata": {},
   "outputs": [
    {
     "data": {
      "text/plain": [
       "MultiIndex([('sessions_frequency', 'mean'),\n",
       "            ('sessions_frequency',  'min'),\n",
       "            ('sessions_frequency',  'max')],\n",
       "           )"
      ]
     },
     "execution_count": 18,
     "metadata": {},
     "output_type": "execute_result"
    }
   ],
   "source": [
    "top_sessions.columns"
   ]
  }
 ],
 "metadata": {
  "kernelspec": {
   "display_name": "Python 3 (ipykernel)",
   "language": "python",
   "name": "python3"
  },
  "language_info": {
   "codemirror_mode": {
    "name": "ipython",
    "version": 3
   },
   "file_extension": ".py",
   "mimetype": "text/x-python",
   "name": "python",
   "nbconvert_exporter": "python",
   "pygments_lexer": "ipython3",
   "version": "3.7.9"
  }
 },
 "nbformat": 4,
 "nbformat_minor": 5
}
